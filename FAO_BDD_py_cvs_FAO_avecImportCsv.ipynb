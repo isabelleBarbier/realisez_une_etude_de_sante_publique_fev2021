{
 "cells": [
  {
   "cell_type": "markdown",
   "metadata": {},
   "source": [
    "# Création de la base de données FAO 'py_cvs_FAO.db' et des tables"
   ]
  },
  {
   "cell_type": "markdown",
   "metadata": {},
   "source": [
    "## Création des tables avec remplissage des données à partir de la lecture ligne par ligne des fichiers csv ( lecture fichier sous python)"
   ]
  },
  {
   "cell_type": "markdown",
   "metadata": {},
   "source": [
    "#### Cette base de données est utilisée pour les requêtes implémentées en Python"
   ]
  },
  {
   "cell_type": "markdown",
   "metadata": {},
   "source": [
    "#### Connexion, création d'un objet curseur, création des tables, commit et déconnexion"
   ]
  },
  {
   "cell_type": "code",
   "execution_count": 1,
   "metadata": {},
   "outputs": [],
   "source": [
    "# coding: utf8"
   ]
  },
  {
   "cell_type": "code",
   "execution_count": 2,
   "metadata": {},
   "outputs": [],
   "source": [
    "import sqlite3"
   ]
  },
  {
   "cell_type": "code",
   "execution_count": 3,
   "metadata": {},
   "outputs": [],
   "source": [
    "import csv"
   ]
  },
  {
   "cell_type": "code",
   "execution_count": 4,
   "metadata": {},
   "outputs": [],
   "source": [
    "# Pour l'encodage des fichiers csv \n",
    "ENCODAGE = 'UTF-8'"
   ]
  },
  {
   "cell_type": "code",
   "execution_count": 5,
   "metadata": {},
   "outputs": [],
   "source": [
    "# Connexion à la base de données\n",
    "connexion = sqlite3.connect(\"py_cvs_FAO.db\")"
   ]
  },
  {
   "cell_type": "code",
   "execution_count": 6,
   "metadata": {},
   "outputs": [],
   "source": [
    "# Création d'un curseur sur la base (pour manipuler la base)\n",
    "cursor = connexion.cursor()"
   ]
  },
  {
   "cell_type": "markdown",
   "metadata": {},
   "source": [
    "### Création des tables"
   ]
  },
  {
   "cell_type": "code",
   "execution_count": 8,
   "metadata": {
    "scrolled": true
   },
   "outputs": [
    {
     "data": {
      "text/plain": [
       "<sqlite3.Cursor at 0x26dcf05a810>"
      ]
     },
     "execution_count": 8,
     "metadata": {},
     "output_type": "execute_result"
    }
   ],
   "source": [
    "# Création de la table 'Population' si elle n'existe pas encore\n",
    "cursor.execute('''CREATE TABLE IF NOT EXISTS Population (\n",
    "        id_pop INTEGER PRIMARY KEY AUTOINCREMENT UNIQUE,\n",
    "        pays TEXT NOT NULL,\n",
    "        code_pays INTEGER NOT NULL,\n",
    "        annee DATE NOT NULL,\n",
    "        population TEXT)''')"
   ]
  },
  {
   "cell_type": "code",
   "execution_count": 10,
   "metadata": {},
   "outputs": [
    {
     "data": {
      "text/plain": [
       "<sqlite3.Cursor at 0x26dcf05a810>"
      ]
     },
     "execution_count": 10,
     "metadata": {},
     "output_type": "execute_result"
    }
   ],
   "source": [
    "# Création de la table 'Dispo_alim' si elle n'existe pas encore\n",
    "cursor.execute('''CREATE TABLE IF NOT EXISTS Dispo_alim (\n",
    "        id_disp INTEGER PRIMARY KEY AUTOINCREMENT UNIQUE,\n",
    "        pays TEXT NOT NULL,\n",
    "        code_pays INTEGER NOT NULL,\n",
    "        annee DATE NOT NULL,\n",
    "        produit TEXT NOT NULL,\n",
    "        code_produit INTEGER NOT NULL,\n",
    "        origin TEXT NOT NULL, dispo_alim_tonnes REAL,\n",
    "        dispo_alim_kcal_p_j REAL,\n",
    "        dispo_prot REAL,\n",
    "        dispo_mat_gr REAL)''')"
   ]
  },
  {
   "cell_type": "code",
   "execution_count": 12,
   "metadata": {},
   "outputs": [
    {
     "data": {
      "text/plain": [
       "<sqlite3.Cursor at 0x26dcf05a810>"
      ]
     },
     "execution_count": 12,
     "metadata": {},
     "output_type": "execute_result"
    }
   ],
   "source": [
    "# Création de la table 'Sous_nutrition' si elle n'existe pas encore\n",
    "cursor.execute('''CREATE TABLE IF NOT EXISTS Sous_nutrition (\n",
    "        id_sousNutri INTEGER PRIMARY KEY AUTOINCREMENT UNIQUE,\n",
    "        pays TEXT NOT NULL,\n",
    "        code_pays INTEGER NOT NULL,\n",
    "        annee DATE NOT NULL,\n",
    "        nb_personnes TEXT)''')"
   ]
  },
  {
   "cell_type": "code",
   "execution_count": 14,
   "metadata": {},
   "outputs": [
    {
     "data": {
      "text/plain": [
       "<sqlite3.Cursor at 0x26dcf05a810>"
      ]
     },
     "execution_count": 14,
     "metadata": {},
     "output_type": "execute_result"
    }
   ],
   "source": [
    "# Création de la table 'Equilibre_prod' si elle n'existe pas encore\n",
    "cursor.execute('''CREATE TABLE IF NOT EXISTS Equilibre_prod (\n",
    "        id_equil INTEGER PRIMARY KEY AUTOINCREMENT UNIQUE,\n",
    "        pays TEXT NOT NULL,\n",
    "        code_pays INTEGER NOT NULL,\n",
    "        annee DATE NOT NULL,\n",
    "        produit TEXT NOT NULL,\n",
    "        code_produit INTEGER NOT NULL,\n",
    "        dispo_int REAL,\n",
    "        alim_ani REAL,\n",
    "        semences REAL,\n",
    "        pertes REAL,\n",
    "        transfo REAL,\n",
    "        nourriture REAL,\n",
    "        autres_utilisations REAL)''')"
   ]
  },
  {
   "cell_type": "markdown",
   "metadata": {},
   "source": [
    "### Enregistrements des données dans les bases de données créees"
   ]
  },
  {
   "cell_type": "code",
   "execution_count": 15,
   "metadata": {},
   "outputs": [],
   "source": [
    "# Ouverture du fichier csv en lecture avec encodage 'UTF-8' et obtention d'un dictionnaire par ligne contenant les données en utilisant DictReader()\n",
    "with open('population.csv', 'r', encoding=ENCODAGE) as fichierPopulation:\n",
    "    CSVPopulation = csv.DictReader(fichierPopulation, delimiter=',')\n",
    "    for ligne in CSVPopulation:\n",
    "        cursor.execute(\"INSERT INTO Population (id_pop, pays, code_pays, annee, population) VALUES(NULL, :pays, :code_pays, :annee, :population)\", ligne)\n",
    "       "
   ]
  },
  {
   "cell_type": "code",
   "execution_count": 16,
   "metadata": {},
   "outputs": [],
   "source": [
    "# Ouverture du fichier csv en lecture avec encodage 'UTF-8' et obtention d'un dictionnaire par ligne contenant les données en utilisant DictReader()\n",
    "with open('dispo_alim.csv', 'r', encoding=ENCODAGE) as fichierDispoAlim:\n",
    "    CSVDispo_alim = csv.DictReader(fichierDispoAlim, delimiter=',')       \n",
    "    for ligne in CSVDispo_alim:    \n",
    "        cursor.execute(\"INSERT INTO Dispo_alim (id_disp, pays, code_pays, annee, produit, code_produit, origin, dispo_alim_tonnes, dispo_alim_kcal_p_j, dispo_prot, dispo_mat_gr) VALUES(NULL, :pays, :code_pays, :annee, :produit, :code_produit, :origin, :dispo_alim_tonnes, :dispo_alim_kcal_p_j, :dispo_prot, :dispo_mat_gr)\", ligne)"
   ]
  },
  {
   "cell_type": "code",
   "execution_count": 17,
   "metadata": {},
   "outputs": [],
   "source": [
    "# Ouverture du fichier csv en lecture avec encodage 'UTF-8' et obtention d'un dictionnaire par ligne contenant les données en utilisant DictReader()\n",
    "with open('sous_nutrition.csv', 'r', encoding=ENCODAGE) as fichierSous_nutrition:    \n",
    "    CSVSous_nutrition = csv.DictReader(fichierSous_nutrition, delimiter=',')\n",
    "    for ligne in CSVSous_nutrition:        \n",
    "         cursor.execute(\"INSERT INTO Sous_nutrition (id_sousNutri, pays, code_pays, annee, nb_personnes) VALUES(NULL, :pays, :code_pays, :annee, :nb_personnes)\",ligne)"
   ]
  },
  {
   "cell_type": "code",
   "execution_count": 18,
   "metadata": {},
   "outputs": [],
   "source": [
    "# Ouverture du fichier csv en lecture avec encodage 'UTF-8' et obtention d'un dictionnaire par ligne contenant les données en utilisant DictReader()  \n",
    "with open('equilibre_prod.csv', 'r', encoding=ENCODAGE) as fichierEquilibre_prod:\n",
    "    CSVEquilibre_prod = csv.DictReader(fichierEquilibre_prod, delimiter=',')\n",
    "    for ligne in CSVEquilibre_prod:\n",
    "        cursor.execute(\"INSERT INTO Equilibre_prod (id_equil, pays, code_pays, annee, produit, code_produit, dispo_int, alim_ani, semences, pertes, transfo, nourriture, autres_utilisations) VALUES(NULL, :pays, :code_pays, :annee, :produit, :code_produit, :dispo_int, :alim_ani, :semences, :pertes, :transfo, :nourriture, :autres_utilisations)\", ligne)"
   ]
  },
  {
   "cell_type": "code",
   "execution_count": 19,
   "metadata": {},
   "outputs": [],
   "source": [
    "# Enregistrement des modifications dans la base de données\n",
    "connexion.commit()"
   ]
  },
  {
   "cell_type": "code",
   "execution_count": 20,
   "metadata": {},
   "outputs": [],
   "source": [
    "cursor.close()"
   ]
  },
  {
   "cell_type": "code",
   "execution_count": 21,
   "metadata": {},
   "outputs": [],
   "source": [
    "connexion.close()"
   ]
  }
 ],
 "metadata": {
  "kernelspec": {
   "display_name": "Python 3",
   "language": "python",
   "name": "python3"
  },
  "language_info": {
   "codemirror_mode": {
    "name": "ipython",
    "version": 3
   },
   "file_extension": ".py",
   "mimetype": "text/x-python",
   "name": "python",
   "nbconvert_exporter": "python",
   "pygments_lexer": "ipython3",
   "version": "3.8.5"
  }
 },
 "nbformat": 4,
 "nbformat_minor": 4
}
