{
 "cells": [
  {
   "cell_type": "markdown",
   "metadata": {},
   "source": [
    "# Création de fichiers CSV pour la future base de données FAO"
   ]
  },
  {
   "cell_type": "markdown",
   "metadata": {},
   "source": [
    "### En vue de l'insertion des données dans une base de données relationnelle"
   ]
  },
  {
   "cell_type": "code",
   "execution_count": 1,
   "metadata": {},
   "outputs": [],
   "source": [
    "# Création des différentes tables (nettoyage données, mise en forme...) \n",
    "# Export en CSV\n",
    "# Création d'une BDD avec incorporation des tables"
   ]
  },
  {
   "cell_type": "code",
   "execution_count": 2,
   "metadata": {},
   "outputs": [],
   "source": [
    "# coding: utf8"
   ]
  },
  {
   "cell_type": "code",
   "execution_count": 3,
   "metadata": {},
   "outputs": [],
   "source": [
    "import pandas as pd"
   ]
  },
  {
   "cell_type": "code",
   "execution_count": 4,
   "metadata": {},
   "outputs": [],
   "source": [
    "import numpy as np"
   ]
  },
  {
   "cell_type": "code",
   "execution_count": 5,
   "metadata": {},
   "outputs": [],
   "source": [
    "# -*- coding: utf-8 -*-\n",
    "import sqlite3"
   ]
  },
  {
   "cell_type": "code",
   "execution_count": 6,
   "metadata": {},
   "outputs": [],
   "source": [
    "# Code to find primary key (with 1 or multiple columns)\n",
    "def is_primary_key(df, cols_to_check):\n",
    "    '''\n",
    "    cols_to_check: (List)\n",
    "    '''\n",
    "    for col in cols_to_check :\n",
    "        if col not in cols_to_check :\n",
    "            raise ValueError('These columns are not in the dataframe.')\n",
    "    if len(df) != len(df[cols_to_check].drop_duplicates()):\n",
    "        raise Exception(\"The set of columns: {}, can't define a primary key\".format(cols_to_check))\n",
    "    print('Primary key found!')"
   ]
  },
  {
   "cell_type": "code",
   "execution_count": 7,
   "metadata": {},
   "outputs": [],
   "source": [
    "# Filtre sur la colonne 'element' (avant pivot)\n",
    "def filtre_element(code_pays,intitule_element,code_produit, df):\n",
    "    pays_filter = df['code_pays'] == code_pays\n",
    "    elementFilter = df['element'] == intitule_element\n",
    "    productFilter = df['code_produit'] == code_produit\n",
    "    df_selection = df[pays_filter & elementFilter & productFilter]\n",
    "    return df_selection\n",
    "   "
   ]
  },
  {
   "cell_type": "code",
   "execution_count": 8,
   "metadata": {},
   "outputs": [],
   "source": [
    "# Création de la table 'population' contenant la population de chaque pays pour 2013. \n",
    "# Elle contient 4 colonnes : pays, code_pays, annee, population."
   ]
  },
  {
   "cell_type": "code",
   "execution_count": 9,
   "metadata": {},
   "outputs": [],
   "source": [
    "populationCsv = pd.read_csv(\"fr_population.csv\", encoding='UTF-8')"
   ]
  },
  {
   "cell_type": "code",
   "execution_count": 10,
   "metadata": {},
   "outputs": [],
   "source": [
    "# Sélection des colonnes Zone, Code zone, Année, Produit\n",
    "populationForm = populationCsv.loc[:, ['Code zone', 'Zone', 'Valeur', 'Année']]"
   ]
  },
  {
   "cell_type": "code",
   "execution_count": 11,
   "metadata": {},
   "outputs": [],
   "source": [
    "# 'Valeur' correspond au nombre d'individus (=> * 1000)\n",
    "populationForm['Valeur'] = populationForm['Valeur'] * 1000"
   ]
  },
  {
   "cell_type": "code",
   "execution_count": 12,
   "metadata": {},
   "outputs": [],
   "source": [
    "# Renommage des colomnes\n",
    "populationRen = populationForm.rename({'Code zone':'code_pays',\n",
    "                                'Zone': 'pays',\n",
    "                                'Valeur':'population',\n",
    "                                'Année':'annee'}, axis=1)                            \n",
    "                        "
   ]
  },
  {
   "cell_type": "code",
   "execution_count": 13,
   "metadata": {},
   "outputs": [],
   "source": [
    "# Les colomnes sont mises dans l'ordre : pays, code_pays, annee, population\n",
    "populationRen = populationRen[['pays', 'code_pays', 'annee', 'population']]"
   ]
  },
  {
   "cell_type": "code",
   "execution_count": 14,
   "metadata": {},
   "outputs": [],
   "source": [
    "# Suppression de la Chine :\n",
    "population = populationRen[~populationRen.pays.isin(['Chine'])]"
   ]
  },
  {
   "cell_type": "code",
   "execution_count": 15,
   "metadata": {},
   "outputs": [
    {
     "name": "stdout",
     "output_type": "stream",
     "text": [
      "<class 'pandas.core.frame.DataFrame'>\n",
      "Int64Index: 174 entries, 0 to 174\n",
      "Data columns (total 4 columns):\n",
      " #   Column      Non-Null Count  Dtype \n",
      "---  ------      --------------  ----- \n",
      " 0   pays        174 non-null    object\n",
      " 1   code_pays   174 non-null    int64 \n",
      " 2   annee       174 non-null    int64 \n",
      " 3   population  174 non-null    int64 \n",
      "dtypes: int64(3), object(1)\n",
      "memory usage: 6.8+ KB\n"
     ]
    }
   ],
   "source": [
    "population.info()"
   ]
  },
  {
   "cell_type": "code",
   "execution_count": 16,
   "metadata": {},
   "outputs": [
    {
     "data": {
      "text/plain": [
       "pandas.core.frame.DataFrame"
      ]
     },
     "execution_count": 16,
     "metadata": {},
     "output_type": "execute_result"
    }
   ],
   "source": [
    "type(population)"
   ]
  },
  {
   "cell_type": "code",
   "execution_count": 17,
   "metadata": {},
   "outputs": [
    {
     "data": {
      "text/plain": [
       "(174, 4)"
      ]
     },
     "execution_count": 17,
     "metadata": {},
     "output_type": "execute_result"
    }
   ],
   "source": [
    "population.shape"
   ]
  },
  {
   "cell_type": "markdown",
   "metadata": {},
   "source": [
    "## Question 15 : Proposez une clé primaire pertinente pour la table 'population."
   ]
  },
  {
   "cell_type": "code",
   "execution_count": 18,
   "metadata": {},
   "outputs": [],
   "source": [
    "# Clé primaire : pays - code_pays"
   ]
  },
  {
   "cell_type": "code",
   "execution_count": 19,
   "metadata": {},
   "outputs": [
    {
     "data": {
      "text/plain": [
       "Index(['pays', 'code_pays', 'annee', 'population'], dtype='object')"
      ]
     },
     "execution_count": 19,
     "metadata": {},
     "output_type": "execute_result"
    }
   ],
   "source": [
    "population.columns"
   ]
  },
  {
   "cell_type": "code",
   "execution_count": 20,
   "metadata": {
    "scrolled": true
   },
   "outputs": [
    {
     "name": "stdout",
     "output_type": "stream",
     "text": [
      "Primary key found!\n"
     ]
    }
   ],
   "source": [
    "is_primary_key(population, ['code_pays'])"
   ]
  },
  {
   "cell_type": "code",
   "execution_count": 21,
   "metadata": {},
   "outputs": [],
   "source": [
    "# Export de la table population en csv\n",
    "population.to_csv(\"population.csv\", index = False, encoding='UTF-8')"
   ]
  },
  {
   "cell_type": "code",
   "execution_count": 22,
   "metadata": {},
   "outputs": [],
   "source": [
    "# Création d'une table 'dispo_alim' contenant pour chaque pays et pour chaque produit en 2013, les informations suivantes:\n",
    "# la nature du produit (deux valeurs possibles : “animal” ou “végétal”)\n",
    "# disponibilité alimentaire en tonnes\n",
    "# disponibilité alimentaire en Kcal/personne/jour\n",
    "# disponibilité alimentaire de protéines en g/personne/jour\n",
    "# disponibilité alimentaire de matières grasses en g/personne/jour\n",
    "# Elle contient les colonnes : pays, code_pays, année, produit, code_produit, origin, dispo_alim_tonnes, dispo_alim_kcal_p_j, dispo_prot, dispo_mat_gr .\n"
   ]
  },
  {
   "cell_type": "code",
   "execution_count": 23,
   "metadata": {},
   "outputs": [],
   "source": [
    "df_animaux = pd.read_csv(\"fr_animaux.csv\")\n",
    "df_vegetaux = pd.read_csv(\"fr_vegetaux.csv\")"
   ]
  },
  {
   "cell_type": "code",
   "execution_count": 24,
   "metadata": {},
   "outputs": [],
   "source": [
    "# Ajout d'une colonne 'nature' contenant 'animal' pour 'df_animaux'\n",
    "df_animaux['origin'] = 'animal'"
   ]
  },
  {
   "cell_type": "code",
   "execution_count": 25,
   "metadata": {},
   "outputs": [],
   "source": [
    "# Ajout d'une colonne 'nature' contenant 'végétal' pour 'df_vegetaux'\n",
    "df_vegetaux['origin'] = 'végétal'"
   ]
  },
  {
   "cell_type": "code",
   "execution_count": 26,
   "metadata": {},
   "outputs": [],
   "source": [
    "dispo_alimForm = pd.concat([df_animaux, df_vegetaux])"
   ]
  },
  {
   "cell_type": "code",
   "execution_count": 27,
   "metadata": {},
   "outputs": [
    {
     "data": {
      "text/plain": [
       "0"
      ]
     },
     "execution_count": 27,
     "metadata": {},
     "output_type": "execute_result"
    }
   ],
   "source": [
    "# Recherche des occurences => aucune occurence\n",
    "dispo_alimForm.duplicated(subset=['Zone','Élément', 'Produit', ]).sum()"
   ]
  },
  {
   "cell_type": "code",
   "execution_count": 28,
   "metadata": {},
   "outputs": [
    {
     "data": {
      "text/plain": [
       "Code Domaine              0.0\n",
       "Domaine                   0.0\n",
       "Code zone                 0.0\n",
       "Zone                      0.0\n",
       "Code Élément              0.0\n",
       "Élément                   0.0\n",
       "Code Produit              0.0\n",
       "Produit                   0.0\n",
       "Code année                0.0\n",
       "Année                     0.0\n",
       "Unité                     0.0\n",
       "Valeur                    0.0\n",
       "Symbole                   0.0\n",
       "Description du Symbole    0.0\n",
       "origin                    0.0\n",
       "dtype: float64"
      ]
     },
     "execution_count": 28,
     "metadata": {},
     "output_type": "execute_result"
    }
   ],
   "source": [
    "# Vérification de la présence de \"NaN\" => dataframe sain\n",
    "dispo_alimForm.isna().mean(axis=0)"
   ]
  },
  {
   "cell_type": "code",
   "execution_count": 29,
   "metadata": {},
   "outputs": [
    {
     "data": {
      "text/plain": [
       "(142037, 15)"
      ]
     },
     "execution_count": 29,
     "metadata": {},
     "output_type": "execute_result"
    }
   ],
   "source": [
    "dispo_alimForm.shape"
   ]
  },
  {
   "cell_type": "code",
   "execution_count": 30,
   "metadata": {
    "scrolled": true
   },
   "outputs": [
    {
     "data": {
      "text/plain": [
       "array(['Production', 'Importations - Quantité',\n",
       "       'Disponibilité intérieure', 'Nourriture',\n",
       "       'Disponibilité alimentaire en quantité (kg/personne/an)',\n",
       "       'Disponibilité alimentaire (Kcal/personne/jour)',\n",
       "       'Disponibilité de protéines en quantité (g/personne/jour)',\n",
       "       'Disponibilité de matière grasse en quantité (g/personne/jour)',\n",
       "       'Semences', 'Pertes', 'Exportations - Quantité',\n",
       "       'Aliments pour animaux', 'Autres utilisations (non alimentaire)',\n",
       "       'Variation de stock', 'Traitement'], dtype=object)"
      ]
     },
     "execution_count": 30,
     "metadata": {},
     "output_type": "execute_result"
    }
   ],
   "source": [
    "dispo_alimForm['Élément'].unique()"
   ]
  },
  {
   "cell_type": "code",
   "execution_count": 31,
   "metadata": {},
   "outputs": [],
   "source": [
    "# Suppression de la Chine:\n",
    "dispo_alimForm = dispo_alimForm[~dispo_alimForm.Zone.isin(['Chine'])]"
   ]
  },
  {
   "cell_type": "code",
   "execution_count": 32,
   "metadata": {},
   "outputs": [],
   "source": [
    "# Récupération des 'disponibilité alimentaire' de la colonne 'Élément'\n",
    "elements_to_keep = ['Disponibilité alimentaire en quantité (kg/personne/an)', 'Disponibilité alimentaire (Kcal/personne/jour)',\n",
    "                   'Disponibilité de protéines en quantité (g/personne/jour)', 'Disponibilité de matière grasse en quantité (g/personne/jour)']\n",
    "elements_filter = dispo_alimForm['Élément'].isin(elements_to_keep)\n",
    "dispo_alimFormDis = dispo_alimForm[elements_filter]"
   ]
  },
  {
   "cell_type": "code",
   "execution_count": 33,
   "metadata": {},
   "outputs": [],
   "source": [
    "# Sélection des colonnes Zone, Code zone, Année, Produit\n",
    "dispo_alimFormDis = dispo_alimFormDis.loc[:, ['Code zone', 'Zone', 'Élément', 'Code Produit', 'Produit', 'Année', \n",
    "                               'Valeur','origin']]"
   ]
  },
  {
   "cell_type": "code",
   "execution_count": 34,
   "metadata": {},
   "outputs": [],
   "source": [
    "# Renommage des colonnes :\n",
    "dispo_alimFormDis = dispo_alimFormDis.rename({'Code zone':'code_pays',                                \n",
    "                                'Zone': 'pays',\n",
    "                                'Élément': 'element',\n",
    "                                'Code Produit' : 'code_produit',\n",
    "                                'Produit' : 'produit',\n",
    "                                'Année':'annee',                               \n",
    "                                'Valeur' : 'Valeur',\n",
    "                                'origin' : 'origin'\n",
    "                               }, axis=1)  "
   ]
  },
  {
   "cell_type": "code",
   "execution_count": 35,
   "metadata": {},
   "outputs": [],
   "source": [
    "#  Re indexage\n",
    "dispo_alimFormDis = dispo_alimFormDis.reset_index(drop=True)"
   ]
  },
  {
   "cell_type": "code",
   "execution_count": 36,
   "metadata": {},
   "outputs": [
    {
     "data": {
      "text/plain": [
       "code_pays         int64\n",
       "pays             object\n",
       "element          object\n",
       "code_produit      int64\n",
       "produit          object\n",
       "annee             int64\n",
       "Valeur          float64\n",
       "origin           object\n",
       "dtype: object"
      ]
     },
     "execution_count": 36,
     "metadata": {},
     "output_type": "execute_result"
    }
   ],
   "source": [
    "dispo_alimFormDis.dtypes"
   ]
  },
  {
   "cell_type": "code",
   "execution_count": 37,
   "metadata": {},
   "outputs": [],
   "source": [
    "# On applique un 'pivot-table' sur 'dispo_alimForm': Les items de 'Élément' sont sur une colonne\n",
    "dispo_alimFormDisPiv = pd.pivot_table(dispo_alimFormDis, values='Valeur', index=['code_pays', 'pays','code_produit',\n",
    "                                                                                 'produit', 'annee', 'origin'],\n",
    "                                      columns='element', aggfunc='sum').reset_index()"
   ]
  },
  {
   "cell_type": "code",
   "execution_count": 38,
   "metadata": {
    "scrolled": false
   },
   "outputs": [
    {
     "data": {
      "text/plain": [
       "element\n",
       "code_pays                                                        0.000000\n",
       "pays                                                             0.000000\n",
       "code_produit                                                     0.000000\n",
       "produit                                                          0.000000\n",
       "annee                                                            0.000000\n",
       "origin                                                           0.000000\n",
       "Disponibilité alimentaire (Kcal/personne/jour)                   0.001332\n",
       "Disponibilité alimentaire en quantité (kg/personne/an)           0.017181\n",
       "Disponibilité de matière grasse en quantité (g/personne/jour)    0.172931\n",
       "Disponibilité de protéines en quantité (g/personne/jour)         0.189271\n",
       "dtype: float64"
      ]
     },
     "execution_count": 38,
     "metadata": {},
     "output_type": "execute_result"
    }
   ],
   "source": [
    "# Recherche des NaN\n",
    "dispo_alimFormDisPiv.isna().mean()"
   ]
  },
  {
   "cell_type": "code",
   "execution_count": 39,
   "metadata": {},
   "outputs": [
    {
     "data": {
      "text/plain": [
       "(14260, 10)"
      ]
     },
     "execution_count": 39,
     "metadata": {},
     "output_type": "execute_result"
    }
   ],
   "source": [
    "dispo_alimFormDisPiv.shape"
   ]
  },
  {
   "cell_type": "code",
   "execution_count": 40,
   "metadata": {},
   "outputs": [],
   "source": [
    "# Choix de ne pas supprimer les NaN car il y a trop de répercussion sur les résultats des recherches futures"
   ]
  },
  {
   "cell_type": "code",
   "execution_count": 41,
   "metadata": {},
   "outputs": [
    {
     "data": {
      "text/plain": [
       "(14260, 10)"
      ]
     },
     "execution_count": 41,
     "metadata": {},
     "output_type": "execute_result"
    }
   ],
   "source": [
    "dispo_alimFormDisPiv.shape"
   ]
  },
  {
   "cell_type": "code",
   "execution_count": 42,
   "metadata": {},
   "outputs": [],
   "source": [
    "# Renommage des colomnes\n",
    "dispo_alimFormDisPiv = dispo_alimFormDisPiv.rename({'Disponibilité alimentaire (Kcal/personne/jour)': 'dispo_alim_kcal_p_j',\n",
    "                               'Disponibilité alimentaire en quantité (kg/personne/an)': 'Disponibilité alimentaire en quantité (kg/personne/an)',\n",
    "                               'Disponibilité de matière grasse en quantité (g/personne/jour)': 'dispo_mat_gr',\n",
    "                               'Disponibilité de protéines en quantité (g/personne/jour)': 'dispo_prot'}, axis=1)     "
   ]
  },
  {
   "cell_type": "code",
   "execution_count": 43,
   "metadata": {},
   "outputs": [],
   "source": [
    "# Re indexage\n",
    "dispo_alimFormDisPiv = dispo_alimFormDisPiv.reset_index(drop=True)"
   ]
  },
  {
   "cell_type": "code",
   "execution_count": 44,
   "metadata": {
    "scrolled": true
   },
   "outputs": [
    {
     "data": {
      "text/plain": [
       "Index(['code_pays', 'pays', 'code_produit', 'produit', 'annee', 'origin',\n",
       "       'dispo_alim_kcal_p_j',\n",
       "       'Disponibilité alimentaire en quantité (kg/personne/an)',\n",
       "       'dispo_mat_gr', 'dispo_prot'],\n",
       "      dtype='object', name='element')"
      ]
     },
     "execution_count": 44,
     "metadata": {},
     "output_type": "execute_result"
    }
   ],
   "source": [
    "dispo_alimFormDisPiv.columns"
   ]
  },
  {
   "cell_type": "code",
   "execution_count": 45,
   "metadata": {},
   "outputs": [],
   "source": [
    "# Pour avoir la disponibilité alimentaire en tonnes, il faut fusionner avec 'population'\n",
    "dispo_alimFormDisPivPop = pd.merge(dispo_alimFormDisPiv, population)"
   ]
  },
  {
   "cell_type": "code",
   "execution_count": 46,
   "metadata": {},
   "outputs": [
    {
     "data": {
      "text/plain": [
       "(14260, 11)"
      ]
     },
     "execution_count": 46,
     "metadata": {},
     "output_type": "execute_result"
    }
   ],
   "source": [
    "dispo_alimFormDisPivPop.shape"
   ]
  },
  {
   "cell_type": "code",
   "execution_count": 47,
   "metadata": {
    "scrolled": false
   },
   "outputs": [
    {
     "data": {
      "text/plain": [
       "code_pays                                                 0.000000\n",
       "pays                                                      0.000000\n",
       "code_produit                                              0.000000\n",
       "produit                                                   0.000000\n",
       "annee                                                     0.000000\n",
       "origin                                                    0.000000\n",
       "dispo_alim_kcal_p_j                                       0.001332\n",
       "Disponibilité alimentaire en quantité (kg/personne/an)    0.017181\n",
       "dispo_mat_gr                                              0.172931\n",
       "dispo_prot                                                0.189271\n",
       "population                                                0.000000\n",
       "dtype: float64"
      ]
     },
     "execution_count": 47,
     "metadata": {},
     "output_type": "execute_result"
    }
   ],
   "source": [
    "dispo_alimFormDisPivPop.isna().mean()"
   ]
  },
  {
   "cell_type": "code",
   "execution_count": 48,
   "metadata": {},
   "outputs": [],
   "source": [
    "# Création de la colonne 'dispo_alim_tonnes' => 'Disponibilité alimentaire en quantité (kg/personne/an)' * population /1000\n",
    "dispo_alimFormDisPivPop['dispo_alim_tonnes'] = dispo_alimFormDisPivPop['Disponibilité alimentaire en quantité (kg/personne/an)'] * dispo_alimFormDisPivPop['population'] / 1000"
   ]
  },
  {
   "cell_type": "code",
   "execution_count": 49,
   "metadata": {},
   "outputs": [
    {
     "data": {
      "text/plain": [
       "(14260, 12)"
      ]
     },
     "execution_count": 49,
     "metadata": {},
     "output_type": "execute_result"
    }
   ],
   "source": [
    "dispo_alimFormDisPivPop.shape"
   ]
  },
  {
   "cell_type": "code",
   "execution_count": 50,
   "metadata": {
    "scrolled": false
   },
   "outputs": [
    {
     "data": {
      "text/plain": [
       "Index(['code_pays', 'pays', 'code_produit', 'produit', 'annee', 'origin',\n",
       "       'dispo_alim_kcal_p_j',\n",
       "       'Disponibilité alimentaire en quantité (kg/personne/an)',\n",
       "       'dispo_mat_gr', 'dispo_prot', 'population', 'dispo_alim_tonnes'],\n",
       "      dtype='object')"
      ]
     },
     "execution_count": 50,
     "metadata": {},
     "output_type": "execute_result"
    }
   ],
   "source": [
    "dispo_alimFormDisPivPop.columns"
   ]
  },
  {
   "cell_type": "code",
   "execution_count": 51,
   "metadata": {},
   "outputs": [],
   "source": [
    "# Les colomnes sont mises dans l'ordre : pays, code_pays, année, produit, code_produit, origin, dispo_alim_tonnes, dispo_alim_kcal_p_j, dispo_prot, dispo_mat_g\n",
    "dispo_alim = dispo_alimFormDisPivPop[['pays', 'code_pays', 'annee', 'produit', 'code_produit', \n",
    "                                     'origin', 'dispo_alim_tonnes', 'dispo_alim_kcal_p_j', \n",
    "                                     'dispo_prot', 'dispo_mat_gr']]"
   ]
  },
  {
   "cell_type": "code",
   "execution_count": 52,
   "metadata": {},
   "outputs": [
    {
     "data": {
      "text/plain": [
       "(14260, 10)"
      ]
     },
     "execution_count": 52,
     "metadata": {},
     "output_type": "execute_result"
    }
   ],
   "source": [
    "dispo_alim.shape"
   ]
  },
  {
   "cell_type": "markdown",
   "metadata": {},
   "source": [
    "## Question 16 : Proposez une clé primaire pertinente pour la table 'dispo_alim'"
   ]
  },
  {
   "cell_type": "code",
   "execution_count": 53,
   "metadata": {},
   "outputs": [],
   "source": [
    "# Clé primaire : 'code_pays' - 'code_produit' -"
   ]
  },
  {
   "cell_type": "code",
   "execution_count": 54,
   "metadata": {
    "scrolled": true
   },
   "outputs": [
    {
     "name": "stdout",
     "output_type": "stream",
     "text": [
      "Primary key found!\n"
     ]
    }
   ],
   "source": [
    "is_primary_key(dispo_alim, ['code_pays','code_produit' ])"
   ]
  },
  {
   "cell_type": "code",
   "execution_count": 55,
   "metadata": {},
   "outputs": [],
   "source": [
    "# Export de 'dispo_alim' en csv\n",
    "dispo_alim.to_csv(\"dispo_alim.csv\", index = False)\n",
    "# C:\\Users\\isabe\\Documents\\FAO_2013essai"
   ]
  },
  {
   "cell_type": "code",
   "execution_count": 56,
   "metadata": {},
   "outputs": [],
   "source": [
    "# Création d'une table appelée 'equilibre_prod' contenant pour chaque pays et pour chaque produit en 2013, les quantités suivantes :\n",
    "#         disponibilité intérieure\n",
    "#         aliments pour animaux\n",
    "#         semences\n",
    "#         pertes\n",
    "#         transformés\n",
    "#         nourriture\n",
    "#         autres utilisations\n",
    "# Elle devra contenir ces colonnes : \n",
    "# pays, code_pays, année, produit, code_produit, dispo_int, alim_ani, semences, pertes, transfo, nourriture, autres_utilisations.\n"
   ]
  },
  {
   "cell_type": "code",
   "execution_count": 57,
   "metadata": {},
   "outputs": [
    {
     "data": {
      "text/plain": [
       "array(['Production', 'Importations - Quantité',\n",
       "       'Disponibilité intérieure', 'Nourriture',\n",
       "       'Disponibilité alimentaire en quantité (kg/personne/an)',\n",
       "       'Disponibilité alimentaire (Kcal/personne/jour)',\n",
       "       'Disponibilité de protéines en quantité (g/personne/jour)',\n",
       "       'Disponibilité de matière grasse en quantité (g/personne/jour)',\n",
       "       'Semences', 'Pertes', 'Exportations - Quantité',\n",
       "       'Aliments pour animaux', 'Autres utilisations (non alimentaire)',\n",
       "       'Variation de stock', 'Traitement'], dtype=object)"
      ]
     },
     "execution_count": 57,
     "metadata": {},
     "output_type": "execute_result"
    }
   ],
   "source": [
    "dispo_alimForm['Élément'].unique()"
   ]
  },
  {
   "cell_type": "code",
   "execution_count": 58,
   "metadata": {},
   "outputs": [],
   "source": [
    "# Récupération des intitulés demandés de la colonne 'Élément'\n",
    "elements_to_keep = ['Disponibilité intérieure', 'Aliments pour animaux','Semences', 'Pertes',\n",
    "                    'Traitement', 'Nourriture', 'Autres utilisations (non alimentaire)'] \n",
    "elements_filter = dispo_alimForm['Élément'].isin(elements_to_keep)\n",
    "equilibre_prodEqu = dispo_alimForm[elements_filter]"
   ]
  },
  {
   "cell_type": "code",
   "execution_count": 59,
   "metadata": {},
   "outputs": [],
   "source": [
    "# Sélection des colonnes Zone, Code zone, Année, Produit\n",
    "equilibre_prodEqu = equilibre_prodEqu.loc[:, ['Code zone', 'Zone', 'Élément', 'Code Produit', 'Produit', 'Année', \n",
    "                               'Valeur']]"
   ]
  },
  {
   "cell_type": "code",
   "execution_count": 60,
   "metadata": {},
   "outputs": [],
   "source": [
    "# Renommage des colonnes :\n",
    "equilibre_prodEqu = equilibre_prodEqu.rename({'Code zone':'code_pays',                                \n",
    "                                'Zone': 'pays',\n",
    "                                'Élément': 'element',\n",
    "                                'Code Produit' : 'code_produit',\n",
    "                                'Produit' : 'produit',\n",
    "                                'Année':'annee',                               \n",
    "                                'Valeur' : 'Valeur'                                \n",
    "                               }, axis=1)  "
   ]
  },
  {
   "cell_type": "code",
   "execution_count": 61,
   "metadata": {
    "scrolled": true
   },
   "outputs": [
    {
     "data": {
      "text/html": [
       "<div>\n",
       "<style scoped>\n",
       "    .dataframe tbody tr th:only-of-type {\n",
       "        vertical-align: middle;\n",
       "    }\n",
       "\n",
       "    .dataframe tbody tr th {\n",
       "        vertical-align: top;\n",
       "    }\n",
       "\n",
       "    .dataframe thead th {\n",
       "        text-align: right;\n",
       "    }\n",
       "</style>\n",
       "<table border=\"1\" class=\"dataframe\">\n",
       "  <thead>\n",
       "    <tr style=\"text-align: right;\">\n",
       "      <th></th>\n",
       "      <th>code_pays</th>\n",
       "      <th>pays</th>\n",
       "      <th>element</th>\n",
       "      <th>code_produit</th>\n",
       "      <th>produit</th>\n",
       "      <th>annee</th>\n",
       "      <th>Valeur</th>\n",
       "    </tr>\n",
       "  </thead>\n",
       "  <tbody>\n",
       "    <tr>\n",
       "      <th>12186</th>\n",
       "      <td>17</td>\n",
       "      <td>Bermudes</td>\n",
       "      <td>Nourriture</td>\n",
       "      <td>2514</td>\n",
       "      <td>Maïs</td>\n",
       "      <td>2013</td>\n",
       "      <td>0.0</td>\n",
       "    </tr>\n",
       "  </tbody>\n",
       "</table>\n",
       "</div>"
      ],
      "text/plain": [
       "       code_pays      pays     element  code_produit produit  annee  Valeur\n",
       "12186         17  Bermudes  Nourriture          2514    Maïs   2013     0.0"
      ]
     },
     "execution_count": 61,
     "metadata": {},
     "output_type": "execute_result"
    }
   ],
   "source": [
    "# Juste un essai de fonction:\n",
    "filtre_element(17, 'Nourriture', 2514, equilibre_prodEqu) "
   ]
  },
  {
   "cell_type": "code",
   "execution_count": 62,
   "metadata": {},
   "outputs": [],
   "source": [
    "# Re indexage\n",
    "equilibre_prodEqu = equilibre_prodEqu.reset_index(drop=True)"
   ]
  },
  {
   "cell_type": "code",
   "execution_count": 63,
   "metadata": {},
   "outputs": [
    {
     "data": {
      "text/plain": [
       "Index(['code_pays', 'pays', 'element', 'code_produit', 'produit', 'annee',\n",
       "       'Valeur'],\n",
       "      dtype='object')"
      ]
     },
     "execution_count": 63,
     "metadata": {},
     "output_type": "execute_result"
    }
   ],
   "source": [
    "equilibre_prodEqu.columns"
   ]
  },
  {
   "cell_type": "code",
   "execution_count": 64,
   "metadata": {},
   "outputs": [],
   "source": [
    "# On applique un 'pivot-table' sur 'equilibre_prodEqu': Élément devient colonne\n",
    "equilibre_prodEquPiv = pd.pivot_table(equilibre_prodEqu, values='Valeur', index=['code_pays', 'pays','code_produit', 'produit', 'annee'], columns='element', aggfunc='sum').reset_index()"
   ]
  },
  {
   "cell_type": "code",
   "execution_count": 65,
   "metadata": {
    "scrolled": true
   },
   "outputs": [
    {
     "data": {
      "text/plain": [
       "Index(['code_pays', 'pays', 'code_produit', 'produit', 'annee',\n",
       "       'Aliments pour animaux', 'Autres utilisations (non alimentaire)',\n",
       "       'Disponibilité intérieure', 'Nourriture', 'Pertes', 'Semences',\n",
       "       'Traitement'],\n",
       "      dtype='object', name='element')"
      ]
     },
     "execution_count": 65,
     "metadata": {},
     "output_type": "execute_result"
    }
   ],
   "source": [
    "equilibre_prodEquPiv.columns"
   ]
  },
  {
   "cell_type": "code",
   "execution_count": 66,
   "metadata": {},
   "outputs": [
    {
     "data": {
      "text/plain": [
       "RangeIndex(start=0, stop=15382, step=1)"
      ]
     },
     "execution_count": 66,
     "metadata": {},
     "output_type": "execute_result"
    }
   ],
   "source": [
    "equilibre_prodEquPiv.index"
   ]
  },
  {
   "cell_type": "code",
   "execution_count": 67,
   "metadata": {},
   "outputs": [
    {
     "data": {
      "text/plain": [
       "(15382, 12)"
      ]
     },
     "execution_count": 67,
     "metadata": {},
     "output_type": "execute_result"
    }
   ],
   "source": [
    "equilibre_prodEquPiv.shape"
   ]
  },
  {
   "cell_type": "code",
   "execution_count": 68,
   "metadata": {},
   "outputs": [
    {
     "data": {
      "text/plain": [
       "element\n",
       "code_pays                                0.000000\n",
       "pays                                     0.000000\n",
       "code_produit                             0.000000\n",
       "produit                                  0.000000\n",
       "annee                                    0.000000\n",
       "Aliments pour animaux                    0.823170\n",
       "Autres utilisations (non alimentaire)    0.642699\n",
       "Disponibilité intérieure                 0.000000\n",
       "Nourriture                               0.088870\n",
       "Pertes                                   0.721883\n",
       "Semences                                 0.864062\n",
       "Traitement                               0.850995\n",
       "dtype: float64"
      ]
     },
     "execution_count": 68,
     "metadata": {},
     "output_type": "execute_result"
    }
   ],
   "source": [
    "# Recherche des NaN :\n",
    "equilibre_prodEquPiv.isna().mean()"
   ]
  },
  {
   "cell_type": "code",
   "execution_count": 69,
   "metadata": {},
   "outputs": [],
   "source": [
    "# Compte tenu du pourcentage élevé de NaN, Je fais le choix de garder les données NaN et de les remplacer par 0\n",
    "equilibre_prodEquPivNa = equilibre_prodEquPiv.fillna(0, axis=0)"
   ]
  },
  {
   "cell_type": "code",
   "execution_count": 70,
   "metadata": {},
   "outputs": [
    {
     "data": {
      "text/plain": [
       "(15382, 12)"
      ]
     },
     "execution_count": 70,
     "metadata": {},
     "output_type": "execute_result"
    }
   ],
   "source": [
    "equilibre_prodEquPivNa.shape"
   ]
  },
  {
   "cell_type": "code",
   "execution_count": 71,
   "metadata": {},
   "outputs": [
    {
     "data": {
      "text/plain": [
       "Index(['code_pays', 'pays', 'code_produit', 'produit', 'annee',\n",
       "       'Aliments pour animaux', 'Autres utilisations (non alimentaire)',\n",
       "       'Disponibilité intérieure', 'Nourriture', 'Pertes', 'Semences',\n",
       "       'Traitement'],\n",
       "      dtype='object', name='element')"
      ]
     },
     "execution_count": 71,
     "metadata": {},
     "output_type": "execute_result"
    }
   ],
   "source": [
    "equilibre_prodEquPivNa.columns"
   ]
  },
  {
   "cell_type": "code",
   "execution_count": 72,
   "metadata": {},
   "outputs": [],
   "source": [
    "# Renommage des colonnes :\n",
    "equilibre_prodEquPivNa = equilibre_prodEquPivNa.rename({'code_pays':'code_pays',                                \n",
    "                                'pays': 'pays',                                \n",
    "                                'code_produit' : 'code_produit',\n",
    "                                'produit' : 'produit',\n",
    "                                'année' : 'annee',                               \n",
    "                                'Aliments pour animaux' : 'alim_ani',\n",
    "                                'Autres utilisations (non alimentaire)' : 'autres_utilisations',\n",
    "                                'Disponibilité intérieure' : 'dispo_int',\n",
    "                                'Nourriture' : 'nourriture',\n",
    "                                'Pertes' : 'pertes',\n",
    "                                'Semences' : 'semences',\n",
    "                                'Traitement' : 'transfo'}, axis=1)  "
   ]
  },
  {
   "cell_type": "code",
   "execution_count": 73,
   "metadata": {},
   "outputs": [],
   "source": [
    "# Les colomnes sont mises dans l'ordre : pays, code_pays, année, produit, code_produit, dispo_int, alim_ani, semences, pertes, transfo, nourriture, autres_utilisations.\n",
    "equilibre_prod = equilibre_prodEquPivNa[['pays', 'code_pays', 'annee', 'produit', 'code_produit', 'dispo_int', 'alim_ani',\n",
    "                               'semences', 'pertes', 'transfo', 'nourriture', 'autres_utilisations']]"
   ]
  },
  {
   "cell_type": "markdown",
   "metadata": {},
   "source": [
    "## Question 17 : Proposez une clé primaire pertinente pour la table 'equilibre_prod' ."
   ]
  },
  {
   "cell_type": "code",
   "execution_count": 74,
   "metadata": {},
   "outputs": [],
   "source": [
    "# Clé primaire : 'code_pays' - 'code_produit' "
   ]
  },
  {
   "cell_type": "code",
   "execution_count": 75,
   "metadata": {},
   "outputs": [
    {
     "name": "stdout",
     "output_type": "stream",
     "text": [
      "Primary key found!\n"
     ]
    }
   ],
   "source": [
    "is_primary_key(equilibre_prod, ['code_pays', 'code_produit'])"
   ]
  },
  {
   "cell_type": "code",
   "execution_count": 76,
   "metadata": {},
   "outputs": [],
   "source": [
    "# Export de la table equilibre_prod en csv\n",
    "equilibre_prod.to_csv(\"equilibre_prod.csv\", index = False)"
   ]
  },
  {
   "cell_type": "code",
   "execution_count": 77,
   "metadata": {},
   "outputs": [],
   "source": [
    "# Création d'une table 'sous_nutrition', contenant :\n",
    "# le nombre de personnes en sous-alimentation pour chaque pays en 2013. \n",
    "# Elle devra contenir 4 colonnes : pays, code_pays, année, nb_personnes."
   ]
  },
  {
   "cell_type": "code",
   "execution_count": 78,
   "metadata": {},
   "outputs": [],
   "source": [
    "# Importation du dataframe\n",
    "# Nettoyage des données (changement de type...)\n",
    "# Harmonisation des données (dates)"
   ]
  },
  {
   "cell_type": "code",
   "execution_count": 79,
   "metadata": {},
   "outputs": [],
   "source": [
    "# Importation du dataframe : \n",
    "sous_nutriCsv = pd.read_csv('fr_sousalimentation.csv', encoding='UTF-8')"
   ]
  },
  {
   "cell_type": "code",
   "execution_count": 80,
   "metadata": {
    "scrolled": false
   },
   "outputs": [
    {
     "name": "stdout",
     "output_type": "stream",
     "text": [
      "<class 'pandas.core.frame.DataFrame'>\n",
      "RangeIndex: 1020 entries, 0 to 1019\n",
      "Data columns (total 15 columns):\n",
      " #   Column                  Non-Null Count  Dtype  \n",
      "---  ------                  --------------  -----  \n",
      " 0   Code Domaine            1020 non-null   object \n",
      " 1   Domaine                 1020 non-null   object \n",
      " 2   Code zone               1020 non-null   int64  \n",
      " 3   Zone                    1020 non-null   object \n",
      " 4   Code Élément            1020 non-null   int64  \n",
      " 5   Élément                 1020 non-null   object \n",
      " 6   Code Produit            1020 non-null   int64  \n",
      " 7   Produit                 1020 non-null   object \n",
      " 8   Code année              1020 non-null   int64  \n",
      " 9   Année                   1020 non-null   object \n",
      " 10  Unité                   1020 non-null   object \n",
      " 11  Valeur                  605 non-null    object \n",
      " 12  Symbole                 1020 non-null   object \n",
      " 13  Description du Symbole  1020 non-null   object \n",
      " 14  Note                    0 non-null      float64\n",
      "dtypes: float64(1), int64(4), object(10)\n",
      "memory usage: 119.7+ KB\n"
     ]
    }
   ],
   "source": [
    "sous_nutriCsv.info()"
   ]
  },
  {
   "cell_type": "code",
   "execution_count": 81,
   "metadata": {},
   "outputs": [],
   "source": [
    "# Conversion de la colonne 'Valeur' (de type 'objet') en type float\n",
    "sous_nutriCsv.Valeur = pd.to_numeric(sous_nutriCsv.Valeur, errors='coerce')"
   ]
  },
  {
   "cell_type": "code",
   "execution_count": 82,
   "metadata": {},
   "outputs": [
    {
     "data": {
      "text/plain": [
       "dtype('float64')"
      ]
     },
     "execution_count": 82,
     "metadata": {},
     "output_type": "execute_result"
    }
   ],
   "source": [
    "sous_nutriCsv.Valeur.dtypes"
   ]
  },
  {
   "cell_type": "code",
   "execution_count": 83,
   "metadata": {},
   "outputs": [
    {
     "data": {
      "text/plain": [
       "(1020, 15)"
      ]
     },
     "execution_count": 83,
     "metadata": {},
     "output_type": "execute_result"
    }
   ],
   "source": [
    "sous_nutriCsv.shape"
   ]
  },
  {
   "cell_type": "code",
   "execution_count": 84,
   "metadata": {},
   "outputs": [],
   "source": [
    "# Sélection des colonnes Zone, Code zone, Année, Produit\n",
    "sous_nutriForm = sous_nutriCsv.loc[:, ['Code zone', 'Zone', 'Valeur', 'Année']]"
   ]
  },
  {
   "cell_type": "code",
   "execution_count": 85,
   "metadata": {},
   "outputs": [],
   "source": [
    "# Suppression de la Chine :\n",
    "sous_nutriForm = sous_nutriForm[~sous_nutriForm.Zone.isin(['Chine'])]"
   ]
  },
  {
   "cell_type": "code",
   "execution_count": 86,
   "metadata": {},
   "outputs": [],
   "source": [
    "# Renommage des colonnes\n",
    "sous_nutriForm = sous_nutriForm.rename({'Code zone':'code_pays',\n",
    "                                'Zone': 'pays',\n",
    "                                'Valeur':'nb_personnes',\n",
    "                                'Année':'annee'}, axis=1)   "
   ]
  },
  {
   "cell_type": "code",
   "execution_count": 87,
   "metadata": {},
   "outputs": [],
   "source": [
    "# Ré indexage\n",
    "sous_nutriForm = sous_nutriForm.reset_index(drop=True)"
   ]
  },
  {
   "cell_type": "code",
   "execution_count": 88,
   "metadata": {},
   "outputs": [],
   "source": [
    "# Modification de la colonne 'nb_personnes' pour avoir le nombre réel d'individus (=> * 1000000) :\n",
    "sous_nutriForm.nb_personnes = sous_nutriForm.nb_personnes * 1000000"
   ]
  },
  {
   "cell_type": "code",
   "execution_count": 89,
   "metadata": {},
   "outputs": [
    {
     "data": {
      "text/plain": [
       "2013-2015    203\n",
       "2015-2017    203\n",
       "2014-2016    203\n",
       "2016-2018    203\n",
       "2012-2014    203\n",
       "Name: annee, dtype: int64"
      ]
     },
     "execution_count": 89,
     "metadata": {},
     "output_type": "execute_result"
    }
   ],
   "source": [
    "sous_nutriForm['annee'].value_counts()"
   ]
  },
  {
   "cell_type": "code",
   "execution_count": 90,
   "metadata": {},
   "outputs": [],
   "source": [
    "# Les données de la colonne 'année' sont harmonisées pour être au même format que celles des autres dataframes\n",
    "sous_nutriForm['annee'] = sous_nutriForm['annee'].map({'2012-2014' : 2013,'2013-2015' : 2014, '2014-2016' : 2015, '2015-2017' : 2016, '2016-2018' : 2017}) "
   ]
  },
  {
   "cell_type": "code",
   "execution_count": 91,
   "metadata": {},
   "outputs": [],
   "source": [
    "# Filtre sur l'année '2013' :\n",
    "sous_nutriFormFao = sous_nutriForm[sous_nutriForm['annee'] == 2013]"
   ]
  },
  {
   "cell_type": "code",
   "execution_count": 92,
   "metadata": {
    "scrolled": true
   },
   "outputs": [
    {
     "data": {
      "text/plain": [
       "(203, 4)"
      ]
     },
     "execution_count": 92,
     "metadata": {},
     "output_type": "execute_result"
    }
   ],
   "source": [
    "sous_nutriFormFao.shape"
   ]
  },
  {
   "cell_type": "code",
   "execution_count": 93,
   "metadata": {},
   "outputs": [
    {
     "data": {
      "text/html": [
       "<div>\n",
       "<style scoped>\n",
       "    .dataframe tbody tr th:only-of-type {\n",
       "        vertical-align: middle;\n",
       "    }\n",
       "\n",
       "    .dataframe tbody tr th {\n",
       "        vertical-align: top;\n",
       "    }\n",
       "\n",
       "    .dataframe thead th {\n",
       "        text-align: right;\n",
       "    }\n",
       "</style>\n",
       "<table border=\"1\" class=\"dataframe\">\n",
       "  <thead>\n",
       "    <tr style=\"text-align: right;\">\n",
       "      <th></th>\n",
       "      <th>code_pays</th>\n",
       "      <th>nb_personnes</th>\n",
       "      <th>annee</th>\n",
       "    </tr>\n",
       "  </thead>\n",
       "  <tbody>\n",
       "    <tr>\n",
       "      <th>count</th>\n",
       "      <td>203.000000</td>\n",
       "      <td>9.600000e+01</td>\n",
       "      <td>203.0</td>\n",
       "    </tr>\n",
       "    <tr>\n",
       "      <th>mean</th>\n",
       "      <td>128.172414</td>\n",
       "      <td>7.746875e+06</td>\n",
       "      <td>2013.0</td>\n",
       "    </tr>\n",
       "    <tr>\n",
       "      <th>std</th>\n",
       "      <td>75.349646</td>\n",
       "      <td>2.615793e+07</td>\n",
       "      <td>0.0</td>\n",
       "    </tr>\n",
       "    <tr>\n",
       "      <th>min</th>\n",
       "      <td>1.000000</td>\n",
       "      <td>1.000000e+05</td>\n",
       "      <td>2013.0</td>\n",
       "    </tr>\n",
       "    <tr>\n",
       "      <th>25%</th>\n",
       "      <td>62.000000</td>\n",
       "      <td>5.000000e+05</td>\n",
       "      <td>2013.0</td>\n",
       "    </tr>\n",
       "    <tr>\n",
       "      <th>50%</th>\n",
       "      <td>127.000000</td>\n",
       "      <td>1.750000e+06</td>\n",
       "      <td>2013.0</td>\n",
       "    </tr>\n",
       "    <tr>\n",
       "      <th>75%</th>\n",
       "      <td>192.000000</td>\n",
       "      <td>5.375000e+06</td>\n",
       "      <td>2013.0</td>\n",
       "    </tr>\n",
       "    <tr>\n",
       "      <th>max</th>\n",
       "      <td>299.000000</td>\n",
       "      <td>2.163000e+08</td>\n",
       "      <td>2013.0</td>\n",
       "    </tr>\n",
       "  </tbody>\n",
       "</table>\n",
       "</div>"
      ],
      "text/plain": [
       "        code_pays  nb_personnes   annee\n",
       "count  203.000000  9.600000e+01   203.0\n",
       "mean   128.172414  7.746875e+06  2013.0\n",
       "std     75.349646  2.615793e+07     0.0\n",
       "min      1.000000  1.000000e+05  2013.0\n",
       "25%     62.000000  5.000000e+05  2013.0\n",
       "50%    127.000000  1.750000e+06  2013.0\n",
       "75%    192.000000  5.375000e+06  2013.0\n",
       "max    299.000000  2.163000e+08  2013.0"
      ]
     },
     "execution_count": 93,
     "metadata": {},
     "output_type": "execute_result"
    }
   ],
   "source": [
    "sous_nutriFormFao.describe()"
   ]
  },
  {
   "cell_type": "code",
   "execution_count": 94,
   "metadata": {
    "scrolled": false
   },
   "outputs": [
    {
     "data": {
      "text/plain": [
       "code_pays       0.000000\n",
       "pays            0.000000\n",
       "nb_personnes    0.527094\n",
       "annee           0.000000\n",
       "dtype: float64"
      ]
     },
     "execution_count": 94,
     "metadata": {},
     "output_type": "execute_result"
    }
   ],
   "source": [
    "# Recherche des NaN : \n",
    "sous_nutriFormFao.isna().mean()"
   ]
  },
  {
   "cell_type": "code",
   "execution_count": 95,
   "metadata": {},
   "outputs": [],
   "source": [
    "# Je fais le choix de perdre des données plutôt que de modifier les données\n",
    "sous_nutriFormFaoNa = sous_nutriFormFao.dropna(axis=0)"
   ]
  },
  {
   "cell_type": "code",
   "execution_count": 96,
   "metadata": {},
   "outputs": [],
   "source": [
    "# Ré indexage\n",
    "sous_nutriFormFaoNa = sous_nutriFormFaoNa.reset_index(drop=True)"
   ]
  },
  {
   "cell_type": "code",
   "execution_count": 97,
   "metadata": {},
   "outputs": [
    {
     "data": {
      "text/plain": [
       "0"
      ]
     },
     "execution_count": 97,
     "metadata": {},
     "output_type": "execute_result"
    }
   ],
   "source": [
    "# Recherche des valeurs dupliquées \n",
    "sous_nutriFormFaoNa.duplicated(subset=['code_pays']).sum()"
   ]
  },
  {
   "cell_type": "code",
   "execution_count": 98,
   "metadata": {
    "scrolled": true
   },
   "outputs": [],
   "source": [
    "# Les colomnes sont mises dans l'ordre : pays, code_pays, année, nb_personnes\n",
    "sous_nutrition = sous_nutriFormFaoNa[['pays', 'code_pays', 'annee', 'nb_personnes']]"
   ]
  },
  {
   "cell_type": "markdown",
   "metadata": {},
   "source": [
    "## Question 18 : Proposez une clé primaire pertinente pour la table sous_nutrition."
   ]
  },
  {
   "cell_type": "code",
   "execution_count": 99,
   "metadata": {},
   "outputs": [],
   "source": [
    "# Clé primaire : 'code_pays'"
   ]
  },
  {
   "cell_type": "code",
   "execution_count": 100,
   "metadata": {},
   "outputs": [
    {
     "name": "stdout",
     "output_type": "stream",
     "text": [
      "Primary key found!\n"
     ]
    }
   ],
   "source": [
    "is_primary_key(sous_nutrition, ['code_pays'])"
   ]
  },
  {
   "cell_type": "code",
   "execution_count": 101,
   "metadata": {},
   "outputs": [],
   "source": [
    "# Export de 'sous_nutrition' en csv\n",
    "sous_nutrition.to_csv(\"sous_nutrition.csv\", index = False)\n",
    "# C:\\Users\\isabe\\Documents\\FAO_2013essai"
   ]
  }
 ],
 "metadata": {
  "kernelspec": {
   "display_name": "Python 3",
   "language": "python",
   "name": "python3"
  },
  "language_info": {
   "codemirror_mode": {
    "name": "ipython",
    "version": 3
   },
   "file_extension": ".py",
   "mimetype": "text/x-python",
   "name": "python",
   "nbconvert_exporter": "python",
   "pygments_lexer": "ipython3",
   "version": "3.8.5"
  }
 },
 "nbformat": 4,
 "nbformat_minor": 4
}
