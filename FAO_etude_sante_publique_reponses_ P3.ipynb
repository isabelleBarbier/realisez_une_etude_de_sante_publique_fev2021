{
 "cells": [
  {
   "cell_type": "markdown",
   "metadata": {},
   "source": [
    "# Réaliser une étude de santé publique"
   ]
  },
  {
   "cell_type": "markdown",
   "metadata": {},
   "source": [
    "# Importation des librairies"
   ]
  },
  {
   "cell_type": "code",
   "execution_count": 1,
   "metadata": {},
   "outputs": [],
   "source": [
    "# coding: utf8"
   ]
  },
  {
   "cell_type": "code",
   "execution_count": 2,
   "metadata": {},
   "outputs": [],
   "source": [
    "import pandas as pd\n",
    "import numpy as np\n",
    "import matplotlib.pyplot as plt"
   ]
  },
  {
   "cell_type": "code",
   "execution_count": 3,
   "metadata": {},
   "outputs": [],
   "source": [
    "UNITE_VALEUR_POP = 1000"
   ]
  },
  {
   "cell_type": "code",
   "execution_count": 4,
   "metadata": {},
   "outputs": [],
   "source": [
    "POP_MONDIALE_FAO = 6997326000"
   ]
  },
  {
   "cell_type": "code",
   "execution_count": 5,
   "metadata": {},
   "outputs": [],
   "source": [
    "NB_JOURS_ANNEE = 365"
   ]
  },
  {
   "cell_type": "code",
   "execution_count": 6,
   "metadata": {},
   "outputs": [],
   "source": [
    "APPORT_JOUR_KCAL = 2400"
   ]
  },
  {
   "cell_type": "code",
   "execution_count": 7,
   "metadata": {},
   "outputs": [],
   "source": [
    "APPORT_JOUR_KGPROTEINE = 0.056"
   ]
  },
  {
   "cell_type": "code",
   "execution_count": 8,
   "metadata": {},
   "outputs": [],
   "source": [
    "# Colonnes retenues pour Bilans Alimentaires\n",
    "colonneBilAlim = ['Code zone', 'Zone', 'Code Élément',\n",
    "       'Élément', 'Code Produit', 'Produit', 'Année', 'Unité',\n",
    "       'Valeur']"
   ]
  },
  {
   "cell_type": "code",
   "execution_count": 9,
   "metadata": {},
   "outputs": [],
   "source": [
    "# Colonnes retenues pour Sécurité Alimentaire (dataframe SousAlimentation)\n",
    "colonneSecAlim = ['Code zone', 'Zone','Code Produit', 'Produit', 'Année', 'Unité',\n",
    "       'Valeur']"
   ]
  },
  {
   "cell_type": "code",
   "execution_count": 10,
   "metadata": {},
   "outputs": [],
   "source": [
    "POP_MONDIALE_ACTUELLE = 7794799000"
   ]
  },
  {
   "cell_type": "markdown",
   "metadata": {},
   "source": [
    "#  Importation des bases de données"
   ]
  },
  {
   "cell_type": "code",
   "execution_count": 11,
   "metadata": {
    "scrolled": true
   },
   "outputs": [],
   "source": [
    "df_population = pd.read_csv(\"fr_population.csv\")\n",
    "df_animaux = pd.read_csv(\"fr_animaux.csv\")\n",
    "df_vegetaux = pd.read_csv(\"fr_vegetaux.csv\")\n",
    "df_cereales = pd.read_csv(\"fr_cereales.csv\")\n",
    "df_sousAlimentation = pd.read_csv(\"fr_sousalimentation.csv\")\n"
   ]
  },
  {
   "cell_type": "markdown",
   "metadata": {},
   "source": [
    "## 1. Création des dataframes \n",
    "### 1.1 Sélection des colonnes pertinentes"
   ]
  },
  {
   "cell_type": "code",
   "execution_count": 12,
   "metadata": {},
   "outputs": [
    {
     "data": {
      "text/plain": [
       "Index(['Code Domaine', 'Domaine', 'Code zone', 'Zone', 'Code Élément',\n",
       "       'Élément', 'Code Produit', 'Produit', 'Code année', 'Année', 'Unité',\n",
       "       'Valeur', 'Symbole', 'Description du Symbole'],\n",
       "      dtype='object')"
      ]
     },
     "execution_count": 12,
     "metadata": {},
     "output_type": "execute_result"
    }
   ],
   "source": [
    "df_population.columns"
   ]
  },
  {
   "cell_type": "code",
   "execution_count": 13,
   "metadata": {
    "scrolled": true
   },
   "outputs": [
    {
     "data": {
      "text/plain": [
       "(104871, 14)"
      ]
     },
     "execution_count": 13,
     "metadata": {},
     "output_type": "execute_result"
    }
   ],
   "source": [
    "df_animaux.shape\n",
    "df_cereales.shape\n",
    "df_population.shape\n",
    "df_sousAlimentation.shape\n",
    "df_vegetaux.shape"
   ]
  },
  {
   "cell_type": "code",
   "execution_count": 14,
   "metadata": {},
   "outputs": [],
   "source": [
    "# Seules les colonnes 'Code zone','Zone' et Valeur' sont retenues\n",
    "df_population = df_population.loc[:,['Code zone','Zone','Valeur']]"
   ]
  },
  {
   "cell_type": "code",
   "execution_count": 15,
   "metadata": {},
   "outputs": [
    {
     "data": {
      "text/plain": [
       "Index(['Code Domaine', 'Domaine', 'Code zone', 'Zone', 'Code Élément',\n",
       "       'Élément', 'Code Produit', 'Produit', 'Code année', 'Année', 'Unité',\n",
       "       'Valeur', 'Symbole', 'Description du Symbole'],\n",
       "      dtype='object')"
      ]
     },
     "execution_count": 15,
     "metadata": {},
     "output_type": "execute_result"
    }
   ],
   "source": [
    "# Les colonnes des dataframes \"Animaux, \"vegetaux\", \"cereales\" sont identiques\n",
    "df_animaux.columns"
   ]
  },
  {
   "cell_type": "code",
   "execution_count": 16,
   "metadata": {},
   "outputs": [],
   "source": [
    "# On ne garde que les colonnes qui nous intéressent\n",
    "df_animaux = df_animaux.loc[:,colonneBilAlim]\n",
    "df_vegetaux = df_vegetaux.loc[:,colonneBilAlim]\n",
    "df_cereales = df_cereales.loc[:,colonneBilAlim]\n",
    "df_sousAlimentation = df_sousAlimentation.loc[:,colonneSecAlim]"
   ]
  },
  {
   "cell_type": "code",
   "execution_count": 17,
   "metadata": {},
   "outputs": [],
   "source": [
    "# On rajoute une colonne 'Origne' qui contient la valeur 'Végétal' pour df_vegetaux\n",
    "df_vegetaux['Origine']='Végétal'"
   ]
  },
  {
   "cell_type": "code",
   "execution_count": 18,
   "metadata": {},
   "outputs": [],
   "source": [
    "# On rajoute une colonne 'Origne' qui contient la valeur 'Animal' pour df_animaux\n",
    "df_animaux['Origine']='Animal'"
   ]
  },
  {
   "cell_type": "code",
   "execution_count": 19,
   "metadata": {},
   "outputs": [],
   "source": [
    "# On rajoute une colonne'Origne' qui contient la valeur 'Céréale' pour df_cereales\n",
    "df_cereales['Origine']='Céréale'"
   ]
  },
  {
   "cell_type": "code",
   "execution_count": 20,
   "metadata": {},
   "outputs": [
    {
     "data": {
      "text/plain": [
       "2013-2015    204\n",
       "2014-2016    204\n",
       "2015-2017    204\n",
       "2012-2014    204\n",
       "2016-2018    204\n",
       "Name: Année, dtype: int64"
      ]
     },
     "execution_count": 20,
     "metadata": {},
     "output_type": "execute_result"
    }
   ],
   "source": [
    "df_sousAlimentation['Année'].value_counts()"
   ]
  },
  {
   "cell_type": "markdown",
   "metadata": {},
   "source": [
    "#### Changement de format de la date dans le dataframe df_sousAlimentation :  "
   ]
  },
  {
   "cell_type": "code",
   "execution_count": 21,
   "metadata": {},
   "outputs": [],
   "source": [
    "# Les données de la colonne \"Année\" sont harmonisées pour être au même format que celles des autres dataframes\n",
    "df_sousAlimentation['Année'] = df_sousAlimentation['Année'].map({'2012-2014' : 2013,'2013-2015' : 2014, '2014-2016' : 2015, '2015-2017' : 2016, '2016-2018' : 2017}) "
   ]
  },
  {
   "cell_type": "code",
   "execution_count": 22,
   "metadata": {},
   "outputs": [],
   "source": [
    "# Changement du type de données de 'Valeur'/ Objet => float\n",
    "df_sousAlimentation.Valeur = pd.to_numeric(df_sousAlimentation.Valeur, errors='coerce')"
   ]
  },
  {
   "cell_type": "code",
   "execution_count": 23,
   "metadata": {
    "scrolled": true
   },
   "outputs": [
    {
     "data": {
      "text/plain": [
       "Code zone         int64\n",
       "Zone             object\n",
       "Code Produit      int64\n",
       "Produit          object\n",
       "Année             int64\n",
       "Unité            object\n",
       "Valeur          float64\n",
       "dtype: object"
      ]
     },
     "execution_count": 23,
     "metadata": {},
     "output_type": "execute_result"
    }
   ],
   "source": [
    "df_sousAlimentation.dtypes"
   ]
  },
  {
   "cell_type": "markdown",
   "metadata": {},
   "source": [
    "### 1.2 Nettoyage des données"
   ]
  },
  {
   "cell_type": "markdown",
   "metadata": {},
   "source": [
    "#### Type de données"
   ]
  },
  {
   "cell_type": "code",
   "execution_count": 24,
   "metadata": {
    "scrolled": true
   },
   "outputs": [
    {
     "data": {
      "text/plain": [
       "Code zone         int64\n",
       "Zone             object\n",
       "Code Produit      int64\n",
       "Produit          object\n",
       "Année             int64\n",
       "Unité            object\n",
       "Valeur          float64\n",
       "dtype: object"
      ]
     },
     "execution_count": 24,
     "metadata": {},
     "output_type": "execute_result"
    }
   ],
   "source": [
    "df_animaux.dtypes\n",
    "df_cereales.dtypes\n",
    "df_population.dtypes\n",
    "df_vegetaux.dtypes\n",
    "df_sousAlimentation.dtypes"
   ]
  },
  {
   "cell_type": "markdown",
   "metadata": {},
   "source": [
    "#### Nombre de valeurs manquantes par colonne."
   ]
  },
  {
   "cell_type": "code",
   "execution_count": 25,
   "metadata": {
    "scrolled": false
   },
   "outputs": [
    {
     "data": {
      "text/plain": [
       "Code zone         0\n",
       "Zone              0\n",
       "Code Produit      0\n",
       "Produit           0\n",
       "Année             0\n",
       "Unité             0\n",
       "Valeur          530\n",
       "dtype: int64"
      ]
     },
     "execution_count": 25,
     "metadata": {},
     "output_type": "execute_result"
    }
   ],
   "source": [
    "df_animaux.isna().sum()\n",
    "df_cereales.isna().sum()\n",
    "df_population.isna().sum()\n",
    "df_vegetaux.isna().sum()\n",
    "df_sousAlimentation.isna().sum()"
   ]
  },
  {
   "cell_type": "code",
   "execution_count": 26,
   "metadata": {},
   "outputs": [
    {
     "data": {
      "text/plain": [
       "(1020, 7)"
      ]
     },
     "execution_count": 26,
     "metadata": {},
     "output_type": "execute_result"
    }
   ],
   "source": [
    "df_sousAlimentation.shape"
   ]
  },
  {
   "cell_type": "markdown",
   "metadata": {},
   "source": [
    "#####  Il y a 415 données manquantes dans la colonne Valeur du dataframe df_sousAlimentation sur 1020 entrées (df_sousAlimentation.shape)"
   ]
  },
  {
   "cell_type": "code",
   "execution_count": 27,
   "metadata": {},
   "outputs": [],
   "source": [
    "# je fais le choix de perdre des données plutôt que de modifier les données\n",
    "df_sousAlimentation = df_sousAlimentation.dropna(axis=0)"
   ]
  },
  {
   "cell_type": "code",
   "execution_count": 28,
   "metadata": {},
   "outputs": [
    {
     "data": {
      "text/plain": [
       "(490, 7)"
      ]
     },
     "execution_count": 28,
     "metadata": {},
     "output_type": "execute_result"
    }
   ],
   "source": [
    "df_sousAlimentation.shape"
   ]
  },
  {
   "cell_type": "code",
   "execution_count": 29,
   "metadata": {
    "scrolled": true
   },
   "outputs": [
    {
     "data": {
      "text/plain": [
       "Code zone         int64\n",
       "Zone             object\n",
       "Code Produit      int64\n",
       "Produit          object\n",
       "Année             int64\n",
       "Unité            object\n",
       "Valeur          float64\n",
       "dtype: object"
      ]
     },
     "execution_count": 29,
     "metadata": {},
     "output_type": "execute_result"
    }
   ],
   "source": [
    "df_sousAlimentation.dtypes"
   ]
  },
  {
   "cell_type": "code",
   "execution_count": 30,
   "metadata": {},
   "outputs": [],
   "source": [
    "# Création d'une colonne 'is_sousAlim' utile à la question 11.1\n",
    "df_sousAlimentation['is_sousAlim'] = 'True'"
   ]
  },
  {
   "cell_type": "code",
   "execution_count": 31,
   "metadata": {},
   "outputs": [],
   "source": [
    "# ré indexage du dataframe 'df_sousAlimentation'\n",
    "df_sousAlimentation = df_sousAlimentation.reset_index(drop=True) "
   ]
  },
  {
   "cell_type": "markdown",
   "metadata": {},
   "source": [
    "#### Données dupliquées "
   ]
  },
  {
   "cell_type": "code",
   "execution_count": 32,
   "metadata": {},
   "outputs": [
    {
     "data": {
      "text/plain": [
       "34649"
      ]
     },
     "execution_count": 32,
     "metadata": {},
     "output_type": "execute_result"
    }
   ],
   "source": [
    "#df_population.duplicated(subset=['Zone']).sum()\n",
    "df_animaux.duplicated(subset=['Zone', 'Élément']).sum() "
   ]
  },
  {
   "cell_type": "markdown",
   "metadata": {},
   "source": [
    "### 1.3 Analyse des données "
   ]
  },
  {
   "cell_type": "code",
   "execution_count": 33,
   "metadata": {
    "scrolled": true
   },
   "outputs": [
    {
     "data": {
      "text/html": [
       "<div>\n",
       "<style scoped>\n",
       "    .dataframe tbody tr th:only-of-type {\n",
       "        vertical-align: middle;\n",
       "    }\n",
       "\n",
       "    .dataframe tbody tr th {\n",
       "        vertical-align: top;\n",
       "    }\n",
       "\n",
       "    .dataframe thead th {\n",
       "        text-align: right;\n",
       "    }\n",
       "</style>\n",
       "<table border=\"1\" class=\"dataframe\">\n",
       "  <thead>\n",
       "    <tr style=\"text-align: right;\">\n",
       "      <th></th>\n",
       "      <th>Code zone</th>\n",
       "      <th>Valeur</th>\n",
       "    </tr>\n",
       "  </thead>\n",
       "  <tbody>\n",
       "    <tr>\n",
       "      <th>count</th>\n",
       "      <td>175.000000</td>\n",
       "      <td>1.750000e+02</td>\n",
       "    </tr>\n",
       "    <tr>\n",
       "      <th>mean</th>\n",
       "      <td>126.720000</td>\n",
       "      <td>4.807996e+04</td>\n",
       "    </tr>\n",
       "    <tr>\n",
       "      <th>std</th>\n",
       "      <td>75.168519</td>\n",
       "      <td>1.786327e+05</td>\n",
       "    </tr>\n",
       "    <tr>\n",
       "      <th>min</th>\n",
       "      <td>1.000000</td>\n",
       "      <td>5.400000e+01</td>\n",
       "    </tr>\n",
       "    <tr>\n",
       "      <th>25%</th>\n",
       "      <td>64.500000</td>\n",
       "      <td>2.543500e+03</td>\n",
       "    </tr>\n",
       "    <tr>\n",
       "      <th>50%</th>\n",
       "      <td>121.000000</td>\n",
       "      <td>9.413000e+03</td>\n",
       "    </tr>\n",
       "    <tr>\n",
       "      <th>75%</th>\n",
       "      <td>188.500000</td>\n",
       "      <td>2.888150e+04</td>\n",
       "    </tr>\n",
       "    <tr>\n",
       "      <th>max</th>\n",
       "      <td>351.000000</td>\n",
       "      <td>1.416667e+06</td>\n",
       "    </tr>\n",
       "  </tbody>\n",
       "</table>\n",
       "</div>"
      ],
      "text/plain": [
       "        Code zone        Valeur\n",
       "count  175.000000  1.750000e+02\n",
       "mean   126.720000  4.807996e+04\n",
       "std     75.168519  1.786327e+05\n",
       "min      1.000000  5.400000e+01\n",
       "25%     64.500000  2.543500e+03\n",
       "50%    121.000000  9.413000e+03\n",
       "75%    188.500000  2.888150e+04\n",
       "max    351.000000  1.416667e+06"
      ]
     },
     "execution_count": 33,
     "metadata": {},
     "output_type": "execute_result"
    }
   ],
   "source": [
    "df_population.describe()"
   ]
  },
  {
   "cell_type": "markdown",
   "metadata": {},
   "source": [
    "#### Pas de valeurs incohérentes comme par exemple un pays sans habitants"
   ]
  },
  {
   "cell_type": "markdown",
   "metadata": {},
   "source": [
    "### Recherche de doublons"
   ]
  },
  {
   "cell_type": "markdown",
   "metadata": {},
   "source": [
    "#### Remarques importantes : la lecture des données de la FAO mentionne  :  'Ethiopie' et 'Ethiopie RDP' puis 'Chine', 'Chine - RAS de Hong-Kong', 'Chine - RAS de Macao', 'Chine, continentale',  'Chine, Taiwan Province de...'\n",
    "                                                                    "
   ]
  },
  {
   "cell_type": "markdown",
   "metadata": {},
   "source": [
    "#### Recherche d' Ethiopie et Ethiopie RDP dans les données"
   ]
  },
  {
   "cell_type": "code",
   "execution_count": 34,
   "metadata": {},
   "outputs": [
    {
     "data": {
      "text/html": [
       "<div>\n",
       "<style scoped>\n",
       "    .dataframe tbody tr th:only-of-type {\n",
       "        vertical-align: middle;\n",
       "    }\n",
       "\n",
       "    .dataframe tbody tr th {\n",
       "        vertical-align: top;\n",
       "    }\n",
       "\n",
       "    .dataframe thead th {\n",
       "        text-align: right;\n",
       "    }\n",
       "</style>\n",
       "<table border=\"1\" class=\"dataframe\">\n",
       "  <thead>\n",
       "    <tr style=\"text-align: right;\">\n",
       "      <th></th>\n",
       "      <th>Code zone</th>\n",
       "      <th>Zone</th>\n",
       "      <th>Valeur</th>\n",
       "    </tr>\n",
       "  </thead>\n",
       "  <tbody>\n",
       "    <tr>\n",
       "      <th>56</th>\n",
       "      <td>238</td>\n",
       "      <td>Éthiopie</td>\n",
       "      <td>94101</td>\n",
       "    </tr>\n",
       "  </tbody>\n",
       "</table>\n",
       "</div>"
      ],
      "text/plain": [
       "    Code zone      Zone  Valeur\n",
       "56        238  Éthiopie   94101"
      ]
     },
     "execution_count": 34,
     "metadata": {},
     "output_type": "execute_result"
    }
   ],
   "source": [
    "# Création d'un filtre qui renvoie les données commençant par Éthio\n",
    "df_population_filter = df_population['Zone'].str.startswith('Éthio')\n",
    "df_population[df_population_filter].head()"
   ]
  },
  {
   "cell_type": "markdown",
   "metadata": {},
   "source": [
    "#### Il n'y a donc pas de doublon avec Ethiopie"
   ]
  },
  {
   "cell_type": "markdown",
   "metadata": {},
   "source": [
    "#### Recherche des occurences de Chine :"
   ]
  },
  {
   "cell_type": "code",
   "execution_count": 35,
   "metadata": {},
   "outputs": [
    {
     "data": {
      "text/html": [
       "<div>\n",
       "<style scoped>\n",
       "    .dataframe tbody tr th:only-of-type {\n",
       "        vertical-align: middle;\n",
       "    }\n",
       "\n",
       "    .dataframe tbody tr th {\n",
       "        vertical-align: top;\n",
       "    }\n",
       "\n",
       "    .dataframe thead th {\n",
       "        text-align: right;\n",
       "    }\n",
       "</style>\n",
       "<table border=\"1\" class=\"dataframe\">\n",
       "  <thead>\n",
       "    <tr style=\"text-align: right;\">\n",
       "      <th></th>\n",
       "      <th>Code zone</th>\n",
       "      <th>Zone</th>\n",
       "      <th>Valeur</th>\n",
       "    </tr>\n",
       "  </thead>\n",
       "  <tbody>\n",
       "    <tr>\n",
       "      <th>33</th>\n",
       "      <td>351</td>\n",
       "      <td>Chine</td>\n",
       "      <td>1416667</td>\n",
       "    </tr>\n",
       "    <tr>\n",
       "      <th>34</th>\n",
       "      <td>96</td>\n",
       "      <td>Chine - RAS de Hong-Kong</td>\n",
       "      <td>7204</td>\n",
       "    </tr>\n",
       "    <tr>\n",
       "      <th>35</th>\n",
       "      <td>128</td>\n",
       "      <td>Chine - RAS de Macao</td>\n",
       "      <td>566</td>\n",
       "    </tr>\n",
       "    <tr>\n",
       "      <th>36</th>\n",
       "      <td>41</td>\n",
       "      <td>Chine, continentale</td>\n",
       "      <td>1385567</td>\n",
       "    </tr>\n",
       "    <tr>\n",
       "      <th>37</th>\n",
       "      <td>214</td>\n",
       "      <td>Chine, Taiwan Province de</td>\n",
       "      <td>23330</td>\n",
       "    </tr>\n",
       "  </tbody>\n",
       "</table>\n",
       "</div>"
      ],
      "text/plain": [
       "    Code zone                       Zone   Valeur\n",
       "33        351                      Chine  1416667\n",
       "34         96   Chine - RAS de Hong-Kong     7204\n",
       "35        128       Chine - RAS de Macao      566\n",
       "36         41        Chine, continentale  1385567\n",
       "37        214  Chine, Taiwan Province de    23330"
      ]
     },
     "execution_count": 35,
     "metadata": {},
     "output_type": "execute_result"
    }
   ],
   "source": [
    "# Création d'un filtre qui renvoie les données commençant par Chin\n",
    "df_population_filter = df_population['Zone'].str.startswith('Chin')\n",
    "df_population[df_population_filter].head()"
   ]
  },
  {
   "cell_type": "code",
   "execution_count": 36,
   "metadata": {},
   "outputs": [
    {
     "data": {
      "text/html": [
       "<div>\n",
       "<style scoped>\n",
       "    .dataframe tbody tr th:only-of-type {\n",
       "        vertical-align: middle;\n",
       "    }\n",
       "\n",
       "    .dataframe tbody tr th {\n",
       "        vertical-align: top;\n",
       "    }\n",
       "\n",
       "    .dataframe thead th {\n",
       "        text-align: right;\n",
       "    }\n",
       "</style>\n",
       "<table border=\"1\" class=\"dataframe\">\n",
       "  <thead>\n",
       "    <tr style=\"text-align: right;\">\n",
       "      <th></th>\n",
       "      <th>Code zone</th>\n",
       "      <th>Zone</th>\n",
       "      <th>Valeur</th>\n",
       "    </tr>\n",
       "  </thead>\n",
       "  <tbody>\n",
       "    <tr>\n",
       "      <th>36</th>\n",
       "      <td>41</td>\n",
       "      <td>Chine, continentale</td>\n",
       "      <td>1385567</td>\n",
       "    </tr>\n",
       "    <tr>\n",
       "      <th>37</th>\n",
       "      <td>214</td>\n",
       "      <td>Chine, Taiwan Province de</td>\n",
       "      <td>23330</td>\n",
       "    </tr>\n",
       "  </tbody>\n",
       "</table>\n",
       "</div>"
      ],
      "text/plain": [
       "    Code zone                       Zone   Valeur\n",
       "36         41        Chine, continentale  1385567\n",
       "37        214  Chine, Taiwan Province de    23330"
      ]
     },
     "execution_count": 36,
     "metadata": {},
     "output_type": "execute_result"
    }
   ],
   "source": [
    "# Création d'un filtre qui renvoie les données commençant par 'Chine,_'\n",
    "df_autresChine_filter = df_population['Zone'].str.startswith('Chine, ')\n",
    "df_population[df_autresChine_filter].head()\n"
   ]
  },
  {
   "cell_type": "code",
   "execution_count": 37,
   "metadata": {},
   "outputs": [
    {
     "data": {
      "text/html": [
       "<div>\n",
       "<style scoped>\n",
       "    .dataframe tbody tr th:only-of-type {\n",
       "        vertical-align: middle;\n",
       "    }\n",
       "\n",
       "    .dataframe tbody tr th {\n",
       "        vertical-align: top;\n",
       "    }\n",
       "\n",
       "    .dataframe thead th {\n",
       "        text-align: right;\n",
       "    }\n",
       "</style>\n",
       "<table border=\"1\" class=\"dataframe\">\n",
       "  <thead>\n",
       "    <tr style=\"text-align: right;\">\n",
       "      <th></th>\n",
       "      <th>Code zone</th>\n",
       "      <th>Zone</th>\n",
       "      <th>Valeur</th>\n",
       "    </tr>\n",
       "  </thead>\n",
       "  <tbody>\n",
       "    <tr>\n",
       "      <th>34</th>\n",
       "      <td>96</td>\n",
       "      <td>Chine - RAS de Hong-Kong</td>\n",
       "      <td>7204</td>\n",
       "    </tr>\n",
       "    <tr>\n",
       "      <th>35</th>\n",
       "      <td>128</td>\n",
       "      <td>Chine - RAS de Macao</td>\n",
       "      <td>566</td>\n",
       "    </tr>\n",
       "  </tbody>\n",
       "</table>\n",
       "</div>"
      ],
      "text/plain": [
       "    Code zone                      Zone  Valeur\n",
       "34         96  Chine - RAS de Hong-Kong    7204\n",
       "35        128      Chine - RAS de Macao     566"
      ]
     },
     "execution_count": 37,
     "metadata": {},
     "output_type": "execute_result"
    }
   ],
   "source": [
    "# Création d'un filtre qui renvoie les données commençant par 'Chine_'\n",
    "df_ChineRas_filter = df_population['Zone'].str.startswith('Chine ')\n",
    "df_population[df_ChineRas_filter].head()"
   ]
  },
  {
   "cell_type": "code",
   "execution_count": 38,
   "metadata": {},
   "outputs": [],
   "source": [
    "# Calcul du nombre d'habitants pour 1 unité de valeur des terrictoires indépendants de Chine \n",
    "populationAutresChine = df_population[df_ChineRas_filter]['Valeur'].sum()+ df_population[df_autresChine_filter]['Valeur'].sum()"
   ]
  },
  {
   "cell_type": "code",
   "execution_count": 39,
   "metadata": {},
   "outputs": [
    {
     "name": "stdout",
     "output_type": "stream",
     "text": [
      "La population des terrictoires indépendants de Chine sont de  1416667000 habitants\n"
     ]
    }
   ],
   "source": [
    "print('La population des terrictoires indépendants de Chine sont de ',populationAutresChine*UNITE_VALEUR_POP, 'habitants')"
   ]
  },
  {
   "cell_type": "code",
   "execution_count": 40,
   "metadata": {
    "scrolled": false
   },
   "outputs": [
    {
     "name": "stdout",
     "output_type": "stream",
     "text": [
      "La population de Chine est de 1416667000 habitants\n"
     ]
    }
   ],
   "source": [
    "print('La population de Chine est de', df_population.iloc[33][2]*UNITE_VALEUR_POP, 'habitants')"
   ]
  },
  {
   "cell_type": "markdown",
   "metadata": {},
   "source": [
    "#### La population de Chine est égale à la population des terrictoires indépendants de Chine. C'est donc une redondance . Pour plus de précisions, les terrictoires indépendants de Chine sont conservées dans les données. L'item Chine est supprimée de tous les dataframes. "
   ]
  },
  {
   "cell_type": "code",
   "execution_count": 41,
   "metadata": {},
   "outputs": [],
   "source": [
    "# La donnée Chine est enlevée des datas des dataframes\n",
    "df_population.drop(df_population[df_population['Code zone'] == 351].index, inplace=True)\n",
    "df_animaux.drop(df_animaux[df_animaux['Code zone'] == 351].index, inplace=True)\n",
    "df_cereales.drop(df_cereales[df_cereales['Code zone'] == 351].index, inplace=True)\n",
    "df_sousAlimentation.drop(df_sousAlimentation[df_sousAlimentation['Code zone'] == 351].index, inplace=True)\n",
    "df_vegetaux.drop(df_vegetaux[df_vegetaux['Code zone'] == 351].index, inplace=True)"
   ]
  },
  {
   "cell_type": "code",
   "execution_count": 42,
   "metadata": {},
   "outputs": [
    {
     "data": {
      "text/html": [
       "<div>\n",
       "<style scoped>\n",
       "    .dataframe tbody tr th:only-of-type {\n",
       "        vertical-align: middle;\n",
       "    }\n",
       "\n",
       "    .dataframe tbody tr th {\n",
       "        vertical-align: top;\n",
       "    }\n",
       "\n",
       "    .dataframe thead th {\n",
       "        text-align: right;\n",
       "    }\n",
       "</style>\n",
       "<table border=\"1\" class=\"dataframe\">\n",
       "  <thead>\n",
       "    <tr style=\"text-align: right;\">\n",
       "      <th></th>\n",
       "      <th>Code zone</th>\n",
       "      <th>Zone</th>\n",
       "      <th>Valeur</th>\n",
       "    </tr>\n",
       "  </thead>\n",
       "  <tbody>\n",
       "    <tr>\n",
       "      <th>34</th>\n",
       "      <td>96</td>\n",
       "      <td>Chine - RAS de Hong-Kong</td>\n",
       "      <td>7204</td>\n",
       "    </tr>\n",
       "    <tr>\n",
       "      <th>35</th>\n",
       "      <td>128</td>\n",
       "      <td>Chine - RAS de Macao</td>\n",
       "      <td>566</td>\n",
       "    </tr>\n",
       "    <tr>\n",
       "      <th>36</th>\n",
       "      <td>41</td>\n",
       "      <td>Chine, continentale</td>\n",
       "      <td>1385567</td>\n",
       "    </tr>\n",
       "    <tr>\n",
       "      <th>37</th>\n",
       "      <td>214</td>\n",
       "      <td>Chine, Taiwan Province de</td>\n",
       "      <td>23330</td>\n",
       "    </tr>\n",
       "  </tbody>\n",
       "</table>\n",
       "</div>"
      ],
      "text/plain": [
       "    Code zone                       Zone   Valeur\n",
       "34         96   Chine - RAS de Hong-Kong     7204\n",
       "35        128       Chine - RAS de Macao      566\n",
       "36         41        Chine, continentale  1385567\n",
       "37        214  Chine, Taiwan Province de    23330"
      ]
     },
     "execution_count": 42,
     "metadata": {},
     "output_type": "execute_result"
    }
   ],
   "source": [
    "# Vérification de la disparition de la donnée Chine\n",
    "df_population_filter = df_population['Zone'].str.startswith('Chin')\n",
    "df_population[df_population_filter].head()"
   ]
  },
  {
   "cell_type": "markdown",
   "metadata": {},
   "source": [
    "# Question 1 : calcul de la population totale"
   ]
  },
  {
   "cell_type": "code",
   "execution_count": 43,
   "metadata": {},
   "outputs": [],
   "source": [
    "population_mondiale = df_population['Valeur'].sum() * UNITE_VALEUR_POP"
   ]
  },
  {
   "cell_type": "code",
   "execution_count": 44,
   "metadata": {},
   "outputs": [
    {
     "name": "stdout",
     "output_type": "stream",
     "text": [
      "La population mondiale en 2013 est de 6997326000 habitants\n"
     ]
    }
   ],
   "source": [
    "print('La population mondiale en 2013 est de',population_mondiale, 'habitants')"
   ]
  },
  {
   "cell_type": "code",
   "execution_count": 45,
   "metadata": {},
   "outputs": [
    {
     "name": "stdout",
     "output_type": "stream",
     "text": [
      "La population mondiale actuelle est de 7794799000 habitants soit une augmentation de 11.4 % depuis 2013\n"
     ]
    }
   ],
   "source": [
    "print('La population mondiale actuelle est de', POP_MONDIALE_ACTUELLE, 'habitants soit une augmentation de', round((POP_MONDIALE_ACTUELLE - population_mondiale) / population_mondiale * 100, 2),\"% depuis 2013\")"
   ]
  },
  {
   "cell_type": "code",
   "execution_count": 46,
   "metadata": {
    "scrolled": true
   },
   "outputs": [
    {
     "data": {
      "text/html": [
       "<div>\n",
       "<style scoped>\n",
       "    .dataframe tbody tr th:only-of-type {\n",
       "        vertical-align: middle;\n",
       "    }\n",
       "\n",
       "    .dataframe tbody tr th {\n",
       "        vertical-align: top;\n",
       "    }\n",
       "\n",
       "    .dataframe thead th {\n",
       "        text-align: right;\n",
       "    }\n",
       "</style>\n",
       "<table border=\"1\" class=\"dataframe\">\n",
       "  <thead>\n",
       "    <tr style=\"text-align: right;\">\n",
       "      <th></th>\n",
       "      <th>Country_code</th>\n",
       "      <th>Country</th>\n",
       "      <th>Population</th>\n",
       "    </tr>\n",
       "  </thead>\n",
       "  <tbody>\n",
       "    <tr>\n",
       "      <th>0</th>\n",
       "      <td>2</td>\n",
       "      <td>Afghanistan</td>\n",
       "      <td>30552000</td>\n",
       "    </tr>\n",
       "    <tr>\n",
       "      <th>1</th>\n",
       "      <td>202</td>\n",
       "      <td>Afrique du Sud</td>\n",
       "      <td>52776000</td>\n",
       "    </tr>\n",
       "    <tr>\n",
       "      <th>2</th>\n",
       "      <td>3</td>\n",
       "      <td>Albanie</td>\n",
       "      <td>3173000</td>\n",
       "    </tr>\n",
       "    <tr>\n",
       "      <th>3</th>\n",
       "      <td>4</td>\n",
       "      <td>Algérie</td>\n",
       "      <td>39208000</td>\n",
       "    </tr>\n",
       "    <tr>\n",
       "      <th>4</th>\n",
       "      <td>79</td>\n",
       "      <td>Allemagne</td>\n",
       "      <td>82727000</td>\n",
       "    </tr>\n",
       "  </tbody>\n",
       "</table>\n",
       "</div>"
      ],
      "text/plain": [
       "   Country_code         Country  Population\n",
       "0             2     Afghanistan    30552000\n",
       "1           202  Afrique du Sud    52776000\n",
       "2             3         Albanie     3173000\n",
       "3             4         Algérie    39208000\n",
       "4            79       Allemagne    82727000"
      ]
     },
     "execution_count": 46,
     "metadata": {},
     "output_type": "execute_result"
    }
   ],
   "source": [
    "# Renommage des colomnes pour une meilleure compréhension\n",
    "df_population = df_population.rename({'Code zone':'Country_code',\n",
    "                                     'Zone':'Country',\n",
    "                                     'Valeur':'Population'},axis=1)\n",
    "# Modification de la colonne Population pour qu'elle intègre l'unité de valeur\n",
    "df_population['Population'] = df_population['Population'] * UNITE_VALEUR_POP\n",
    "df_population.head()"
   ]
  },
  {
   "cell_type": "code",
   "execution_count": 47,
   "metadata": {},
   "outputs": [
    {
     "data": {
      "text/plain": [
       "(174, 3)"
      ]
     },
     "execution_count": 47,
     "metadata": {},
     "output_type": "execute_result"
    }
   ],
   "source": [
    "df_population.shape"
   ]
  },
  {
   "cell_type": "code",
   "execution_count": 48,
   "metadata": {},
   "outputs": [
    {
     "data": {
      "text/plain": [
       "Index(['Code zone', 'Zone', 'Code Élément', 'Élément', 'Code Produit',\n",
       "       'Produit', 'Année', 'Unité', 'Valeur', 'Origine'],\n",
       "      dtype='object')"
      ]
     },
     "execution_count": 48,
     "metadata": {},
     "output_type": "execute_result"
    }
   ],
   "source": [
    "df_cereales.columns"
   ]
  },
  {
   "cell_type": "code",
   "execution_count": 49,
   "metadata": {},
   "outputs": [],
   "source": [
    "#Renommage des colomnes pour une meilleure compréhension\n",
    "df_cereales = df_cereales.rename({'Code zone':'Country_code',\n",
    "                                     'Zone':'Country',\n",
    "                                  'Code Élément': 'Element_code',\n",
    "                                  'Élément':'Element',\n",
    "                                  'Code Produit':'Product_code',\n",
    "                                  'Produit':'Product',\n",
    "                                  'Année':'Year',\n",
    "                                  'Unité':'Unity',\n",
    "                                  'Valeur':'Value' },axis=1)                                   \n",
    "                                  \n",
    "                                 "
   ]
  },
  {
   "cell_type": "code",
   "execution_count": 50,
   "metadata": {},
   "outputs": [],
   "source": [
    "df_animaux = df_animaux.rename({'Code zone':'Country_code',\n",
    "                                     'Zone':'Country',\n",
    "                                  'Code Élément': 'Element_code',\n",
    "                                  'Élément':'Element',\n",
    "                                  'Code Produit':'Product_code',\n",
    "                                  'Produit':'Product',\n",
    "                                  'Année':'Year',\n",
    "                                  'Unité':'Unity',\n",
    "                                  'Valeur':'Value' },axis=1)   "
   ]
  },
  {
   "cell_type": "code",
   "execution_count": 51,
   "metadata": {},
   "outputs": [],
   "source": [
    "df_vegetaux = df_vegetaux.rename({'Code zone':'Country_code',\n",
    "                                     'Zone':'Country',\n",
    "                                  'Code Élément': 'Element_code',\n",
    "                                  'Élément':'Element',\n",
    "                                  'Code Produit':'Product_code',\n",
    "                                  'Produit':'Product',\n",
    "                                  'Année':'Year',\n",
    "                                  'Unité':'Unity',\n",
    "                                  'Valeur':'Value' },axis=1)   "
   ]
  },
  {
   "cell_type": "code",
   "execution_count": 52,
   "metadata": {},
   "outputs": [],
   "source": [
    "df_sousAlimentation = df_sousAlimentation.rename({'Code zone':'Country_code',\n",
    "                                     'Zone':'Country',\n",
    "                                  'Code Produit':'Product_code',\n",
    "                                  'Produit':'Product',\n",
    "                                  'Année':'Year',\n",
    "                                  'Unité':'Unity',\n",
    "                                  'Valeur':'Value' },axis=1)                                                             \n",
    "                                   "
   ]
  },
  {
   "cell_type": "markdown",
   "metadata": {},
   "source": [
    "# Question 2 : identification des redondances"
   ]
  },
  {
   "cell_type": "markdown",
   "metadata": {},
   "source": [
    "### D'après l'examen des données fournies par la FAO, on remarque :"
   ]
  },
  {
   "cell_type": "markdown",
   "metadata": {},
   "source": [
    "#### Disponibilité intérieure = Production + Importation - Exportation + Variation de stock\n",
    "#### Disponibilté intérieure = Nourriture +Aliments pour animaux + Semences + Pertes +Traitement + Autres utilisations\n"
   ]
  },
  {
   "cell_type": "code",
   "execution_count": 53,
   "metadata": {},
   "outputs": [],
   "source": [
    "# Dataframe ne contenant que les données concernant la France et le blé => création d'un filtre\n",
    "df_fr_ble_filtr = (df_vegetaux['Country']=='France')&(df_vegetaux['Product']=='Blé')"
   ]
  },
  {
   "cell_type": "code",
   "execution_count": 54,
   "metadata": {},
   "outputs": [
    {
     "data": {
      "text/html": [
       "<div>\n",
       "<style scoped>\n",
       "    .dataframe tbody tr th:only-of-type {\n",
       "        vertical-align: middle;\n",
       "    }\n",
       "\n",
       "    .dataframe tbody tr th {\n",
       "        vertical-align: top;\n",
       "    }\n",
       "\n",
       "    .dataframe thead th {\n",
       "        text-align: right;\n",
       "    }\n",
       "</style>\n",
       "<table border=\"1\" class=\"dataframe\">\n",
       "  <thead>\n",
       "    <tr style=\"text-align: right;\">\n",
       "      <th></th>\n",
       "      <th>Country_code</th>\n",
       "      <th>Country</th>\n",
       "      <th>Element_code</th>\n",
       "      <th>Element</th>\n",
       "      <th>Product_code</th>\n",
       "      <th>Product</th>\n",
       "      <th>Year</th>\n",
       "      <th>Unity</th>\n",
       "      <th>Value</th>\n",
       "      <th>Origine</th>\n",
       "    </tr>\n",
       "  </thead>\n",
       "  <tbody>\n",
       "    <tr>\n",
       "      <th>37487</th>\n",
       "      <td>68</td>\n",
       "      <td>France</td>\n",
       "      <td>5511</td>\n",
       "      <td>Production</td>\n",
       "      <td>2511</td>\n",
       "      <td>Blé</td>\n",
       "      <td>2013</td>\n",
       "      <td>Milliers de tonnes</td>\n",
       "      <td>38614.0</td>\n",
       "      <td>Végétal</td>\n",
       "    </tr>\n",
       "    <tr>\n",
       "      <th>37488</th>\n",
       "      <td>68</td>\n",
       "      <td>France</td>\n",
       "      <td>5611</td>\n",
       "      <td>Importations - Quantité</td>\n",
       "      <td>2511</td>\n",
       "      <td>Blé</td>\n",
       "      <td>2013</td>\n",
       "      <td>Milliers de tonnes</td>\n",
       "      <td>2055.0</td>\n",
       "      <td>Végétal</td>\n",
       "    </tr>\n",
       "    <tr>\n",
       "      <th>37489</th>\n",
       "      <td>68</td>\n",
       "      <td>France</td>\n",
       "      <td>5072</td>\n",
       "      <td>Variation de stock</td>\n",
       "      <td>2511</td>\n",
       "      <td>Blé</td>\n",
       "      <td>2013</td>\n",
       "      <td>Milliers de tonnes</td>\n",
       "      <td>1131.0</td>\n",
       "      <td>Végétal</td>\n",
       "    </tr>\n",
       "    <tr>\n",
       "      <th>37490</th>\n",
       "      <td>68</td>\n",
       "      <td>France</td>\n",
       "      <td>5911</td>\n",
       "      <td>Exportations - Quantité</td>\n",
       "      <td>2511</td>\n",
       "      <td>Blé</td>\n",
       "      <td>2013</td>\n",
       "      <td>Milliers de tonnes</td>\n",
       "      <td>21502.0</td>\n",
       "      <td>Végétal</td>\n",
       "    </tr>\n",
       "    <tr>\n",
       "      <th>37491</th>\n",
       "      <td>68</td>\n",
       "      <td>France</td>\n",
       "      <td>5301</td>\n",
       "      <td>Disponibilité intérieure</td>\n",
       "      <td>2511</td>\n",
       "      <td>Blé</td>\n",
       "      <td>2013</td>\n",
       "      <td>Milliers de tonnes</td>\n",
       "      <td>20298.0</td>\n",
       "      <td>Végétal</td>\n",
       "    </tr>\n",
       "    <tr>\n",
       "      <th>37492</th>\n",
       "      <td>68</td>\n",
       "      <td>France</td>\n",
       "      <td>5521</td>\n",
       "      <td>Aliments pour animaux</td>\n",
       "      <td>2511</td>\n",
       "      <td>Blé</td>\n",
       "      <td>2013</td>\n",
       "      <td>Milliers de tonnes</td>\n",
       "      <td>7822.0</td>\n",
       "      <td>Végétal</td>\n",
       "    </tr>\n",
       "    <tr>\n",
       "      <th>37493</th>\n",
       "      <td>68</td>\n",
       "      <td>France</td>\n",
       "      <td>5527</td>\n",
       "      <td>Semences</td>\n",
       "      <td>2511</td>\n",
       "      <td>Blé</td>\n",
       "      <td>2013</td>\n",
       "      <td>Milliers de tonnes</td>\n",
       "      <td>748.0</td>\n",
       "      <td>Végétal</td>\n",
       "    </tr>\n",
       "  </tbody>\n",
       "</table>\n",
       "</div>"
      ],
      "text/plain": [
       "       Country_code Country  Element_code                   Element  \\\n",
       "37487            68  France          5511                Production   \n",
       "37488            68  France          5611   Importations - Quantité   \n",
       "37489            68  France          5072        Variation de stock   \n",
       "37490            68  France          5911   Exportations - Quantité   \n",
       "37491            68  France          5301  Disponibilité intérieure   \n",
       "37492            68  France          5521     Aliments pour animaux   \n",
       "37493            68  France          5527                  Semences   \n",
       "\n",
       "       Product_code Product  Year               Unity    Value  Origine  \n",
       "37487          2511     Blé  2013  Milliers de tonnes  38614.0  Végétal  \n",
       "37488          2511     Blé  2013  Milliers de tonnes   2055.0  Végétal  \n",
       "37489          2511     Blé  2013  Milliers de tonnes   1131.0  Végétal  \n",
       "37490          2511     Blé  2013  Milliers de tonnes  21502.0  Végétal  \n",
       "37491          2511     Blé  2013  Milliers de tonnes  20298.0  Végétal  \n",
       "37492          2511     Blé  2013  Milliers de tonnes   7822.0  Végétal  \n",
       "37493          2511     Blé  2013  Milliers de tonnes    748.0  Végétal  "
      ]
     },
     "execution_count": 54,
     "metadata": {},
     "output_type": "execute_result"
    }
   ],
   "source": [
    "df_vegetaux_fr_ble = df_vegetaux[df_fr_ble_filtr]\n",
    "df_vegetaux_fr_ble.head(7)"
   ]
  },
  {
   "cell_type": "code",
   "execution_count": 55,
   "metadata": {},
   "outputs": [
    {
     "name": "stdout",
     "output_type": "stream",
     "text": [
      "Index(['Element', 'Unity', 'Value'], dtype='object')\n"
     ]
    }
   ],
   "source": [
    "df_vegetaux_fr_ble = df_vegetaux_fr_ble.loc[:,['Element','Unity','Value']]\n",
    "df_vegetaux_fr_ble = df_vegetaux_fr_ble.reset_index(drop=True) \n",
    "print(df_vegetaux_fr_ble.columns)"
   ]
  },
  {
   "cell_type": "code",
   "execution_count": 56,
   "metadata": {},
   "outputs": [
    {
     "name": "stdout",
     "output_type": "stream",
     "text": [
      "                   Element               Unity    Value\n",
      "0               Production  Milliers de tonnes  38614.0\n",
      "1  Importations - Quantité  Milliers de tonnes   2055.0\n",
      "2       Variation de stock  Milliers de tonnes   1131.0\n",
      "3  Exportations - Quantité  Milliers de tonnes  21502.0\n"
     ]
    }
   ],
   "source": [
    "# On ne garde que les lignes nécessaires au calcul de la disponibilité intérieure\n",
    "elements_to_keep = ['Production', 'Importations - Quantité','Variation de stock', 'Exportations - Quantité']\n",
    "elements_filter = df_vegetaux_fr_ble['Element'].isin(elements_to_keep)\n",
    "df_dispoInt_a = df_vegetaux_fr_ble[elements_filter]\n",
    "print(df_dispoInt_a)\n"
   ]
  },
  {
   "cell_type": "code",
   "execution_count": 57,
   "metadata": {
    "scrolled": false
   },
   "outputs": [
    {
     "name": "stdout",
     "output_type": "stream",
     "text": [
      "La disponibilité intérieure est de 20298.0 milliers de tonnes\n"
     ]
    }
   ],
   "source": [
    "print(\"La disponibilité intérieure est de\",(df_vegetaux_fr_ble.loc[4]['Value']),\"milliers de tonnes\")"
   ]
  },
  {
   "cell_type": "markdown",
   "metadata": {},
   "source": [
    "#### Disponibilité intérieure = Production + Importation - Exportation + Variation de stock"
   ]
  },
  {
   "cell_type": "code",
   "execution_count": 58,
   "metadata": {},
   "outputs": [
    {
     "data": {
      "text/plain": [
       "20298.0"
      ]
     },
     "execution_count": 58,
     "metadata": {},
     "output_type": "execute_result"
    }
   ],
   "source": [
    "df_dispoInt_a['Value'].sum() - (df_dispoInt_a.iloc[3][2]*2) "
   ]
  },
  {
   "cell_type": "markdown",
   "metadata": {},
   "source": [
    "#### Disponibilté intérieure = Nourriture +Aliments pour animaux + Semences + Pertes +Traitement + Autres utilisations"
   ]
  },
  {
   "cell_type": "code",
   "execution_count": 59,
   "metadata": {},
   "outputs": [
    {
     "data": {
      "text/html": [
       "<div>\n",
       "<style scoped>\n",
       "    .dataframe tbody tr th:only-of-type {\n",
       "        vertical-align: middle;\n",
       "    }\n",
       "\n",
       "    .dataframe tbody tr th {\n",
       "        vertical-align: top;\n",
       "    }\n",
       "\n",
       "    .dataframe thead th {\n",
       "        text-align: right;\n",
       "    }\n",
       "</style>\n",
       "<table border=\"1\" class=\"dataframe\">\n",
       "  <thead>\n",
       "    <tr style=\"text-align: right;\">\n",
       "      <th></th>\n",
       "      <th>Element</th>\n",
       "      <th>Unity</th>\n",
       "      <th>Value</th>\n",
       "    </tr>\n",
       "  </thead>\n",
       "  <tbody>\n",
       "    <tr>\n",
       "      <th>0</th>\n",
       "      <td>Production</td>\n",
       "      <td>Milliers de tonnes</td>\n",
       "      <td>38614.0</td>\n",
       "    </tr>\n",
       "    <tr>\n",
       "      <th>1</th>\n",
       "      <td>Importations - Quantité</td>\n",
       "      <td>Milliers de tonnes</td>\n",
       "      <td>2055.0</td>\n",
       "    </tr>\n",
       "  </tbody>\n",
       "</table>\n",
       "</div>"
      ],
      "text/plain": [
       "                   Element               Unity    Value\n",
       "0               Production  Milliers de tonnes  38614.0\n",
       "1  Importations - Quantité  Milliers de tonnes   2055.0"
      ]
     },
     "execution_count": 59,
     "metadata": {},
     "output_type": "execute_result"
    }
   ],
   "source": [
    "df_vegetaux_fr_ble.head(2)"
   ]
  },
  {
   "cell_type": "code",
   "execution_count": 60,
   "metadata": {},
   "outputs": [],
   "source": [
    "#df_dispoInt_b est une dataframe qui comprend les valeurs à additionner pour calculer la disponibilité intérieure\n",
    "elements_to_keepb = ['Nourriture', 'Aliments pour animaux','Semences', 'Pertes', 'Traitement', 'Autres utilisations (non alimentaire)']\n",
    "elements_filter = df_vegetaux_fr_ble['Element'].isin(elements_to_keepb)\n",
    "df_dispoInt_b = df_vegetaux_fr_ble[elements_filter]\n",
    " "
   ]
  },
  {
   "cell_type": "code",
   "execution_count": 61,
   "metadata": {},
   "outputs": [
    {
     "data": {
      "text/plain": [
       "20298.0"
      ]
     },
     "execution_count": 61,
     "metadata": {},
     "output_type": "execute_result"
    }
   ],
   "source": [
    "df_dispoInt_b['Value'].sum()"
   ]
  },
  {
   "cell_type": "markdown",
   "metadata": {},
   "source": [
    "# Question 3 :  calcul de la disponibilité alimentaire pour chaque pays et chaque produit"
   ]
  },
  {
   "cell_type": "markdown",
   "metadata": {},
   "source": [
    "### 3.1 Disponibilité alimentaire en kcal : "
   ]
  },
  {
   "cell_type": "code",
   "execution_count": 62,
   "metadata": {},
   "outputs": [],
   "source": [
    "# on réunit les dataframes \"df_animaux\" et \"df_végétaux\" pour n'avoir qu'un seul dataframe\n",
    "df_ani_veg = pd.concat([df_animaux, df_vegetaux])"
   ]
  },
  {
   "cell_type": "code",
   "execution_count": 63,
   "metadata": {
    "scrolled": true
   },
   "outputs": [
    {
     "data": {
      "text/plain": [
       "Country_code    0\n",
       "Country         0\n",
       "Element_code    0\n",
       "Element         0\n",
       "Product_code    0\n",
       "Product         0\n",
       "Year            0\n",
       "Unity           0\n",
       "Value           0\n",
       "Origine         0\n",
       "dtype: int64"
      ]
     },
     "execution_count": 63,
     "metadata": {},
     "output_type": "execute_result"
    }
   ],
   "source": [
    "# Recherche des valeurs manquantes => aucune valeur manquante\n",
    "df_ani_veg.isna().sum()"
   ]
  },
  {
   "cell_type": "code",
   "execution_count": 64,
   "metadata": {
    "scrolled": true
   },
   "outputs": [
    {
     "data": {
      "text/plain": [
       "0"
      ]
     },
     "execution_count": 64,
     "metadata": {},
     "output_type": "execute_result"
    }
   ],
   "source": [
    "# Recherche des occurences => aucune occurence\n",
    "df_ani_veg.duplicated(subset=['Country','Element', 'Product', ]).sum()"
   ]
  },
  {
   "cell_type": "code",
   "execution_count": 65,
   "metadata": {},
   "outputs": [
    {
     "data": {
      "text/plain": [
       "(140919, 10)"
      ]
     },
     "execution_count": 65,
     "metadata": {},
     "output_type": "execute_result"
    }
   ],
   "source": [
    "df_ani_veg.shape"
   ]
  },
  {
   "cell_type": "code",
   "execution_count": 66,
   "metadata": {
    "scrolled": true
   },
   "outputs": [],
   "source": [
    "# Création d'un filtre qui ne comprend que la disponibilité alimentaire (Kcal/personne/jour)dans colonne Element\n",
    "df_ani_veg_dispo_kcal = df_ani_veg[df_ani_veg['Element']=='Disponibilité alimentaire (Kcal/personne/jour)']"
   ]
  },
  {
   "cell_type": "code",
   "execution_count": 67,
   "metadata": {
    "scrolled": true
   },
   "outputs": [],
   "source": [
    "# Fusion avec le dataframe df_population pour avoir le nombre d'habitants / pays\n",
    "df_ani_veg_dispo_kcal = pd.merge(df_ani_veg_dispo_kcal,df_population)"
   ]
  },
  {
   "cell_type": "markdown",
   "metadata": {},
   "source": [
    "#### Pour chaque pays et chaque produit, la disponibilité alimentaire en Kcal se distribue ainsi :"
   ]
  },
  {
   "cell_type": "code",
   "execution_count": 68,
   "metadata": {},
   "outputs": [],
   "source": [
    "df_ani_veg_dispo_kcal['Disponibilite_pop_kcal'] = df_ani_veg_dispo_kcal['Value']*df_ani_veg_dispo_kcal['Population'] * NB_JOURS_ANNEE "
   ]
  },
  {
   "cell_type": "code",
   "execution_count": 69,
   "metadata": {},
   "outputs": [],
   "source": [
    "df_ani_veg_dispo_kcal.drop(['Element','Element_code','Unity',  'Value'], axis=1, inplace=True)"
   ]
  },
  {
   "cell_type": "markdown",
   "metadata": {},
   "source": [
    "### 3.2 Disponibilité alimentaire en kg de protéines "
   ]
  },
  {
   "cell_type": "code",
   "execution_count": 70,
   "metadata": {},
   "outputs": [
    {
     "data": {
      "text/plain": [
       "array(['Production', 'Importations - Quantité',\n",
       "       'Disponibilité intérieure', 'Nourriture',\n",
       "       'Disponibilité alimentaire en quantité (kg/personne/an)',\n",
       "       'Disponibilité alimentaire (Kcal/personne/jour)',\n",
       "       'Disponibilité de protéines en quantité (g/personne/jour)',\n",
       "       'Disponibilité de matière grasse en quantité (g/personne/jour)',\n",
       "       'Semences', 'Pertes', 'Exportations - Quantité',\n",
       "       'Aliments pour animaux', 'Autres utilisations (non alimentaire)',\n",
       "       'Variation de stock', 'Traitement'], dtype=object)"
      ]
     },
     "execution_count": 70,
     "metadata": {},
     "output_type": "execute_result"
    }
   ],
   "source": [
    "# Récupération de l'intitulé exact qui nous intéresse dans la colonne \"Element\"\n",
    "df_ani_veg['Element'].unique()"
   ]
  },
  {
   "cell_type": "code",
   "execution_count": 71,
   "metadata": {},
   "outputs": [],
   "source": [
    "# Création d'un filtre qui ne comprend que la disponibilité de protéines en quantité (g/personne/jour)dans colonne Element\n",
    "df_ani_veg_dispo_kg_prot = df_ani_veg[df_ani_veg['Element']=='Disponibilité de protéines en quantité (g/personne/jour)']"
   ]
  },
  {
   "cell_type": "code",
   "execution_count": 72,
   "metadata": {
    "scrolled": true
   },
   "outputs": [],
   "source": [
    "# Fusion avec le dataframe df_population pour avoir le nombre d'habitants / pays\n",
    "df_ani_veg_dispo_kg_prot = pd.merge(df_ani_veg_dispo_kg_prot,df_population)"
   ]
  },
  {
   "cell_type": "markdown",
   "metadata": {},
   "source": [
    "#### Pour chaque pays et chaque produit, la disponibilité alimentaire en Kg de protéine se distribue ainsi :"
   ]
  },
  {
   "cell_type": "code",
   "execution_count": 73,
   "metadata": {},
   "outputs": [],
   "source": [
    "# Création d'une colonne \"Disponibilite_pop_kg_prot\" dans le dataframe \"df_ani_veg_dispo_kg_prot\"\n",
    "# Calcul de la disponibilité en kg de protéine pour chaque pays et chaque produit pour une année\n",
    "df_ani_veg_dispo_kg_prot['Disponibilite_pop_kg_prot'] = df_ani_veg_dispo_kg_prot['Value']*df_ani_veg_dispo_kg_prot['Population'] * NB_JOURS_ANNEE / 1000\n"
   ]
  },
  {
   "cell_type": "markdown",
   "metadata": {},
   "source": [
    "## Question 4 : calcul du ratio \"énergie/poids\" pour chaque pays et chaque produit (en kcal/kg)"
   ]
  },
  {
   "cell_type": "code",
   "execution_count": 74,
   "metadata": {
    "scrolled": false
   },
   "outputs": [],
   "source": [
    "# Création d'un filtre qui ne comprend que la nourriture en milliers de tonnes\n",
    "df_ani_veg_nourriture = df_ani_veg[df_ani_veg['Element']=='Nourriture']"
   ]
  },
  {
   "cell_type": "code",
   "execution_count": 75,
   "metadata": {},
   "outputs": [],
   "source": [
    "df_ani_veg_nourriture = df_ani_veg_nourriture.drop(['Element_code','Element'], axis=1)"
   ]
  },
  {
   "cell_type": "code",
   "execution_count": 76,
   "metadata": {
    "scrolled": true
   },
   "outputs": [
    {
     "data": {
      "text/plain": [
       "(14015, 8)"
      ]
     },
     "execution_count": 76,
     "metadata": {},
     "output_type": "execute_result"
    }
   ],
   "source": [
    "df_ani_veg_nourriture.shape"
   ]
  },
  {
   "cell_type": "code",
   "execution_count": 77,
   "metadata": {},
   "outputs": [
    {
     "data": {
      "text/plain": [
       "(14241, 8)"
      ]
     },
     "execution_count": 77,
     "metadata": {},
     "output_type": "execute_result"
    }
   ],
   "source": [
    "df_ani_veg_dispo_kcal.shape"
   ]
  },
  {
   "cell_type": "code",
   "execution_count": 78,
   "metadata": {},
   "outputs": [],
   "source": [
    "df_ratio_EnergyPoids = pd.merge(df_ani_veg_dispo_kcal, df_ani_veg_nourriture)"
   ]
  },
  {
   "cell_type": "code",
   "execution_count": 79,
   "metadata": {
    "scrolled": true
   },
   "outputs": [
    {
     "data": {
      "text/plain": [
       "<bound method Series.sum of 0        False\n",
       "1        False\n",
       "2        False\n",
       "3        False\n",
       "4        False\n",
       "         ...  \n",
       "13991    False\n",
       "13992    False\n",
       "13993    False\n",
       "13994    False\n",
       "13995    False\n",
       "Length: 13996, dtype: bool>"
      ]
     },
     "execution_count": 79,
     "metadata": {},
     "output_type": "execute_result"
    }
   ],
   "source": [
    "# Vérification du bon déroulement de la fusion des dataframes \"df_ani_veg_dispo_kcal\" et \"df_ani_veg_nourriture\"\n",
    "df_ratio_EnergyPoids.duplicated().sum"
   ]
  },
  {
   "cell_type": "code",
   "execution_count": 80,
   "metadata": {},
   "outputs": [
    {
     "data": {
      "text/plain": [
       "count     13996.000000\n",
       "mean        348.403687\n",
       "std        4478.723225\n",
       "min        -246.000000\n",
       "25%           0.000000\n",
       "50%           5.000000\n",
       "75%          52.000000\n",
       "max      426850.000000\n",
       "Name: Value, dtype: float64"
      ]
     },
     "execution_count": 80,
     "metadata": {},
     "output_type": "execute_result"
    }
   ],
   "source": [
    "# Existe-t-il des valeurs nulles pour \"Value\" qui empêcherait la division => 25% de valeurs nulles \n",
    "df_ratio_EnergyPoids['Value'].describe()"
   ]
  },
  {
   "cell_type": "code",
   "execution_count": 81,
   "metadata": {
    "scrolled": true
   },
   "outputs": [],
   "source": [
    "df_ratio_EnergyPoids['Ratio_Kcal_Kg'] = round(df_ratio_EnergyPoids['Disponibilite_pop_kcal'] / (df_ratio_EnergyPoids['Value']*1000000),2)\n"
   ]
  },
  {
   "cell_type": "code",
   "execution_count": 82,
   "metadata": {},
   "outputs": [],
   "source": [
    "# Remplacement des \"inf\" par des \"NAN\" et suppression des lignes contenant des \"NAN\"\n",
    "df_ratio_EnergyPoids = df_ratio_EnergyPoids.replace([np.inf, -np.inf], np.nan).dropna(axis=0)"
   ]
  },
  {
   "cell_type": "code",
   "execution_count": 83,
   "metadata": {
    "scrolled": true
   },
   "outputs": [
    {
     "data": {
      "text/plain": [
       "Country_code              0.0\n",
       "Country                   0.0\n",
       "Product_code              0.0\n",
       "Product                   0.0\n",
       "Year                      0.0\n",
       "Origine                   0.0\n",
       "Population                0.0\n",
       "Disponibilite_pop_kcal    0.0\n",
       "Unity                     0.0\n",
       "Value                     0.0\n",
       "Ratio_Kcal_Kg             0.0\n",
       "dtype: float64"
      ]
     },
     "execution_count": 83,
     "metadata": {},
     "output_type": "execute_result"
    }
   ],
   "source": [
    "# Vérification de la présence de \"NAN\" => dataframe \"sain\"\n",
    "df_ratio_EnergyPoids.isna().mean(axis=0)"
   ]
  },
  {
   "cell_type": "code",
   "execution_count": 84,
   "metadata": {},
   "outputs": [
    {
     "data": {
      "text/plain": [
       "count     9997.000000\n",
       "mean      2478.645548\n",
       "std       2795.265311\n",
       "min          0.000000\n",
       "25%        455.010000\n",
       "50%       1282.680000\n",
       "75%       3416.480000\n",
       "max      19293.900000\n",
       "Name: Ratio_Kcal_Kg, dtype: float64"
      ]
     },
     "execution_count": 84,
     "metadata": {},
     "output_type": "execute_result"
    }
   ],
   "source": [
    "# Répartition du ratio Energie / poids des différents pays\n",
    "df_ratio_EnergyPoids['Ratio_Kcal_Kg'].describe()"
   ]
  },
  {
   "cell_type": "code",
   "execution_count": 85,
   "metadata": {},
   "outputs": [],
   "source": [
    "# Recherche du ratio des oeufs pour les différents pays\n",
    "df_ratio_EnergyPoidsOeufs =  df_ratio_EnergyPoids[df_ratio_EnergyPoids['Product'] == 'Oeufs']"
   ]
  },
  {
   "cell_type": "code",
   "execution_count": 86,
   "metadata": {},
   "outputs": [
    {
     "data": {
      "text/plain": [
       "count     169.000000\n",
       "mean     1345.300355\n",
       "std       166.791569\n",
       "min       704.450000\n",
       "25%      1284.800000\n",
       "50%      1387.520000\n",
       "75%      1419.400000\n",
       "max      2149.300000\n",
       "Name: Ratio_Kcal_Kg, dtype: float64"
      ]
     },
     "execution_count": 86,
     "metadata": {},
     "output_type": "execute_result"
    }
   ],
   "source": [
    "# Répartition du ration Energie / poids des oeufs pour les différents pays \n",
    "df_ratio_EnergyPoidsOeufs['Ratio_Kcal_Kg'].describe()"
   ]
  },
  {
   "cell_type": "markdown",
   "metadata": {},
   "source": [
    "#### D'après la littérature (Wikipédia), la valeur calorifique d'un oeuf est de 1470 kcal/kg. Les valeurs trouvées à partir des données de la FAO sont sensiblement du même ordre. Nous pouvons en conclure que le calcul est cohérent."
   ]
  },
  {
   "cell_type": "markdown",
   "metadata": {},
   "source": [
    "### 4.1 : calcul du pourcentage à partir du poids de protéines/poids total pour chaque pays et chaque produit (en kg_protéine /kg)"
   ]
  },
  {
   "cell_type": "code",
   "execution_count": 87,
   "metadata": {},
   "outputs": [],
   "source": [
    "df_ani_veg_dispo_kg_prot.drop(['Element','Value','Element_code','Unity'], axis=1, inplace=True)\n"
   ]
  },
  {
   "cell_type": "code",
   "execution_count": 88,
   "metadata": {},
   "outputs": [],
   "source": [
    "# Fusion des dataframes \"df_ani_veg_dispo_kg_prot\" et \"df_ani_veg_nourriture\"\n",
    "df_ratioProteine_Poids = pd.merge(df_ani_veg_dispo_kg_prot,df_ani_veg_nourriture)\n"
   ]
  },
  {
   "cell_type": "code",
   "execution_count": 89,
   "metadata": {},
   "outputs": [
    {
     "data": {
      "text/plain": [
       "0"
      ]
     },
     "execution_count": 89,
     "metadata": {},
     "output_type": "execute_result"
    }
   ],
   "source": [
    "# Vérification du bon déroulement de la fusion des dataframes \"df_ani_veg_dispo_kg_prot\" et \"df_ani_veg_nourriture\" => Bonne fusion\n",
    "df_ratioProteine_Poids.duplicated().sum()"
   ]
  },
  {
   "cell_type": "code",
   "execution_count": 90,
   "metadata": {},
   "outputs": [
    {
     "data": {
      "text/plain": [
       "count     11394.000000\n",
       "mean        409.424346\n",
       "std        4951.247432\n",
       "min        -246.000000\n",
       "25%           1.000000\n",
       "50%           8.000000\n",
       "75%          73.000000\n",
       "max      426850.000000\n",
       "Name: Value, dtype: float64"
      ]
     },
     "execution_count": 90,
     "metadata": {},
     "output_type": "execute_result"
    }
   ],
   "source": [
    "# Existe-t-il des valeurs nulles pour \"Value\" qui empêcherait la division => 25% de valeurs nulles \n",
    "df_ratioProteine_Poids['Value'].describe()"
   ]
  },
  {
   "cell_type": "code",
   "execution_count": 91,
   "metadata": {
    "scrolled": false
   },
   "outputs": [],
   "source": [
    "# Calcul du ratio \"poides de protéine/ poids\"\n",
    "df_ratioProteine_Poids['Ratio_KgProteine_Kg'] = round(df_ratioProteine_Poids['Disponibilite_pop_kg_prot'] / (df_ratioProteine_Poids['Value']*1000000),2)\n"
   ]
  },
  {
   "cell_type": "code",
   "execution_count": 92,
   "metadata": {},
   "outputs": [],
   "source": [
    "# Remplacement des \"inf\" par des \"NAN\" et suppression des lignes contenant des \"NAN\"\n",
    "df_ratioProteine_Poids = df_ratioProteine_Poids.replace([np.inf, -np.inf], np.nan).dropna(axis=0)"
   ]
  },
  {
   "cell_type": "code",
   "execution_count": 93,
   "metadata": {},
   "outputs": [
    {
     "data": {
      "text/plain": [
       "Country_code                 0.0\n",
       "Country                      0.0\n",
       "Product_code                 0.0\n",
       "Product                      0.0\n",
       "Year                         0.0\n",
       "Origine                      0.0\n",
       "Population                   0.0\n",
       "Disponibilite_pop_kg_prot    0.0\n",
       "Unity                        0.0\n",
       "Value                        0.0\n",
       "Ratio_KgProteine_Kg          0.0\n",
       "dtype: float64"
      ]
     },
     "execution_count": 93,
     "metadata": {},
     "output_type": "execute_result"
    }
   ],
   "source": [
    "# Vérification de la présence de \"NAN\" => dataframe \"sain\"\n",
    "df_ratioProteine_Poids.isna().mean(axis=0)"
   ]
  },
  {
   "cell_type": "code",
   "execution_count": 94,
   "metadata": {
    "scrolled": true
   },
   "outputs": [],
   "source": [
    "# Pour avoir le pourcentage de protéines de chaque produit (pour chaque pays)\n",
    "df_ratioProteine_Poids['PourcentageProteine'] = df_ratioProteine_Poids['Ratio_KgProteine_Kg']*100"
   ]
  },
  {
   "cell_type": "code",
   "execution_count": 95,
   "metadata": {
    "scrolled": true
   },
   "outputs": [],
   "source": [
    "# Présentation du dataframe \"df_ratioProteine_Poids\"\n",
    "df_ratioProteine_Poids.drop(['Unity', 'Value'], axis=1, inplace=True)\n"
   ]
  },
  {
   "cell_type": "markdown",
   "metadata": {},
   "source": [
    "#### Vérification de la cohérence du calcul par exemple avec l'avoine "
   ]
  },
  {
   "cell_type": "code",
   "execution_count": 96,
   "metadata": {},
   "outputs": [],
   "source": [
    "# Création d'un filtre sur \"Avoine\"\n",
    "df_ratioProteine_Poids_Avoine = df_ratioProteine_Poids[df_ratioProteine_Poids['Product'] == 'Avoine']\n"
   ]
  },
  {
   "cell_type": "code",
   "execution_count": 97,
   "metadata": {
    "scrolled": false
   },
   "outputs": [
    {
     "data": {
      "text/plain": [
       "count    94.000000\n",
       "mean      8.159574\n",
       "std       2.268547\n",
       "min       0.000000\n",
       "25%       7.000000\n",
       "50%       8.500000\n",
       "75%       9.000000\n",
       "max      14.000000\n",
       "Name: PourcentageProteine, dtype: float64"
      ]
     },
     "execution_count": 97,
     "metadata": {},
     "output_type": "execute_result"
    }
   ],
   "source": [
    "df_ratioProteine_Poids_Avoine['PourcentageProteine'].describe()"
   ]
  },
  {
   "cell_type": "code",
   "execution_count": 98,
   "metadata": {},
   "outputs": [
    {
     "data": {
      "image/png": "[encoded data removed]",
      "text/plain": [
       "<Figure size 432x288 with 1 Axes>"
      ]
     },
     "metadata": {
      "needs_background": "light"
     },
     "output_type": "display_data"
    }
   ],
   "source": [
    "df_ratioProteine_Poids_Avoine.boxplot('PourcentageProteine', showfliers=False);"
   ]
  },
  {
   "cell_type": "markdown",
   "metadata": {},
   "source": [
    "#### Selon les ressources (Wikipédia), l'avoine contient 10.7% de protéine. D'après les claculs, nous trouvons un pourcentage de 8.15%. L'ordre de grandeur est respecté. Le calcul est cohérent."
   ]
  },
  {
   "cell_type": "markdown",
   "metadata": {},
   "source": [
    "## Question 5 : Citez 5 aliments parmi les 20 aliments les plus caloriques, en utilisant le ratio énergie/poids. "
   ]
  },
  {
   "cell_type": "code",
   "execution_count": 99,
   "metadata": {},
   "outputs": [],
   "source": [
    "# Suppression des colonnes non indispensables du dataframe\n",
    "df_ratio_EnergyPoids.drop(['Unity', 'Value','Population'], axis=1 ,inplace=True)"
   ]
  },
  {
   "cell_type": "code",
   "execution_count": 100,
   "metadata": {
    "scrolled": true
   },
   "outputs": [
    {
     "data": {
      "text/html": [
       "<div>\n",
       "<style scoped>\n",
       "    .dataframe tbody tr th:only-of-type {\n",
       "        vertical-align: middle;\n",
       "    }\n",
       "\n",
       "    .dataframe tbody tr th {\n",
       "        vertical-align: top;\n",
       "    }\n",
       "\n",
       "    .dataframe thead th {\n",
       "        text-align: right;\n",
       "    }\n",
       "</style>\n",
       "<table border=\"1\" class=\"dataframe\">\n",
       "  <thead>\n",
       "    <tr style=\"text-align: right;\">\n",
       "      <th></th>\n",
       "      <th>Country_code</th>\n",
       "      <th>Country</th>\n",
       "      <th>Product_code</th>\n",
       "      <th>Product</th>\n",
       "      <th>Year</th>\n",
       "      <th>Origine</th>\n",
       "      <th>Disponibilite_pop_kcal</th>\n",
       "      <th>Ratio_Kcal_Kg</th>\n",
       "    </tr>\n",
       "  </thead>\n",
       "  <tbody>\n",
       "    <tr>\n",
       "      <th>10</th>\n",
       "      <td>2</td>\n",
       "      <td>Afghanistan</td>\n",
       "      <td>2761</td>\n",
       "      <td>Poissons Eau Douce</td>\n",
       "      <td>2013</td>\n",
       "      <td>Animal</td>\n",
       "      <td>0.0</td>\n",
       "      <td>0.0</td>\n",
       "    </tr>\n",
       "    <tr>\n",
       "      <th>25</th>\n",
       "      <td>2</td>\n",
       "      <td>Afghanistan</td>\n",
       "      <td>2563</td>\n",
       "      <td>Olives</td>\n",
       "      <td>2013</td>\n",
       "      <td>Végétal</td>\n",
       "      <td>0.0</td>\n",
       "      <td>0.0</td>\n",
       "    </tr>\n",
       "    <tr>\n",
       "      <th>33</th>\n",
       "      <td>2</td>\n",
       "      <td>Afghanistan</td>\n",
       "      <td>2580</td>\n",
       "      <td>Huile d'Olive</td>\n",
       "      <td>2013</td>\n",
       "      <td>Végétal</td>\n",
       "      <td>0.0</td>\n",
       "      <td>0.0</td>\n",
       "    </tr>\n",
       "    <tr>\n",
       "      <th>42</th>\n",
       "      <td>2</td>\n",
       "      <td>Afghanistan</td>\n",
       "      <td>2619</td>\n",
       "      <td>Dattes</td>\n",
       "      <td>2013</td>\n",
       "      <td>Végétal</td>\n",
       "      <td>0.0</td>\n",
       "      <td>0.0</td>\n",
       "    </tr>\n",
       "    <tr>\n",
       "      <th>46</th>\n",
       "      <td>2</td>\n",
       "      <td>Afghanistan</td>\n",
       "      <td>2633</td>\n",
       "      <td>Feve de Cacao</td>\n",
       "      <td>2013</td>\n",
       "      <td>Végétal</td>\n",
       "      <td>0.0</td>\n",
       "      <td>0.0</td>\n",
       "    </tr>\n",
       "    <tr>\n",
       "      <th>...</th>\n",
       "      <td>...</td>\n",
       "      <td>...</td>\n",
       "      <td>...</td>\n",
       "      <td>...</td>\n",
       "      <td>...</td>\n",
       "      <td>...</td>\n",
       "      <td>...</td>\n",
       "      <td>...</td>\n",
       "    </tr>\n",
       "    <tr>\n",
       "      <th>13976</th>\n",
       "      <td>181</td>\n",
       "      <td>Zimbabwe</td>\n",
       "      <td>2613</td>\n",
       "      <td>Pamplemousse</td>\n",
       "      <td>2013</td>\n",
       "      <td>Végétal</td>\n",
       "      <td>0.0</td>\n",
       "      <td>0.0</td>\n",
       "    </tr>\n",
       "    <tr>\n",
       "      <th>13977</th>\n",
       "      <td>181</td>\n",
       "      <td>Zimbabwe</td>\n",
       "      <td>2614</td>\n",
       "      <td>Agrumes, Autres</td>\n",
       "      <td>2013</td>\n",
       "      <td>Végétal</td>\n",
       "      <td>0.0</td>\n",
       "      <td>0.0</td>\n",
       "    </tr>\n",
       "    <tr>\n",
       "      <th>13980</th>\n",
       "      <td>181</td>\n",
       "      <td>Zimbabwe</td>\n",
       "      <td>2618</td>\n",
       "      <td>Ananas</td>\n",
       "      <td>2013</td>\n",
       "      <td>Végétal</td>\n",
       "      <td>0.0</td>\n",
       "      <td>0.0</td>\n",
       "    </tr>\n",
       "    <tr>\n",
       "      <th>13982</th>\n",
       "      <td>181</td>\n",
       "      <td>Zimbabwe</td>\n",
       "      <td>2620</td>\n",
       "      <td>Raisin</td>\n",
       "      <td>2013</td>\n",
       "      <td>Végétal</td>\n",
       "      <td>0.0</td>\n",
       "      <td>0.0</td>\n",
       "    </tr>\n",
       "    <tr>\n",
       "      <th>13984</th>\n",
       "      <td>181</td>\n",
       "      <td>Zimbabwe</td>\n",
       "      <td>2630</td>\n",
       "      <td>Café</td>\n",
       "      <td>2013</td>\n",
       "      <td>Végétal</td>\n",
       "      <td>0.0</td>\n",
       "      <td>0.0</td>\n",
       "    </tr>\n",
       "  </tbody>\n",
       "</table>\n",
       "<p>1022 rows × 8 columns</p>\n",
       "</div>"
      ],
      "text/plain": [
       "       Country_code      Country  Product_code             Product  Year  \\\n",
       "10                2  Afghanistan          2761  Poissons Eau Douce  2013   \n",
       "25                2  Afghanistan          2563              Olives  2013   \n",
       "33                2  Afghanistan          2580       Huile d'Olive  2013   \n",
       "42                2  Afghanistan          2619              Dattes  2013   \n",
       "46                2  Afghanistan          2633       Feve de Cacao  2013   \n",
       "...             ...          ...           ...                 ...   ...   \n",
       "13976           181     Zimbabwe          2613        Pamplemousse  2013   \n",
       "13977           181     Zimbabwe          2614     Agrumes, Autres  2013   \n",
       "13980           181     Zimbabwe          2618              Ananas  2013   \n",
       "13982           181     Zimbabwe          2620              Raisin  2013   \n",
       "13984           181     Zimbabwe          2630                Café  2013   \n",
       "\n",
       "       Origine  Disponibilite_pop_kcal  Ratio_Kcal_Kg  \n",
       "10      Animal                     0.0            0.0  \n",
       "25     Végétal                     0.0            0.0  \n",
       "33     Végétal                     0.0            0.0  \n",
       "42     Végétal                     0.0            0.0  \n",
       "46     Végétal                     0.0            0.0  \n",
       "...        ...                     ...            ...  \n",
       "13976  Végétal                     0.0            0.0  \n",
       "13977  Végétal                     0.0            0.0  \n",
       "13980  Végétal                     0.0            0.0  \n",
       "13982  Végétal                     0.0            0.0  \n",
       "13984  Végétal                     0.0            0.0  \n",
       "\n",
       "[1022 rows x 8 columns]"
      ]
     },
     "execution_count": 100,
     "metadata": {},
     "output_type": "execute_result"
    }
   ],
   "source": [
    "df_ratio_EnergyPoids[df_ratio_EnergyPoids['Ratio_Kcal_Kg']==0]\n"
   ]
  },
  {
   "cell_type": "code",
   "execution_count": 101,
   "metadata": {},
   "outputs": [],
   "source": [
    "# Suppression des \"Ratio_Kcal_Kg\" égaux à 0\n",
    "df_ratio_EnergyPoids = df_ratio_EnergyPoids.drop(df_ratio_EnergyPoids[df_ratio_EnergyPoids['Ratio_Kcal_Kg'] == 0].index, axis=0)"
   ]
  },
  {
   "cell_type": "code",
   "execution_count": 102,
   "metadata": {},
   "outputs": [
    {
     "data": {
      "text/plain": [
       "(8975, 8)"
      ]
     },
     "execution_count": 102,
     "metadata": {},
     "output_type": "execute_result"
    }
   ],
   "source": [
    "df_ratio_EnergyPoids.shape"
   ]
  },
  {
   "cell_type": "code",
   "execution_count": 103,
   "metadata": {},
   "outputs": [],
   "source": [
    "# Réinitialisation des index\n",
    "df_ratio_EnergyPoids = df_ratio_EnergyPoids.reset_index(drop=True)\n"
   ]
  },
  {
   "cell_type": "code",
   "execution_count": 104,
   "metadata": {
    "scrolled": true
   },
   "outputs": [],
   "source": [
    "df_ratioTopCalorique = df_ratio_EnergyPoids.groupby('Product').mean()\n"
   ]
  },
  {
   "cell_type": "code",
   "execution_count": 105,
   "metadata": {},
   "outputs": [
    {
     "data": {
      "text/html": [
       "<div>\n",
       "<style scoped>\n",
       "    .dataframe tbody tr th:only-of-type {\n",
       "        vertical-align: middle;\n",
       "    }\n",
       "\n",
       "    .dataframe tbody tr th {\n",
       "        vertical-align: top;\n",
       "    }\n",
       "\n",
       "    .dataframe thead th {\n",
       "        text-align: right;\n",
       "    }\n",
       "</style>\n",
       "<table border=\"1\" class=\"dataframe\">\n",
       "  <thead>\n",
       "    <tr style=\"text-align: right;\">\n",
       "      <th></th>\n",
       "      <th>Country_code</th>\n",
       "      <th>Product_code</th>\n",
       "      <th>Year</th>\n",
       "      <th>Disponibilite_pop_kcal</th>\n",
       "      <th>Ratio_Kcal_Kg</th>\n",
       "    </tr>\n",
       "    <tr>\n",
       "      <th>Product</th>\n",
       "      <th></th>\n",
       "      <th></th>\n",
       "      <th></th>\n",
       "      <th></th>\n",
       "      <th></th>\n",
       "    </tr>\n",
       "  </thead>\n",
       "  <tbody>\n",
       "    <tr>\n",
       "      <th>Viande de Bovins</th>\n",
       "      <td>125.51462</td>\n",
       "      <td>2731.0</td>\n",
       "      <td>2013.0</td>\n",
       "      <td>5.891388e+11</td>\n",
       "      <td>1679.369357</td>\n",
       "    </tr>\n",
       "  </tbody>\n",
       "</table>\n",
       "</div>"
      ],
      "text/plain": [
       "                  Country_code  Product_code    Year  Disponibilite_pop_kcal  \\\n",
       "Product                                                                        \n",
       "Viande de Bovins     125.51462        2731.0  2013.0            5.891388e+11   \n",
       "\n",
       "                  Ratio_Kcal_Kg  \n",
       "Product                          \n",
       "Viande de Bovins    1679.369357  "
      ]
     },
     "execution_count": 105,
     "metadata": {},
     "output_type": "execute_result"
    }
   ],
   "source": [
    "# Vérification que la moyenne a fonctionné\n",
    "df_ratioTopCalorique[df_ratioTopCalorique['Product_code']== 2731]"
   ]
  },
  {
   "cell_type": "code",
   "execution_count": 106,
   "metadata": {},
   "outputs": [],
   "source": [
    "# Classement des \"Ratio_Kcal_Kg\" par ordre décroissant\n",
    "df_ratioTopCalorique = df_ratioTopCalorique.sort_values('Ratio_Kcal_Kg', ascending=False).head(20)\n"
   ]
  },
  {
   "cell_type": "code",
   "execution_count": 107,
   "metadata": {},
   "outputs": [
    {
     "data": {
      "image/png": "[encoded data removed]",
      "text/plain": [
       "<Figure size 432x288 with 1 Axes>"
      ]
     },
     "metadata": {
      "needs_background": "light"
     },
     "output_type": "display_data"
    }
   ],
   "source": [
    "df_ratioTopCalorique['Ratio_Kcal_Kg'].plot(kind='bar', title='Ratios Calorifiques par aliments', legend=None, sort_columns=True);"
   ]
  },
  {
   "cell_type": "markdown",
   "metadata": {},
   "source": [
    "#### Les cinq aliments les plus calorifiques en utilisant le ratio énergie/poids sont :"
   ]
  },
  {
   "cell_type": "code",
   "execution_count": 108,
   "metadata": {
    "scrolled": true
   },
   "outputs": [
    {
     "data": {
      "text/html": [
       "<div>\n",
       "<style scoped>\n",
       "    .dataframe tbody tr th:only-of-type {\n",
       "        vertical-align: middle;\n",
       "    }\n",
       "\n",
       "    .dataframe tbody tr th {\n",
       "        vertical-align: top;\n",
       "    }\n",
       "\n",
       "    .dataframe thead th {\n",
       "        text-align: right;\n",
       "    }\n",
       "</style>\n",
       "<table border=\"1\" class=\"dataframe\">\n",
       "  <thead>\n",
       "    <tr style=\"text-align: right;\">\n",
       "      <th></th>\n",
       "      <th>Country_code</th>\n",
       "      <th>Product_code</th>\n",
       "      <th>Year</th>\n",
       "      <th>Disponibilite_pop_kcal</th>\n",
       "      <th>Ratio_Kcal_Kg</th>\n",
       "    </tr>\n",
       "    <tr>\n",
       "      <th>Product</th>\n",
       "      <th></th>\n",
       "      <th></th>\n",
       "      <th></th>\n",
       "      <th></th>\n",
       "      <th></th>\n",
       "    </tr>\n",
       "  </thead>\n",
       "  <tbody>\n",
       "    <tr>\n",
       "      <th>Huiles de Foie de Poisso</th>\n",
       "      <td>193.000000</td>\n",
       "      <td>2782.0</td>\n",
       "      <td>2013.0</td>\n",
       "      <td>4.732334e+10</td>\n",
       "      <td>9982.930000</td>\n",
       "    </tr>\n",
       "    <tr>\n",
       "      <th>Huile de Sésame</th>\n",
       "      <td>119.200000</td>\n",
       "      <td>2579.0</td>\n",
       "      <td>2013.0</td>\n",
       "      <td>1.841101e+11</td>\n",
       "      <td>9433.745143</td>\n",
       "    </tr>\n",
       "    <tr>\n",
       "      <th>Huile de Son de Riz</th>\n",
       "      <td>119.166667</td>\n",
       "      <td>2581.0</td>\n",
       "      <td>2013.0</td>\n",
       "      <td>5.920899e+11</td>\n",
       "      <td>9361.549167</td>\n",
       "    </tr>\n",
       "    <tr>\n",
       "      <th>Huiles de Poissons</th>\n",
       "      <td>77.333333</td>\n",
       "      <td>2781.0</td>\n",
       "      <td>2013.0</td>\n",
       "      <td>2.012756e+11</td>\n",
       "      <td>9003.716667</td>\n",
       "    </tr>\n",
       "    <tr>\n",
       "      <th>Huile d'Arachide</th>\n",
       "      <td>129.328947</td>\n",
       "      <td>2572.0</td>\n",
       "      <td>2013.0</td>\n",
       "      <td>4.427298e+11</td>\n",
       "      <td>8935.766184</td>\n",
       "    </tr>\n",
       "  </tbody>\n",
       "</table>\n",
       "</div>"
      ],
      "text/plain": [
       "                          Country_code  Product_code    Year  \\\n",
       "Product                                                        \n",
       "Huiles de Foie de Poisso    193.000000        2782.0  2013.0   \n",
       "Huile de Sésame             119.200000        2579.0  2013.0   \n",
       "Huile de Son de Riz         119.166667        2581.0  2013.0   \n",
       "Huiles de Poissons           77.333333        2781.0  2013.0   \n",
       "Huile d'Arachide            129.328947        2572.0  2013.0   \n",
       "\n",
       "                          Disponibilite_pop_kcal  Ratio_Kcal_Kg  \n",
       "Product                                                          \n",
       "Huiles de Foie de Poisso            4.732334e+10    9982.930000  \n",
       "Huile de Sésame                     1.841101e+11    9433.745143  \n",
       "Huile de Son de Riz                 5.920899e+11    9361.549167  \n",
       "Huiles de Poissons                  2.012756e+11    9003.716667  \n",
       "Huile d'Arachide                    4.427298e+11    8935.766184  "
      ]
     },
     "execution_count": 108,
     "metadata": {},
     "output_type": "execute_result"
    }
   ],
   "source": [
    "# Affichage des 5 aliments les plus calorifiques en utilisant le ratio énergie/poids. \n",
    "df_ratioTopCalorique.iloc[:5]"
   ]
  },
  {
   "cell_type": "markdown",
   "metadata": {},
   "source": [
    "#### Sans surprise, nous retrouvons des huiles dans le palmarès des aliments les plus énergétiques."
   ]
  },
  {
   "cell_type": "markdown",
   "metadata": {},
   "source": [
    "### 5.1 Recherche des  5 aliments parmi les 20 aliments les plus riches en protéines :"
   ]
  },
  {
   "cell_type": "code",
   "execution_count": 109,
   "metadata": {},
   "outputs": [
    {
     "data": {
      "text/html": [
       "<div>\n",
       "<style scoped>\n",
       "    .dataframe tbody tr th:only-of-type {\n",
       "        vertical-align: middle;\n",
       "    }\n",
       "\n",
       "    .dataframe tbody tr th {\n",
       "        vertical-align: top;\n",
       "    }\n",
       "\n",
       "    .dataframe thead th {\n",
       "        text-align: right;\n",
       "    }\n",
       "</style>\n",
       "<table border=\"1\" class=\"dataframe\">\n",
       "  <thead>\n",
       "    <tr style=\"text-align: right;\">\n",
       "      <th></th>\n",
       "      <th>Country_code</th>\n",
       "      <th>Country</th>\n",
       "      <th>Product_code</th>\n",
       "      <th>Product</th>\n",
       "      <th>Year</th>\n",
       "      <th>Origine</th>\n",
       "      <th>Population</th>\n",
       "      <th>Disponibilite_pop_kg_prot</th>\n",
       "      <th>Ratio_KgProteine_Kg</th>\n",
       "      <th>PourcentageProteine</th>\n",
       "    </tr>\n",
       "  </thead>\n",
       "  <tbody>\n",
       "    <tr>\n",
       "      <th>0</th>\n",
       "      <td>2</td>\n",
       "      <td>Afghanistan</td>\n",
       "      <td>2731</td>\n",
       "      <td>Viande de Bovins</td>\n",
       "      <td>2013</td>\n",
       "      <td>Animal</td>\n",
       "      <td>30552000</td>\n",
       "      <td>21076297.2</td>\n",
       "      <td>0.15</td>\n",
       "      <td>15.0</td>\n",
       "    </tr>\n",
       "    <tr>\n",
       "      <th>1</th>\n",
       "      <td>2</td>\n",
       "      <td>Afghanistan</td>\n",
       "      <td>2732</td>\n",
       "      <td>Viande d'Ovins/Caprins</td>\n",
       "      <td>2013</td>\n",
       "      <td>Animal</td>\n",
       "      <td>30552000</td>\n",
       "      <td>21299326.8</td>\n",
       "      <td>0.14</td>\n",
       "      <td>14.0</td>\n",
       "    </tr>\n",
       "  </tbody>\n",
       "</table>\n",
       "</div>"
      ],
      "text/plain": [
       "   Country_code      Country  Product_code                 Product  Year  \\\n",
       "0             2  Afghanistan          2731        Viande de Bovins  2013   \n",
       "1             2  Afghanistan          2732  Viande d'Ovins/Caprins  2013   \n",
       "\n",
       "  Origine  Population  Disponibilite_pop_kg_prot  Ratio_KgProteine_Kg  \\\n",
       "0  Animal    30552000                 21076297.2                 0.15   \n",
       "1  Animal    30552000                 21299326.8                 0.14   \n",
       "\n",
       "   PourcentageProteine  \n",
       "0                 15.0  \n",
       "1                 14.0  "
      ]
     },
     "execution_count": 109,
     "metadata": {},
     "output_type": "execute_result"
    }
   ],
   "source": [
    "df_ratioProteine_Poids.head(2)"
   ]
  },
  {
   "cell_type": "code",
   "execution_count": 110,
   "metadata": {},
   "outputs": [
    {
     "data": {
      "text/plain": [
       "(8722, 10)"
      ]
     },
     "execution_count": 110,
     "metadata": {},
     "output_type": "execute_result"
    }
   ],
   "source": [
    "# Shape avant suppression des 0\n",
    "df_ratioProteine_Poids.shape"
   ]
  },
  {
   "cell_type": "code",
   "execution_count": 111,
   "metadata": {},
   "outputs": [],
   "source": [
    "# Suppression des \"Ratio_KgProteine_Kg\" égaux à 0\n",
    "df_ratioProteine_Poids = df_ratioProteine_Poids.drop(df_ratioProteine_Poids[df_ratioProteine_Poids['Ratio_KgProteine_Kg'] == 0].index, axis=0)"
   ]
  },
  {
   "cell_type": "code",
   "execution_count": 112,
   "metadata": {},
   "outputs": [
    {
     "data": {
      "text/plain": [
       "(6918, 10)"
      ]
     },
     "execution_count": 112,
     "metadata": {},
     "output_type": "execute_result"
    }
   ],
   "source": [
    "df_ratioProteine_Poids.shape"
   ]
  },
  {
   "cell_type": "code",
   "execution_count": 113,
   "metadata": {},
   "outputs": [],
   "source": [
    "df_TopRichProt = df_ratioProteine_Poids.groupby('Product').mean()\n"
   ]
  },
  {
   "cell_type": "code",
   "execution_count": 114,
   "metadata": {},
   "outputs": [
    {
     "data": {
      "text/html": [
       "<div>\n",
       "<style scoped>\n",
       "    .dataframe tbody tr th:only-of-type {\n",
       "        vertical-align: middle;\n",
       "    }\n",
       "\n",
       "    .dataframe tbody tr th {\n",
       "        vertical-align: top;\n",
       "    }\n",
       "\n",
       "    .dataframe thead th {\n",
       "        text-align: right;\n",
       "    }\n",
       "</style>\n",
       "<table border=\"1\" class=\"dataframe\">\n",
       "  <thead>\n",
       "    <tr style=\"text-align: right;\">\n",
       "      <th></th>\n",
       "      <th>Country_code</th>\n",
       "      <th>Product_code</th>\n",
       "      <th>Year</th>\n",
       "      <th>Population</th>\n",
       "      <th>Disponibilite_pop_kg_prot</th>\n",
       "      <th>Ratio_KgProteine_Kg</th>\n",
       "      <th>PourcentageProteine</th>\n",
       "    </tr>\n",
       "    <tr>\n",
       "      <th>Product</th>\n",
       "      <th></th>\n",
       "      <th></th>\n",
       "      <th></th>\n",
       "      <th></th>\n",
       "      <th></th>\n",
       "      <th></th>\n",
       "      <th></th>\n",
       "    </tr>\n",
       "  </thead>\n",
       "  <tbody>\n",
       "    <tr>\n",
       "      <th>Viande de Bovins</th>\n",
       "      <td>125.51462</td>\n",
       "      <td>2731.0</td>\n",
       "      <td>2013.0</td>\n",
       "      <td>4.091769e+07</td>\n",
       "      <td>5.283524e+07</td>\n",
       "      <td>0.144795</td>\n",
       "      <td>14.479532</td>\n",
       "    </tr>\n",
       "  </tbody>\n",
       "</table>\n",
       "</div>"
      ],
      "text/plain": [
       "                  Country_code  Product_code    Year    Population  \\\n",
       "Product                                                              \n",
       "Viande de Bovins     125.51462        2731.0  2013.0  4.091769e+07   \n",
       "\n",
       "                  Disponibilite_pop_kg_prot  Ratio_KgProteine_Kg  \\\n",
       "Product                                                            \n",
       "Viande de Bovins               5.283524e+07             0.144795   \n",
       "\n",
       "                  PourcentageProteine  \n",
       "Product                                \n",
       "Viande de Bovins            14.479532  "
      ]
     },
     "execution_count": 114,
     "metadata": {},
     "output_type": "execute_result"
    }
   ],
   "source": [
    "# Vérification que la moyenne a fonctionné\n",
    "df_TopRichProt[df_TopRichProt['Product_code']== 2731]"
   ]
  },
  {
   "cell_type": "code",
   "execution_count": 115,
   "metadata": {},
   "outputs": [],
   "source": [
    "# Classement des \"Ratio_KgProteine_Kg\" par ordre décroissant\n",
    "df_TopRichProt = df_TopRichProt.sort_values('Ratio_KgProteine_Kg', ascending=False).head(20)"
   ]
  },
  {
   "cell_type": "code",
   "execution_count": 116,
   "metadata": {},
   "outputs": [
    {
     "data": {
      "image/png": "[encoded data removed]",
      "text/plain": [
       "<Figure size 432x288 with 1 Axes>"
      ]
     },
     "metadata": {
      "needs_background": "light"
     },
     "output_type": "display_data"
    }
   ],
   "source": [
    "df_TopRichProt['Ratio_KgProteine_Kg'].plot(kind='bar', title='Ratios Kg de protéines par aliments', legend=None, sort_columns=True);"
   ]
  },
  {
   "cell_type": "markdown",
   "metadata": {},
   "source": [
    "#### Les 5 aliments les plus protéinés sont :"
   ]
  },
  {
   "cell_type": "code",
   "execution_count": 117,
   "metadata": {},
   "outputs": [
    {
     "data": {
      "text/html": [
       "<div>\n",
       "<style scoped>\n",
       "    .dataframe tbody tr th:only-of-type {\n",
       "        vertical-align: middle;\n",
       "    }\n",
       "\n",
       "    .dataframe tbody tr th {\n",
       "        vertical-align: top;\n",
       "    }\n",
       "\n",
       "    .dataframe thead th {\n",
       "        text-align: right;\n",
       "    }\n",
       "</style>\n",
       "<table border=\"1\" class=\"dataframe\">\n",
       "  <thead>\n",
       "    <tr style=\"text-align: right;\">\n",
       "      <th></th>\n",
       "      <th>Country_code</th>\n",
       "      <th>Product_code</th>\n",
       "      <th>Year</th>\n",
       "      <th>Population</th>\n",
       "      <th>Disponibilite_pop_kg_prot</th>\n",
       "      <th>Ratio_KgProteine_Kg</th>\n",
       "      <th>PourcentageProteine</th>\n",
       "    </tr>\n",
       "    <tr>\n",
       "      <th>Product</th>\n",
       "      <th></th>\n",
       "      <th></th>\n",
       "      <th></th>\n",
       "      <th></th>\n",
       "      <th></th>\n",
       "      <th></th>\n",
       "      <th></th>\n",
       "    </tr>\n",
       "  </thead>\n",
       "  <tbody>\n",
       "    <tr>\n",
       "      <th>Graines Colza/Moutarde</th>\n",
       "      <td>33.000000</td>\n",
       "      <td>2558.0</td>\n",
       "      <td>2013.0</td>\n",
       "      <td>3.518200e+07</td>\n",
       "      <td>1.284143e+07</td>\n",
       "      <td>0.290000</td>\n",
       "      <td>29.000000</td>\n",
       "    </tr>\n",
       "    <tr>\n",
       "      <th>Soja</th>\n",
       "      <td>134.626506</td>\n",
       "      <td>2555.0</td>\n",
       "      <td>2013.0</td>\n",
       "      <td>7.250643e+07</td>\n",
       "      <td>4.149991e+07</td>\n",
       "      <td>0.284699</td>\n",
       "      <td>28.469880</td>\n",
       "    </tr>\n",
       "    <tr>\n",
       "      <th>Arachides Decortiquees</th>\n",
       "      <td>127.615942</td>\n",
       "      <td>2556.0</td>\n",
       "      <td>2013.0</td>\n",
       "      <td>4.923415e+07</td>\n",
       "      <td>2.033977e+07</td>\n",
       "      <td>0.251232</td>\n",
       "      <td>25.123188</td>\n",
       "    </tr>\n",
       "    <tr>\n",
       "      <th>Pois</th>\n",
       "      <td>134.162162</td>\n",
       "      <td>2547.0</td>\n",
       "      <td>2013.0</td>\n",
       "      <td>5.691562e+07</td>\n",
       "      <td>1.169065e+07</td>\n",
       "      <td>0.223604</td>\n",
       "      <td>22.360360</td>\n",
       "    </tr>\n",
       "    <tr>\n",
       "      <th>Légumineuses Autres</th>\n",
       "      <td>128.507576</td>\n",
       "      <td>2549.0</td>\n",
       "      <td>2013.0</td>\n",
       "      <td>5.059539e+07</td>\n",
       "      <td>4.353251e+07</td>\n",
       "      <td>0.219091</td>\n",
       "      <td>21.909091</td>\n",
       "    </tr>\n",
       "  </tbody>\n",
       "</table>\n",
       "</div>"
      ],
      "text/plain": [
       "                        Country_code  Product_code    Year    Population  \\\n",
       "Product                                                                    \n",
       "Graines Colza/Moutarde     33.000000        2558.0  2013.0  3.518200e+07   \n",
       "Soja                      134.626506        2555.0  2013.0  7.250643e+07   \n",
       "Arachides Decortiquees    127.615942        2556.0  2013.0  4.923415e+07   \n",
       "Pois                      134.162162        2547.0  2013.0  5.691562e+07   \n",
       "Légumineuses Autres       128.507576        2549.0  2013.0  5.059539e+07   \n",
       "\n",
       "                        Disponibilite_pop_kg_prot  Ratio_KgProteine_Kg  \\\n",
       "Product                                                                  \n",
       "Graines Colza/Moutarde               1.284143e+07             0.290000   \n",
       "Soja                                 4.149991e+07             0.284699   \n",
       "Arachides Decortiquees               2.033977e+07             0.251232   \n",
       "Pois                                 1.169065e+07             0.223604   \n",
       "Légumineuses Autres                  4.353251e+07             0.219091   \n",
       "\n",
       "                        PourcentageProteine  \n",
       "Product                                      \n",
       "Graines Colza/Moutarde            29.000000  \n",
       "Soja                              28.469880  \n",
       "Arachides Decortiquees            25.123188  \n",
       "Pois                              22.360360  \n",
       "Légumineuses Autres               21.909091  "
      ]
     },
     "execution_count": 117,
     "metadata": {},
     "output_type": "execute_result"
    }
   ],
   "source": [
    "# Affichage des 5 aliments les plus protéinés en utilisant le ratio kg_protéine/poids. \n",
    "df_TopRichProt.iloc[:5]"
   ]
  },
  {
   "cell_type": "markdown",
   "metadata": {},
   "source": [
    "#### Les Graines Colza/Moutarde sont les aliments les plus riches en protéines."
   ]
  },
  {
   "cell_type": "markdown",
   "metadata": {},
   "source": [
    "## Question 6 : Calcul, pour les produits végétaux uniquement, de la disponibilité intérieure mondiale exprimée en kcal."
   ]
  },
  {
   "cell_type": "code",
   "execution_count": 118,
   "metadata": {},
   "outputs": [],
   "source": [
    "# Filtrage sur l'élement Disponibilité intérieure de \"df_vegetaux\"\n",
    "df_vegDispoIntKg = df_vegetaux[df_vegetaux['Element']== 'Disponibilité intérieure']"
   ]
  },
  {
   "cell_type": "code",
   "execution_count": 119,
   "metadata": {
    "scrolled": true
   },
   "outputs": [
    {
     "data": {
      "text/plain": [
       "(11673, 10)"
      ]
     },
     "execution_count": 119,
     "metadata": {},
     "output_type": "execute_result"
    }
   ],
   "source": [
    "df_vegDispoIntKg.shape"
   ]
  },
  {
   "cell_type": "code",
   "execution_count": 120,
   "metadata": {},
   "outputs": [
    {
     "data": {
      "text/plain": [
       "(8975, 8)"
      ]
     },
     "execution_count": 120,
     "metadata": {},
     "output_type": "execute_result"
    }
   ],
   "source": [
    "df_ratio_EnergyPoids.shape"
   ]
  },
  {
   "cell_type": "code",
   "execution_count": 121,
   "metadata": {},
   "outputs": [],
   "source": [
    "# Filtrage sur \"origine\"\n",
    "df_vegRatio_EnergyPoids = df_ratio_EnergyPoids[df_ratio_EnergyPoids['Origine']=='Végétal']"
   ]
  },
  {
   "cell_type": "code",
   "execution_count": 122,
   "metadata": {},
   "outputs": [],
   "source": [
    "# Fusion des dataframes \"df_vegRatio_EnergyPoids\" et \"df_vegDispoIntKg\"\n",
    "df_vegDispoIntKcalKg = pd.merge(df_vegRatio_EnergyPoids, df_vegDispoIntKg, how='right')"
   ]
  },
  {
   "cell_type": "code",
   "execution_count": 123,
   "metadata": {},
   "outputs": [
    {
     "data": {
      "text/plain": [
       "(11673, 12)"
      ]
     },
     "execution_count": 123,
     "metadata": {},
     "output_type": "execute_result"
    }
   ],
   "source": [
    "df_vegDispoIntKcalKg.shape"
   ]
  },
  {
   "cell_type": "code",
   "execution_count": 124,
   "metadata": {
    "scrolled": true
   },
   "outputs": [],
   "source": [
    "# Recherche et suppression des duplicatas \n",
    "df_vegDispoIntKcalKg.duplicated(subset=['Product']).sum()\n",
    "df_vegDispoIntKcalKg = df_vegDispoIntKcalKg.drop_duplicates()"
   ]
  },
  {
   "cell_type": "code",
   "execution_count": 125,
   "metadata": {
    "scrolled": false
   },
   "outputs": [
    {
     "data": {
      "text/plain": [
       "Country_code                 0\n",
       "Country                      0\n",
       "Product_code                 0\n",
       "Product                      0\n",
       "Year                         0\n",
       "Origine                      0\n",
       "Disponibilite_pop_kcal    4989\n",
       "Ratio_Kcal_Kg             4989\n",
       "Element_code                 0\n",
       "Element                      0\n",
       "Unity                        0\n",
       "Value                        0\n",
       "dtype: int64"
      ]
     },
     "execution_count": 125,
     "metadata": {},
     "output_type": "execute_result"
    }
   ],
   "source": [
    "# Valeurs manquantes\n",
    "df_vegDispoIntKcalKg.isna().sum()\n",
    "#print(df_vegDispoIntKcalKg.isna().mean(axis=0))\n",
    "#print(df_vegDispoIntKcalKg.isna().mean(axis=1))"
   ]
  },
  {
   "cell_type": "code",
   "execution_count": 126,
   "metadata": {},
   "outputs": [
    {
     "data": {
      "text/plain": [
       "(6684, 12)"
      ]
     },
     "execution_count": 126,
     "metadata": {},
     "output_type": "execute_result"
    }
   ],
   "source": [
    "# suppression des valeurs manquantes NB: une fusion à gauche donne moins de valeurs manquantes => logique !!\n",
    "df_vegDispoIntKcalKg = df_vegDispoIntKcalKg.dropna()\n",
    "df_vegDispoIntKcalKg.shape"
   ]
  },
  {
   "cell_type": "code",
   "execution_count": 127,
   "metadata": {},
   "outputs": [],
   "source": [
    "df_vegDispoIntKcalKg['vegDispoInterKcal'] = (df_vegDispoIntKcalKg['Ratio_Kcal_Kg'] * (df_vegDispoIntKcalKg['Value']*1000000))"
   ]
  },
  {
   "cell_type": "code",
   "execution_count": 128,
   "metadata": {},
   "outputs": [
    {
     "data": {
      "text/plain": [
       "(6684, 13)"
      ]
     },
     "execution_count": 128,
     "metadata": {},
     "output_type": "execute_result"
    }
   ],
   "source": [
    "# Vérification de la création de la colonne \"vegDispoInterKcal\"\n",
    "df_vegDispoIntKcalKg.shape"
   ]
  },
  {
   "cell_type": "code",
   "execution_count": 129,
   "metadata": {},
   "outputs": [],
   "source": [
    "# Calcul de la disponibilité intérieure mondiale en kcal de l'ensemble des végétaux\n",
    "veg_dispoIntWorld = df_vegDispoIntKcalKg['vegDispoInterKcal'].sum()"
   ]
  },
  {
   "cell_type": "code",
   "execution_count": 130,
   "metadata": {},
   "outputs": [
    {
     "name": "stdout",
     "output_type": "stream",
     "text": [
      "La disponibilité intérieure mondiale en kcal de l'ensemble des végétaux est de 1.231209243418e+16 Kcal\n"
     ]
    }
   ],
   "source": [
    "print('La disponibilité intérieure mondiale en kcal de l\\'ensemble des végétaux est de',veg_dispoIntWorld, 'Kcal')"
   ]
  },
  {
   "cell_type": "code",
   "execution_count": 131,
   "metadata": {},
   "outputs": [
    {
     "name": "stdout",
     "output_type": "stream",
     "text": [
      "(11673, 10)\n",
      "(8975, 8)\n",
      "(6684, 13)\n"
     ]
    }
   ],
   "source": [
    "# Vérification des différents dataframes\n",
    "print(df_vegDispoIntKg.shape)\n",
    "print(df_ratio_EnergyPoids.shape)\n",
    "print(df_vegDispoIntKcalKg.shape)"
   ]
  },
  {
   "cell_type": "markdown",
   "metadata": {},
   "source": [
    "## Question 7 : Combien d'humains pourraient être nourris si toute la disponibilité intérieure mondiale de produits végétaux était utilisée pour de la nourriture ? Donnez les résultats en termes de calories, puis de protéines, et exprimez ensuite ces 2 résultats en pourcentage de la population mondiale."
   ]
  },
  {
   "cell_type": "markdown",
   "metadata": {},
   "source": [
    "### 7.1 Nombre d'humains nourris - Unité : Kcalorie"
   ]
  },
  {
   "cell_type": "markdown",
   "metadata": {},
   "source": [
    "#### D'après un rapport de la FAO sur la malnutrition, l'homme a besoin d'un apport de 2800Kcal/jour contre 2000Kcal pour une femme (hors femmes enceintes et allaitantes). Aussi, nous fixerons l'apport journalier pour un humain à 2400 kcal."
   ]
  },
  {
   "cell_type": "markdown",
   "metadata": {},
   "source": [
    "#### Nombre d'humains pouvant être nourris si toute la disponibilité intérieure mondiale de produits végétaux était utilisée pour de la nourriture "
   ]
  },
  {
   "cell_type": "code",
   "execution_count": 132,
   "metadata": {},
   "outputs": [
    {
     "name": "stdout",
     "output_type": "stream",
     "text": [
      "14054900039.0  humains pourraient être nourris soit  200.86 % de la population mondiale\n"
     ]
    }
   ],
   "source": [
    "nb_humains = veg_dispoIntWorld / (APPORT_JOUR_KCAL * NB_JOURS_ANNEE)\n",
    "print(round(nb_humains,0), ' humains pourraient être nourris soit ', round(nb_humains/POP_MONDIALE_FAO * 100,2), '% de la population mondiale')"
   ]
  },
  {
   "cell_type": "markdown",
   "metadata": {},
   "source": [
    "###  7.2 Nombre d'humains nourris - Unité : protéine"
   ]
  },
  {
   "cell_type": "markdown",
   "metadata": {},
   "source": [
    "#### D'après un rapport de la FAO sur la malnutrition, l'homme a besoin d'un apport de 63 g de protéine par jour contre 50 g pour une femme (hors femmes enceintes et allaitantes). Aussi, nous fixerons l'apport journalier pour un humain à 56 g."
   ]
  },
  {
   "cell_type": "markdown",
   "metadata": {},
   "source": [
    "#### Nombre d'humains pouvant être nourris si toute la disponibilité intérieure mondiale de produits végétaux était utilisée pour de la nourriture (en 2013)"
   ]
  },
  {
   "cell_type": "code",
   "execution_count": 133,
   "metadata": {
    "scrolled": false
   },
   "outputs": [
    {
     "data": {
      "text/html": [
       "<div>\n",
       "<style scoped>\n",
       "    .dataframe tbody tr th:only-of-type {\n",
       "        vertical-align: middle;\n",
       "    }\n",
       "\n",
       "    .dataframe tbody tr th {\n",
       "        vertical-align: top;\n",
       "    }\n",
       "\n",
       "    .dataframe thead th {\n",
       "        text-align: right;\n",
       "    }\n",
       "</style>\n",
       "<table border=\"1\" class=\"dataframe\">\n",
       "  <thead>\n",
       "    <tr style=\"text-align: right;\">\n",
       "      <th></th>\n",
       "      <th>Country_code</th>\n",
       "      <th>Country</th>\n",
       "      <th>Product_code</th>\n",
       "      <th>Product</th>\n",
       "      <th>Year</th>\n",
       "      <th>Origine</th>\n",
       "      <th>Population</th>\n",
       "      <th>Disponibilite_pop_kg_prot</th>\n",
       "      <th>Ratio_KgProteine_Kg</th>\n",
       "      <th>PourcentageProteine</th>\n",
       "    </tr>\n",
       "  </thead>\n",
       "  <tbody>\n",
       "    <tr>\n",
       "      <th>0</th>\n",
       "      <td>2</td>\n",
       "      <td>Afghanistan</td>\n",
       "      <td>2731</td>\n",
       "      <td>Viande de Bovins</td>\n",
       "      <td>2013</td>\n",
       "      <td>Animal</td>\n",
       "      <td>30552000</td>\n",
       "      <td>21076297.2</td>\n",
       "      <td>0.15</td>\n",
       "      <td>15.0</td>\n",
       "    </tr>\n",
       "    <tr>\n",
       "      <th>1</th>\n",
       "      <td>2</td>\n",
       "      <td>Afghanistan</td>\n",
       "      <td>2732</td>\n",
       "      <td>Viande d'Ovins/Caprins</td>\n",
       "      <td>2013</td>\n",
       "      <td>Animal</td>\n",
       "      <td>30552000</td>\n",
       "      <td>21299326.8</td>\n",
       "      <td>0.14</td>\n",
       "      <td>14.0</td>\n",
       "    </tr>\n",
       "  </tbody>\n",
       "</table>\n",
       "</div>"
      ],
      "text/plain": [
       "   Country_code      Country  Product_code                 Product  Year  \\\n",
       "0             2  Afghanistan          2731        Viande de Bovins  2013   \n",
       "1             2  Afghanistan          2732  Viande d'Ovins/Caprins  2013   \n",
       "\n",
       "  Origine  Population  Disponibilite_pop_kg_prot  Ratio_KgProteine_Kg  \\\n",
       "0  Animal    30552000                 21076297.2                 0.15   \n",
       "1  Animal    30552000                 21299326.8                 0.14   \n",
       "\n",
       "   PourcentageProteine  \n",
       "0                 15.0  \n",
       "1                 14.0  "
      ]
     },
     "execution_count": 133,
     "metadata": {},
     "output_type": "execute_result"
    }
   ],
   "source": [
    "# dataframe protéine\n",
    "df_ratioProteine_Poids.head(2)"
   ]
  },
  {
   "cell_type": "code",
   "execution_count": 134,
   "metadata": {},
   "outputs": [],
   "source": [
    "# Filtrage sur \"origine\"\n",
    "df_vegRatioProteine_Poids = df_ratioProteine_Poids[df_ratioProteine_Poids['Origine']=='Végétal']"
   ]
  },
  {
   "cell_type": "code",
   "execution_count": 135,
   "metadata": {},
   "outputs": [],
   "source": [
    "# Fusion des dataframes \"df_vegRatioProteine_Poids\" et \"df_vegDispoIntKg\"\n",
    "df_vegDispoIntProtKg = pd.merge(df_vegRatioProteine_Poids, df_vegDispoIntKg, how='left')"
   ]
  },
  {
   "cell_type": "code",
   "execution_count": 136,
   "metadata": {},
   "outputs": [
    {
     "data": {
      "text/plain": [
       "(4501, 14)"
      ]
     },
     "execution_count": 136,
     "metadata": {},
     "output_type": "execute_result"
    }
   ],
   "source": [
    "df_vegDispoIntProtKg.shape"
   ]
  },
  {
   "cell_type": "code",
   "execution_count": 137,
   "metadata": {},
   "outputs": [],
   "source": [
    "# Recherche et suppression des duplicatas \n",
    "df_vegDispoIntProtKg.duplicated(subset=['Product']).sum()\n",
    "df_vegDispoIntProtKg = df_vegDispoIntProtKg.drop_duplicates()"
   ]
  },
  {
   "cell_type": "code",
   "execution_count": 138,
   "metadata": {},
   "outputs": [
    {
     "data": {
      "text/plain": [
       "Country_code                 0\n",
       "Country                      0\n",
       "Product_code                 0\n",
       "Product                      0\n",
       "Year                         0\n",
       "Origine                      0\n",
       "Population                   0\n",
       "Disponibilite_pop_kg_prot    0\n",
       "Ratio_KgProteine_Kg          0\n",
       "PourcentageProteine          0\n",
       "Element_code                 0\n",
       "Element                      0\n",
       "Unity                        0\n",
       "Value                        0\n",
       "dtype: int64"
      ]
     },
     "execution_count": 138,
     "metadata": {},
     "output_type": "execute_result"
    }
   ],
   "source": [
    "# Valeurs manquantes\n",
    "df_vegDispoIntProtKg.isna().sum()"
   ]
  },
  {
   "cell_type": "code",
   "execution_count": 139,
   "metadata": {},
   "outputs": [
    {
     "data": {
      "text/plain": [
       "(4501, 14)"
      ]
     },
     "execution_count": 139,
     "metadata": {},
     "output_type": "execute_result"
    }
   ],
   "source": [
    "# suppression des valeurs manquantes\n",
    "df_vegDispoIntProtKg = df_vegDispoIntProtKg.dropna(axis=0)\n",
    "df_vegDispoIntProtKg.shape"
   ]
  },
  {
   "cell_type": "code",
   "execution_count": 140,
   "metadata": {},
   "outputs": [],
   "source": [
    "# Création d'une colonne qui comprend le résultat de la dispo intérieure en kg de protéine\n",
    "df_vegDispoIntProtKg['vegDispoInterProt'] = (df_vegDispoIntProtKg['Ratio_KgProteine_Kg'] * (df_vegDispoIntProtKg['Value']*1000000))"
   ]
  },
  {
   "cell_type": "code",
   "execution_count": 141,
   "metadata": {},
   "outputs": [
    {
     "data": {
      "text/plain": [
       "(4501, 15)"
      ]
     },
     "execution_count": 141,
     "metadata": {},
     "output_type": "execute_result"
    }
   ],
   "source": [
    "# Vérification de la création de la colonne \"vegDispoInterProt\"\n",
    "df_vegDispoIntProtKg.shape"
   ]
  },
  {
   "cell_type": "code",
   "execution_count": 142,
   "metadata": {},
   "outputs": [],
   "source": [
    "# Calcul de la disponibilité intérieure mondiale en protéine de l'ensemble des végétaux\n",
    "veg_dispoIntWorldProt = df_vegDispoIntProtKg['vegDispoInterProt'].sum()"
   ]
  },
  {
   "cell_type": "code",
   "execution_count": 143,
   "metadata": {},
   "outputs": [
    {
     "name": "stdout",
     "output_type": "stream",
     "text": [
      "La disponibilité intérieure mondiale en kg de protéine de l'ensemble des végétaux est de 286267130000.0\n"
     ]
    }
   ],
   "source": [
    "print('La disponibilité intérieure mondiale en kg de protéine de l\\'ensemble des végétaux est de',veg_dispoIntWorldProt)"
   ]
  },
  {
   "cell_type": "markdown",
   "metadata": {},
   "source": [
    "#### Nombre d'humains pouvant être nourris si toute la disponibilité intérieure mondiale de produits végétaux était utilisée pour de la nourriture (en 2013)"
   ]
  },
  {
   "cell_type": "code",
   "execution_count": 144,
   "metadata": {},
   "outputs": [
    {
     "name": "stdout",
     "output_type": "stream",
     "text": [
      "14005241194.0  humains pourraient être nourris soit  200.15 % de la population mondiale\n"
     ]
    }
   ],
   "source": [
    "nb_humains = veg_dispoIntWorldProt / (APPORT_JOUR_KGPROTEINE * NB_JOURS_ANNEE)\n",
    "print(round(nb_humains,0), ' humains pourraient être nourris soit ', round(nb_humains/POP_MONDIALE_FAO * 100,2), '% de la population mondiale')"
   ]
  },
  {
   "cell_type": "markdown",
   "metadata": {},
   "source": [
    "## Question 8 : Combien d'humains pourraient être nourris si toute la disponibilité alimentaire en produits végétaux, la nourriture végétale destinée aux animaux et les pertes de produits végétaux étaient utilisés pour de la nourriture ? Donnez les résultats en termes de calories, puis de protéines, et exprimez ensuite ces 2 résultats en pourcentage de la population mondiale."
   ]
  },
  {
   "cell_type": "markdown",
   "metadata": {},
   "source": [
    "### 8.1 Nombre d'humains nourris - Unité : Kcal"
   ]
  },
  {
   "cell_type": "code",
   "execution_count": 145,
   "metadata": {},
   "outputs": [
    {
     "data": {
      "text/html": [
       "<div>\n",
       "<style scoped>\n",
       "    .dataframe tbody tr th:only-of-type {\n",
       "        vertical-align: middle;\n",
       "    }\n",
       "\n",
       "    .dataframe tbody tr th {\n",
       "        vertical-align: top;\n",
       "    }\n",
       "\n",
       "    .dataframe thead th {\n",
       "        text-align: right;\n",
       "    }\n",
       "</style>\n",
       "<table border=\"1\" class=\"dataframe\">\n",
       "  <thead>\n",
       "    <tr style=\"text-align: right;\">\n",
       "      <th></th>\n",
       "      <th>Country_code</th>\n",
       "      <th>Country</th>\n",
       "      <th>Element_code</th>\n",
       "      <th>Element</th>\n",
       "      <th>Product_code</th>\n",
       "      <th>Product</th>\n",
       "      <th>Year</th>\n",
       "      <th>Unity</th>\n",
       "      <th>Value</th>\n",
       "      <th>Origine</th>\n",
       "    </tr>\n",
       "  </thead>\n",
       "  <tbody>\n",
       "    <tr>\n",
       "      <th>0</th>\n",
       "      <td>2</td>\n",
       "      <td>Afghanistan</td>\n",
       "      <td>5511</td>\n",
       "      <td>Production</td>\n",
       "      <td>2511</td>\n",
       "      <td>Blé</td>\n",
       "      <td>2013</td>\n",
       "      <td>Milliers de tonnes</td>\n",
       "      <td>5169.0</td>\n",
       "      <td>Végétal</td>\n",
       "    </tr>\n",
       "  </tbody>\n",
       "</table>\n",
       "</div>"
      ],
      "text/plain": [
       "   Country_code      Country  Element_code     Element  Product_code Product  \\\n",
       "0             2  Afghanistan          5511  Production          2511     Blé   \n",
       "\n",
       "   Year               Unity   Value  Origine  \n",
       "0  2013  Milliers de tonnes  5169.0  Végétal  "
      ]
     },
     "execution_count": 145,
     "metadata": {},
     "output_type": "execute_result"
    }
   ],
   "source": [
    "# Dataframe initiale\n",
    "df_vegetaux.head(1)"
   ]
  },
  {
   "cell_type": "code",
   "execution_count": 146,
   "metadata": {},
   "outputs": [
    {
     "data": {
      "text/plain": [
       "array(['Production', 'Importations - Quantité', 'Variation de stock',\n",
       "       'Disponibilité intérieure', 'Semences', 'Pertes', 'Nourriture',\n",
       "       'Disponibilité alimentaire en quantité (kg/personne/an)',\n",
       "       'Disponibilité alimentaire (Kcal/personne/jour)',\n",
       "       'Disponibilité de protéines en quantité (g/personne/jour)',\n",
       "       'Disponibilité de matière grasse en quantité (g/personne/jour)',\n",
       "       'Aliments pour animaux', 'Exportations - Quantité', 'Traitement',\n",
       "       'Autres utilisations (non alimentaire)'], dtype=object)"
      ]
     },
     "execution_count": 146,
     "metadata": {},
     "output_type": "execute_result"
    }
   ],
   "source": [
    "# Liste des données dans \"Element\"\n",
    "df_vegetaux['Element'].unique()"
   ]
  },
  {
   "cell_type": "code",
   "execution_count": 147,
   "metadata": {},
   "outputs": [],
   "source": [
    "# Disponibilité alimentaire mondiale (Kcal)\n",
    "vegDispoAlimKcalWorld = df_vegRatio_EnergyPoids['Disponibilite_pop_kcal'].sum()"
   ]
  },
  {
   "cell_type": "code",
   "execution_count": 148,
   "metadata": {},
   "outputs": [
    {
     "data": {
      "text/plain": [
       "(2157, 10)"
      ]
     },
     "execution_count": 148,
     "metadata": {},
     "output_type": "execute_result"
    }
   ],
   "source": [
    "# Filtrage sur l'élement 'Aliments pour animaux' de \"df_vegetaux\"\n",
    "df_vegAlimAnimKg = df_vegetaux[df_vegetaux['Element']== 'Aliments pour animaux']\n",
    "df_vegAlimAnimKg.shape"
   ]
  },
  {
   "cell_type": "code",
   "execution_count": 149,
   "metadata": {},
   "outputs": [
    {
     "data": {
      "text/plain": [
       "(3876, 10)"
      ]
     },
     "execution_count": 149,
     "metadata": {},
     "output_type": "execute_result"
    }
   ],
   "source": [
    "# Filtrage sur l'élement 'Pertes' de \"df_vegetaux\"\n",
    "df_vegPertesKg = df_vegetaux[df_vegetaux['Element']=='Pertes']\n",
    "df_vegPertesKg.shape"
   ]
  },
  {
   "cell_type": "code",
   "execution_count": 150,
   "metadata": {
    "scrolled": false
   },
   "outputs": [
    {
     "data": {
      "text/plain": [
       "(6033, 10)"
      ]
     },
     "execution_count": 150,
     "metadata": {},
     "output_type": "execute_result"
    }
   ],
   "source": [
    "df_vegAlimPerteKg = pd.concat([df_vegAlimAnimKg, df_vegPertesKg])\n",
    "df_vegAlimPerteKg.shape"
   ]
  },
  {
   "cell_type": "code",
   "execution_count": 151,
   "metadata": {},
   "outputs": [],
   "source": [
    "# Fusion des dataframes \"df_vegRatio_EnergyPoids\" et \"df_vegAlimPerteKg\" \n",
    "df_vegAlimPerteKcalKg = pd.merge(df_vegRatio_EnergyPoids, df_vegAlimPerteKg, how='right')"
   ]
  },
  {
   "cell_type": "code",
   "execution_count": 152,
   "metadata": {},
   "outputs": [
    {
     "data": {
      "text/plain": [
       "0"
      ]
     },
     "execution_count": 152,
     "metadata": {},
     "output_type": "execute_result"
    }
   ],
   "source": [
    "# Vérification du bon déroulement de la fusion des dataframes \"df_vegRatio_EnergyPoids\" et \"df_vegAlimPerteKg\" => Bonne fusion\n",
    "df_vegAlimPerteKcalKg.duplicated().sum()"
   ]
  },
  {
   "cell_type": "code",
   "execution_count": 153,
   "metadata": {},
   "outputs": [],
   "source": [
    "# Ajout d'une colonne 'df_vegAlimPerteKcalKg' qui comprend les valeurs en KCal\n",
    "df_vegAlimPerteKcalKg['vegAlimPerteKcalKg'] = (df_vegAlimPerteKcalKg['Ratio_Kcal_Kg'] * (df_vegAlimPerteKcalKg['Value']*1000000))"
   ]
  },
  {
   "cell_type": "code",
   "execution_count": 154,
   "metadata": {},
   "outputs": [
    {
     "data": {
      "text/plain": [
       "0       1.172786e+12\n",
       "1       1.694025e+11\n",
       "2       6.162660e+11\n",
       "3       9.552123e+10\n",
       "4                NaN\n",
       "            ...     \n",
       "6028             NaN\n",
       "6029    5.738600e+09\n",
       "6030    4.918800e+08\n",
       "6031             NaN\n",
       "6032    5.738600e+08\n",
       "Name: vegAlimPerteKcalKg, Length: 6033, dtype: float64"
      ]
     },
     "execution_count": 154,
     "metadata": {},
     "output_type": "execute_result"
    }
   ],
   "source": [
    "df_vegAlimPerteKcalKg['vegAlimPerteKcalKg']"
   ]
  },
  {
   "cell_type": "code",
   "execution_count": 155,
   "metadata": {},
   "outputs": [
    {
     "data": {
      "text/plain": [
       "(6033, 13)"
      ]
     },
     "execution_count": 155,
     "metadata": {},
     "output_type": "execute_result"
    }
   ],
   "source": [
    "df_vegAlimPerteKcalKg.shape"
   ]
  },
  {
   "cell_type": "code",
   "execution_count": 156,
   "metadata": {},
   "outputs": [
    {
     "data": {
      "text/plain": [
       "Country_code                 0\n",
       "Country                      0\n",
       "Product_code                 0\n",
       "Product                      0\n",
       "Year                         0\n",
       "Origine                      0\n",
       "Disponibilite_pop_kcal    1487\n",
       "Ratio_Kcal_Kg             1487\n",
       "Element_code                 0\n",
       "Element                      0\n",
       "Unity                        0\n",
       "Value                        0\n",
       "vegAlimPerteKcalKg        1487\n",
       "dtype: int64"
      ]
     },
     "execution_count": 156,
     "metadata": {},
     "output_type": "execute_result"
    }
   ],
   "source": [
    "# Valeurs manquantes\n",
    "df_vegAlimPerteKcalKg.isna().sum()"
   ]
  },
  {
   "cell_type": "code",
   "execution_count": 157,
   "metadata": {},
   "outputs": [
    {
     "data": {
      "text/plain": [
       "(4546, 13)"
      ]
     },
     "execution_count": 157,
     "metadata": {},
     "output_type": "execute_result"
    }
   ],
   "source": [
    "# suppression des valeurs manquantes\n",
    "df_vegAlimPerteKcalKg = df_vegAlimPerteKcalKg.dropna(axis=0)\n",
    "df_vegAlimPerteKcalKg.shape"
   ]
  },
  {
   "cell_type": "code",
   "execution_count": 158,
   "metadata": {},
   "outputs": [
    {
     "name": "stdout",
     "output_type": "stream",
     "text": [
      "3125044676080000.0\n"
     ]
    }
   ],
   "source": [
    "vegAlimPerteKcalKgWold = df_vegAlimPerteKcalKg['vegAlimPerteKcalKg'].sum()\n",
    "print(vegAlimPerteKcalKgWold)"
   ]
  },
  {
   "cell_type": "code",
   "execution_count": 159,
   "metadata": {},
   "outputs": [
    {
     "name": "stdout",
     "output_type": "stream",
     "text": [
      "9173263173220000.0 Kcal\n"
     ]
    }
   ],
   "source": [
    "vegNoPerteNourKcalKgWold = vegAlimPerteKcalKgWold + vegDispoAlimKcalWorld\n",
    "print(vegNoPerteNourKcalKgWold, 'Kcal')"
   ]
  },
  {
   "cell_type": "code",
   "execution_count": 160,
   "metadata": {},
   "outputs": [
    {
     "name": "stdout",
     "output_type": "stream",
     "text": [
      "10471761613.0  humains pourraient être nourris soit  149.65 % de la population mondiale\n"
     ]
    }
   ],
   "source": [
    "nb_humains = vegNoPerteNourKcalKgWold / (APPORT_JOUR_KCAL * NB_JOURS_ANNEE)\n",
    "print(round(nb_humains,0), ' humains pourraient être nourris soit ', round(nb_humains/POP_MONDIALE_FAO * 100,2), '% de la population mondiale')"
   ]
  },
  {
   "cell_type": "markdown",
   "metadata": {},
   "source": [
    "### 8.1 Nombre d'humains nourris - Unité : Protéine"
   ]
  },
  {
   "cell_type": "code",
   "execution_count": 161,
   "metadata": {
    "scrolled": true
   },
   "outputs": [
    {
     "data": {
      "text/html": [
       "<div>\n",
       "<style scoped>\n",
       "    .dataframe tbody tr th:only-of-type {\n",
       "        vertical-align: middle;\n",
       "    }\n",
       "\n",
       "    .dataframe tbody tr th {\n",
       "        vertical-align: top;\n",
       "    }\n",
       "\n",
       "    .dataframe thead th {\n",
       "        text-align: right;\n",
       "    }\n",
       "</style>\n",
       "<table border=\"1\" class=\"dataframe\">\n",
       "  <thead>\n",
       "    <tr style=\"text-align: right;\">\n",
       "      <th></th>\n",
       "      <th>Country_code</th>\n",
       "      <th>Country</th>\n",
       "      <th>Product_code</th>\n",
       "      <th>Product</th>\n",
       "      <th>Year</th>\n",
       "      <th>Origine</th>\n",
       "      <th>Population</th>\n",
       "      <th>Disponibilite_pop_kg_prot</th>\n",
       "      <th>Ratio_KgProteine_Kg</th>\n",
       "      <th>PourcentageProteine</th>\n",
       "    </tr>\n",
       "  </thead>\n",
       "  <tbody>\n",
       "    <tr>\n",
       "      <th>11</th>\n",
       "      <td>2</td>\n",
       "      <td>Afghanistan</td>\n",
       "      <td>2511</td>\n",
       "      <td>Blé</td>\n",
       "      <td>2013</td>\n",
       "      <td>Végétal</td>\n",
       "      <td>30552000</td>\n",
       "      <td>411601126.8</td>\n",
       "      <td>0.08</td>\n",
       "      <td>8.0</td>\n",
       "    </tr>\n",
       "  </tbody>\n",
       "</table>\n",
       "</div>"
      ],
      "text/plain": [
       "    Country_code      Country  Product_code Product  Year  Origine  \\\n",
       "11             2  Afghanistan          2511     Blé  2013  Végétal   \n",
       "\n",
       "    Population  Disponibilite_pop_kg_prot  Ratio_KgProteine_Kg  \\\n",
       "11    30552000                411601126.8                 0.08   \n",
       "\n",
       "    PourcentageProteine  \n",
       "11                  8.0  "
      ]
     },
     "execution_count": 161,
     "metadata": {},
     "output_type": "execute_result"
    }
   ],
   "source": [
    "# Récupération du dataframe de la Q 7.1 \"df_vegRatioProteine_Poids\"\n",
    "df_vegRatioProteine_Poids.head(1)"
   ]
  },
  {
   "cell_type": "code",
   "execution_count": 162,
   "metadata": {},
   "outputs": [
    {
     "name": "stdout",
     "output_type": "stream",
     "text": [
      "123164801708.50002\n"
     ]
    }
   ],
   "source": [
    "# Disponibilité alimentaire mondiale (Protéine)\n",
    "vegDispoAlimProtWold = df_vegRatioProteine_Poids['Disponibilite_pop_kg_prot'].sum()\n",
    "print(vegDispoAlimProtWold)"
   ]
  },
  {
   "cell_type": "code",
   "execution_count": 163,
   "metadata": {},
   "outputs": [],
   "source": [
    "# Fusion des dataframes \"df_vegRatioProteine_Poids\" et \"df_vegAlimPerteKg\" \n",
    "df_vegAlimPerteProt = pd.merge(df_vegRatioProteine_Poids, df_vegAlimPerteKg, how='right')"
   ]
  },
  {
   "cell_type": "code",
   "execution_count": 164,
   "metadata": {},
   "outputs": [
    {
     "data": {
      "text/plain": [
       "0"
      ]
     },
     "execution_count": 164,
     "metadata": {},
     "output_type": "execute_result"
    }
   ],
   "source": [
    "# Vérification du bon déroulement de la fusion des dataframes \"df_vegRatio_EnergyPoids\" et \"df_vegAlimPerteKg\" => Bonne fusion\n",
    "df_vegAlimPerteProt.duplicated().sum()"
   ]
  },
  {
   "cell_type": "code",
   "execution_count": 165,
   "metadata": {},
   "outputs": [
    {
     "data": {
      "text/plain": [
       "(6033, 14)"
      ]
     },
     "execution_count": 165,
     "metadata": {},
     "output_type": "execute_result"
    }
   ],
   "source": [
    "df_vegAlimPerteProt.shape"
   ]
  },
  {
   "cell_type": "code",
   "execution_count": 166,
   "metadata": {},
   "outputs": [],
   "source": [
    "# Ajout d'une colonne 'vegNoPerteNourriKcalKg' qui comprend les valeurs en KCal\n",
    "df_vegAlimPerteProt['vegAlimPerteProteine'] = (df_vegAlimPerteProt['Ratio_KgProteine_Kg'] * (df_vegAlimPerteProt['Value']*1000000))"
   ]
  },
  {
   "cell_type": "code",
   "execution_count": 167,
   "metadata": {},
   "outputs": [
    {
     "data": {
      "text/plain": [
       "(6033, 15)"
      ]
     },
     "execution_count": 167,
     "metadata": {},
     "output_type": "execute_result"
    }
   ],
   "source": [
    "df_vegAlimPerteProt.shape"
   ]
  },
  {
   "cell_type": "code",
   "execution_count": 168,
   "metadata": {},
   "outputs": [
    {
     "data": {
      "text/plain": [
       "Country_code                    0\n",
       "Country                         0\n",
       "Product_code                    0\n",
       "Product                         0\n",
       "Year                            0\n",
       "Origine                         0\n",
       "Population                   2088\n",
       "Disponibilite_pop_kg_prot    2088\n",
       "Ratio_KgProteine_Kg          2088\n",
       "PourcentageProteine          2088\n",
       "Element_code                    0\n",
       "Element                         0\n",
       "Unity                           0\n",
       "Value                           0\n",
       "vegAlimPerteProteine         2088\n",
       "dtype: int64"
      ]
     },
     "execution_count": 168,
     "metadata": {},
     "output_type": "execute_result"
    }
   ],
   "source": [
    "# Valeurs manquantes\n",
    "df_vegAlimPerteProt.isna().sum()"
   ]
  },
  {
   "cell_type": "code",
   "execution_count": 169,
   "metadata": {},
   "outputs": [
    {
     "data": {
      "text/plain": [
       "(3945, 15)"
      ]
     },
     "execution_count": 169,
     "metadata": {},
     "output_type": "execute_result"
    }
   ],
   "source": [
    "# Suppression des valeurs manquantes\n",
    "df_vegAlimPerteProt = df_vegAlimPerteProt.dropna(axis=0)\n",
    "df_vegAlimPerteProt.shape"
   ]
  },
  {
   "cell_type": "code",
   "execution_count": 170,
   "metadata": {},
   "outputs": [
    {
     "name": "stdout",
     "output_type": "stream",
     "text": [
      "77928960000.0 kg de protéine\n"
     ]
    }
   ],
   "source": [
    "vegAlimPerteProtWold = df_vegAlimPerteProt['vegAlimPerteProteine'].sum()\n",
    "print(vegAlimPerteProtWold, 'kg de protéine')"
   ]
  },
  {
   "cell_type": "code",
   "execution_count": 171,
   "metadata": {},
   "outputs": [
    {
     "name": "stdout",
     "output_type": "stream",
     "text": [
      "201093761708.5 kg de protéine\n"
     ]
    }
   ],
   "source": [
    "vegNoPerteNourProtWold = vegAlimPerteProtWold + vegDispoAlimProtWold\n",
    "print(vegNoPerteNourProtWold, 'kg de protéine')"
   ]
  },
  {
   "cell_type": "code",
   "execution_count": 172,
   "metadata": {},
   "outputs": [
    {
     "name": "stdout",
     "output_type": "stream",
     "text": [
      "9838246659.0  humains pourraient être nourris soit  140.6 % de la population mondiale\n"
     ]
    }
   ],
   "source": [
    "nb_humains = vegNoPerteNourProtWold / (APPORT_JOUR_KGPROTEINE * NB_JOURS_ANNEE)\n",
    "print(round(nb_humains,0), ' humains pourraient être nourris soit ', round(nb_humains/POP_MONDIALE_FAO * 100,2), '% de la population mondiale')"
   ]
  },
  {
   "cell_type": "markdown",
   "metadata": {},
   "source": [
    "## Question 9 : Combien d'humains pourraient être nourris avec la disponibilité alimentaire mondiale ? Donnez les résultats en termes de calories, puis de protéines, et exprimez ensuite ces 2 résultats en pourcentage de la population mondiale."
   ]
  },
  {
   "cell_type": "markdown",
   "metadata": {},
   "source": [
    "### 9.1 Nombre d'humains nourris - Unité : Kcal"
   ]
  },
  {
   "cell_type": "code",
   "execution_count": 173,
   "metadata": {},
   "outputs": [],
   "source": [
    "# Disponibilité alimentaire mondiale => frame Q3 \"df_ani_veg_dispo_kcal\" et \"df_ratio_EnergyPoids\""
   ]
  },
  {
   "cell_type": "code",
   "execution_count": 174,
   "metadata": {},
   "outputs": [
    {
     "data": {
      "text/html": [
       "<div>\n",
       "<style scoped>\n",
       "    .dataframe tbody tr th:only-of-type {\n",
       "        vertical-align: middle;\n",
       "    }\n",
       "\n",
       "    .dataframe tbody tr th {\n",
       "        vertical-align: top;\n",
       "    }\n",
       "\n",
       "    .dataframe thead th {\n",
       "        text-align: right;\n",
       "    }\n",
       "</style>\n",
       "<table border=\"1\" class=\"dataframe\">\n",
       "  <thead>\n",
       "    <tr style=\"text-align: right;\">\n",
       "      <th></th>\n",
       "      <th>Country_code</th>\n",
       "      <th>Country</th>\n",
       "      <th>Product_code</th>\n",
       "      <th>Product</th>\n",
       "      <th>Year</th>\n",
       "      <th>Origine</th>\n",
       "      <th>Disponibilite_pop_kcal</th>\n",
       "      <th>Ratio_Kcal_Kg</th>\n",
       "    </tr>\n",
       "  </thead>\n",
       "  <tbody>\n",
       "    <tr>\n",
       "      <th>0</th>\n",
       "      <td>2</td>\n",
       "      <td>Afghanistan</td>\n",
       "      <td>2731</td>\n",
       "      <td>Viande de Bovins</td>\n",
       "      <td>2013</td>\n",
       "      <td>Animal</td>\n",
       "      <td>3.010900e+11</td>\n",
       "      <td>2150.64</td>\n",
       "    </tr>\n",
       "  </tbody>\n",
       "</table>\n",
       "</div>"
      ],
      "text/plain": [
       "   Country_code      Country  Product_code           Product  Year Origine  \\\n",
       "0             2  Afghanistan          2731  Viande de Bovins  2013  Animal   \n",
       "\n",
       "   Disponibilite_pop_kcal  Ratio_Kcal_Kg  \n",
       "0            3.010900e+11        2150.64  "
      ]
     },
     "execution_count": 174,
     "metadata": {},
     "output_type": "execute_result"
    }
   ],
   "source": [
    "# Disponibilité alimentaire mondiale en kcal donc prise en compte de végétal ET animal\n",
    "df_ratio_EnergyPoids.head(1)"
   ]
  },
  {
   "cell_type": "code",
   "execution_count": 175,
   "metadata": {},
   "outputs": [
    {
     "name": "stdout",
     "output_type": "stream",
     "text": [
      "7360354597265000.0 kcal\n"
     ]
    }
   ],
   "source": [
    "# Total de la disponibilité alimentaire mondiale en kcal\n",
    "ani_vegDispoAlimKalWold = df_ratio_EnergyPoids['Disponibilite_pop_kcal'].sum()\n",
    "print(ani_vegDispoAlimKalWold, 'kcal')"
   ]
  },
  {
   "cell_type": "code",
   "execution_count": 176,
   "metadata": {},
   "outputs": [
    {
     "name": "stdout",
     "output_type": "stream",
     "text": [
      "8402231275.0  humains pourraient être nourris soit  120.08 % de la population mondiale\n"
     ]
    }
   ],
   "source": [
    "# Nombre d'humains nourris avec la disponibilité alimentaire mondiale (kcal)\n",
    "nb_humains = ani_vegDispoAlimKalWold / (APPORT_JOUR_KCAL * NB_JOURS_ANNEE)\n",
    "print(round(nb_humains,0), ' humains pourraient être nourris soit ', round(nb_humains/POP_MONDIALE_FAO * 100,2), '% de la population mondiale')"
   ]
  },
  {
   "cell_type": "markdown",
   "metadata": {},
   "source": [
    "### 9.2 Nombre d'humains nourris - Unité : Protéine"
   ]
  },
  {
   "cell_type": "code",
   "execution_count": 177,
   "metadata": {},
   "outputs": [
    {
     "data": {
      "text/html": [
       "<div>\n",
       "<style scoped>\n",
       "    .dataframe tbody tr th:only-of-type {\n",
       "        vertical-align: middle;\n",
       "    }\n",
       "\n",
       "    .dataframe tbody tr th {\n",
       "        vertical-align: top;\n",
       "    }\n",
       "\n",
       "    .dataframe thead th {\n",
       "        text-align: right;\n",
       "    }\n",
       "</style>\n",
       "<table border=\"1\" class=\"dataframe\">\n",
       "  <thead>\n",
       "    <tr style=\"text-align: right;\">\n",
       "      <th></th>\n",
       "      <th>Country_code</th>\n",
       "      <th>Country</th>\n",
       "      <th>Product_code</th>\n",
       "      <th>Product</th>\n",
       "      <th>Year</th>\n",
       "      <th>Origine</th>\n",
       "      <th>Population</th>\n",
       "      <th>Disponibilite_pop_kg_prot</th>\n",
       "      <th>Ratio_KgProteine_Kg</th>\n",
       "      <th>PourcentageProteine</th>\n",
       "    </tr>\n",
       "  </thead>\n",
       "  <tbody>\n",
       "    <tr>\n",
       "      <th>0</th>\n",
       "      <td>2</td>\n",
       "      <td>Afghanistan</td>\n",
       "      <td>2731</td>\n",
       "      <td>Viande de Bovins</td>\n",
       "      <td>2013</td>\n",
       "      <td>Animal</td>\n",
       "      <td>30552000</td>\n",
       "      <td>21076297.2</td>\n",
       "      <td>0.15</td>\n",
       "      <td>15.0</td>\n",
       "    </tr>\n",
       "  </tbody>\n",
       "</table>\n",
       "</div>"
      ],
      "text/plain": [
       "   Country_code      Country  Product_code           Product  Year Origine  \\\n",
       "0             2  Afghanistan          2731  Viande de Bovins  2013  Animal   \n",
       "\n",
       "   Population  Disponibilite_pop_kg_prot  Ratio_KgProteine_Kg  \\\n",
       "0    30552000                 21076297.2                 0.15   \n",
       "\n",
       "   PourcentageProteine  \n",
       "0                 15.0  "
      ]
     },
     "execution_count": 177,
     "metadata": {},
     "output_type": "execute_result"
    }
   ],
   "source": [
    "# Disponibilité alimentaire mondiale en protéine donc prise en compte de végétal ET animal\n",
    "df_ratioProteine_Poids.head(1)"
   ]
  },
  {
   "cell_type": "code",
   "execution_count": 178,
   "metadata": {},
   "outputs": [
    {
     "name": "stdout",
     "output_type": "stream",
     "text": [
      "205189574741.55002 kg de protéines\n"
     ]
    }
   ],
   "source": [
    "#Total de la disponibilité alimentaire mondiale en kg de protéines\n",
    "ani_vegDispoAlimProtWold = df_ratioProteine_Poids['Disponibilite_pop_kg_prot'].sum()\n",
    "print(ani_vegDispoAlimProtWold, 'kg de protéines')"
   ]
  },
  {
   "cell_type": "code",
   "execution_count": 179,
   "metadata": {},
   "outputs": [
    {
     "name": "stdout",
     "output_type": "stream",
     "text": [
      "10038628901.0  humains pourraient être nourris soit  143.46 % de la population mondiale\n"
     ]
    }
   ],
   "source": [
    "nb_humains = ani_vegDispoAlimProtWold / (APPORT_JOUR_KGPROTEINE * NB_JOURS_ANNEE)\n",
    "print(round(nb_humains,0), ' humains pourraient être nourris soit ', round(nb_humains/POP_MONDIALE_FAO * 100,2), '% de la population mondiale')"
   ]
  },
  {
   "cell_type": "markdown",
   "metadata": {},
   "source": [
    "## Question 10 : A partir des données téléchargées qui concernent la sous-nutrition, répondez à cette question : Quelle proportion de la population mondiale est considérée comme étant en sous-nutrition ?"
   ]
  },
  {
   "cell_type": "code",
   "execution_count": 180,
   "metadata": {},
   "outputs": [
    {
     "data": {
      "text/html": [
       "<div>\n",
       "<style scoped>\n",
       "    .dataframe tbody tr th:only-of-type {\n",
       "        vertical-align: middle;\n",
       "    }\n",
       "\n",
       "    .dataframe tbody tr th {\n",
       "        vertical-align: top;\n",
       "    }\n",
       "\n",
       "    .dataframe thead th {\n",
       "        text-align: right;\n",
       "    }\n",
       "</style>\n",
       "<table border=\"1\" class=\"dataframe\">\n",
       "  <thead>\n",
       "    <tr style=\"text-align: right;\">\n",
       "      <th></th>\n",
       "      <th>Country_code</th>\n",
       "      <th>Country</th>\n",
       "      <th>Product_code</th>\n",
       "      <th>Product</th>\n",
       "      <th>Year</th>\n",
       "      <th>Unity</th>\n",
       "      <th>Value</th>\n",
       "      <th>is_sousAlim</th>\n",
       "    </tr>\n",
       "  </thead>\n",
       "  <tbody>\n",
       "    <tr>\n",
       "      <th>0</th>\n",
       "      <td>2</td>\n",
       "      <td>Afghanistan</td>\n",
       "      <td>210011</td>\n",
       "      <td>Nombre de personnes sous-alimentées (millions)...</td>\n",
       "      <td>2013</td>\n",
       "      <td>millions</td>\n",
       "      <td>7.9</td>\n",
       "      <td>True</td>\n",
       "    </tr>\n",
       "    <tr>\n",
       "      <th>1</th>\n",
       "      <td>2</td>\n",
       "      <td>Afghanistan</td>\n",
       "      <td>210011</td>\n",
       "      <td>Nombre de personnes sous-alimentées (millions)...</td>\n",
       "      <td>2014</td>\n",
       "      <td>millions</td>\n",
       "      <td>8.8</td>\n",
       "      <td>True</td>\n",
       "    </tr>\n",
       "  </tbody>\n",
       "</table>\n",
       "</div>"
      ],
      "text/plain": [
       "   Country_code      Country  Product_code  \\\n",
       "0             2  Afghanistan        210011   \n",
       "1             2  Afghanistan        210011   \n",
       "\n",
       "                                             Product  Year     Unity  Value  \\\n",
       "0  Nombre de personnes sous-alimentées (millions)...  2013  millions    7.9   \n",
       "1  Nombre de personnes sous-alimentées (millions)...  2014  millions    8.8   \n",
       "\n",
       "  is_sousAlim  \n",
       "0        True  \n",
       "1        True  "
      ]
     },
     "execution_count": 180,
     "metadata": {},
     "output_type": "execute_result"
    }
   ],
   "source": [
    "# Dataframe de la sous alimentation\n",
    "df_sousAlimentation.head(2)"
   ]
  },
  {
   "cell_type": "code",
   "execution_count": 181,
   "metadata": {
    "scrolled": true
   },
   "outputs": [],
   "source": [
    "# Création d'u filtre pour n'avoir que les données de 2013\n",
    "df_sousAlimFiltYear = df_sousAlimentation['Year']== 2013\n",
    "df_sousAlimFao = df_sousAlimentation[df_sousAlimFiltYear]"
   ]
  },
  {
   "cell_type": "code",
   "execution_count": 182,
   "metadata": {},
   "outputs": [],
   "source": [
    "df_sousAlimFao = df_sousAlimFao.reset_index(drop=True)\n"
   ]
  },
  {
   "cell_type": "code",
   "execution_count": 183,
   "metadata": {},
   "outputs": [
    {
     "name": "stdout",
     "output_type": "stream",
     "text": [
      "Nbre de personnes sous alimentées :  743700000.0  soit 10.63 % de la population mondiale en 2013\n"
     ]
    }
   ],
   "source": [
    "# Total des personnes sous alimentées\n",
    "nbPersSsAlimFao = df_sousAlimFao['Value'].sum()  * 1000000\n",
    "print('Nbre de personnes sous alimentées : ',nbPersSsAlimFao,' soit',round(nbPersSsAlimFao/POP_MONDIALE_FAO * 100,2),'% de la population mondiale en 2013')"
   ]
  },
  {
   "cell_type": "markdown",
   "metadata": {},
   "source": [
    "### 10.1 Établissez la liste des produits (ainsi que leur code) considérés comme des céréales selon la FAO."
   ]
  },
  {
   "cell_type": "code",
   "execution_count": 184,
   "metadata": {},
   "outputs": [
    {
     "data": {
      "text/html": [
       "<div>\n",
       "<style scoped>\n",
       "    .dataframe tbody tr th:only-of-type {\n",
       "        vertical-align: middle;\n",
       "    }\n",
       "\n",
       "    .dataframe tbody tr th {\n",
       "        vertical-align: top;\n",
       "    }\n",
       "\n",
       "    .dataframe thead th {\n",
       "        text-align: right;\n",
       "    }\n",
       "</style>\n",
       "<table border=\"1\" class=\"dataframe\">\n",
       "  <thead>\n",
       "    <tr style=\"text-align: right;\">\n",
       "      <th></th>\n",
       "      <th>Country_code</th>\n",
       "      <th>Country</th>\n",
       "      <th>Element_code</th>\n",
       "      <th>Element</th>\n",
       "      <th>Product_code</th>\n",
       "      <th>Product</th>\n",
       "      <th>Year</th>\n",
       "      <th>Unity</th>\n",
       "      <th>Value</th>\n",
       "      <th>Origine</th>\n",
       "    </tr>\n",
       "  </thead>\n",
       "  <tbody>\n",
       "    <tr>\n",
       "      <th>0</th>\n",
       "      <td>2</td>\n",
       "      <td>Afghanistan</td>\n",
       "      <td>5511</td>\n",
       "      <td>Production</td>\n",
       "      <td>2511</td>\n",
       "      <td>Blé</td>\n",
       "      <td>2013</td>\n",
       "      <td>Milliers de tonnes</td>\n",
       "      <td>5169</td>\n",
       "      <td>Céréale</td>\n",
       "    </tr>\n",
       "  </tbody>\n",
       "</table>\n",
       "</div>"
      ],
      "text/plain": [
       "   Country_code      Country  Element_code     Element  Product_code Product  \\\n",
       "0             2  Afghanistan          5511  Production          2511     Blé   \n",
       "\n",
       "   Year               Unity  Value  Origine  \n",
       "0  2013  Milliers de tonnes   5169  Céréale  "
      ]
     },
     "execution_count": 184,
     "metadata": {},
     "output_type": "execute_result"
    }
   ],
   "source": [
    "# table céréales\n",
    "df_cereales.head(1)"
   ]
  },
  {
   "cell_type": "code",
   "execution_count": 185,
   "metadata": {
    "scrolled": false
   },
   "outputs": [],
   "source": [
    "# Liste des produits avec code considérés comme des céréales selon la FAO:\n",
    "df_cerealesCodeFao = df_cereales.loc[:,['Product_code','Product']]"
   ]
  },
  {
   "cell_type": "code",
   "execution_count": 186,
   "metadata": {},
   "outputs": [
    {
     "data": {
      "text/plain": [
       "(891, 2)"
      ]
     },
     "execution_count": 186,
     "metadata": {},
     "output_type": "execute_result"
    }
   ],
   "source": [
    "df_cerealesCodeFao.shape"
   ]
  },
  {
   "cell_type": "code",
   "execution_count": 187,
   "metadata": {},
   "outputs": [
    {
     "data": {
      "text/plain": [
       "(140919, 10)"
      ]
     },
     "execution_count": 187,
     "metadata": {},
     "output_type": "execute_result"
    }
   ],
   "source": [
    "df_ani_veg.shape"
   ]
  },
  {
   "cell_type": "markdown",
   "metadata": {},
   "source": [
    "### Repérez dans vos données les informations concernant les céréales (par exemple en créant une colonne de type booléen nommée \"is_cereal\")."
   ]
  },
  {
   "cell_type": "code",
   "execution_count": 188,
   "metadata": {
    "scrolled": false
   },
   "outputs": [
    {
     "data": {
      "text/html": [
       "<div>\n",
       "<style scoped>\n",
       "    .dataframe tbody tr th:only-of-type {\n",
       "        vertical-align: middle;\n",
       "    }\n",
       "\n",
       "    .dataframe tbody tr th {\n",
       "        vertical-align: top;\n",
       "    }\n",
       "\n",
       "    .dataframe thead th {\n",
       "        text-align: right;\n",
       "    }\n",
       "</style>\n",
       "<table border=\"1\" class=\"dataframe\">\n",
       "  <thead>\n",
       "    <tr style=\"text-align: right;\">\n",
       "      <th></th>\n",
       "      <th>Product_code</th>\n",
       "      <th>Product</th>\n",
       "    </tr>\n",
       "  </thead>\n",
       "  <tbody>\n",
       "    <tr>\n",
       "      <th>0</th>\n",
       "      <td>2511</td>\n",
       "      <td>Blé</td>\n",
       "    </tr>\n",
       "  </tbody>\n",
       "</table>\n",
       "</div>"
      ],
      "text/plain": [
       "   Product_code Product\n",
       "0          2511     Blé"
      ]
     },
     "execution_count": 188,
     "metadata": {},
     "output_type": "execute_result"
    }
   ],
   "source": [
    "df_cerealesCodeFao.head(1)"
   ]
  },
  {
   "cell_type": "code",
   "execution_count": 189,
   "metadata": {},
   "outputs": [
    {
     "data": {
      "text/plain": [
       "dtype('int64')"
      ]
     },
     "execution_count": 189,
     "metadata": {},
     "output_type": "execute_result"
    }
   ],
   "source": [
    "df_ani_veg['Product_code'].dtypes"
   ]
  },
  {
   "cell_type": "code",
   "execution_count": 190,
   "metadata": {},
   "outputs": [],
   "source": [
    "# création de la colonne 'is_cereal' (mise à True) dans le dataframe df_cerealesCodeFao\n",
    "df_cerealesCodeFao['is_cereal'] = 'True'"
   ]
  },
  {
   "cell_type": "code",
   "execution_count": 191,
   "metadata": {},
   "outputs": [
    {
     "data": {
      "text/plain": [
       "Product_code     int64\n",
       "Product         object\n",
       "is_cereal       object\n",
       "dtype: object"
      ]
     },
     "execution_count": 191,
     "metadata": {},
     "output_type": "execute_result"
    }
   ],
   "source": [
    "# Vérification du type de données dans 'df_cerealesCodeFao'\n",
    "df_cerealesCodeFao.dtypes"
   ]
  },
  {
   "cell_type": "code",
   "execution_count": 192,
   "metadata": {},
   "outputs": [],
   "source": [
    "# Message d'erreur float et int incompatibilité???? => convertion\n",
    "# Convertion de la colonne 'Product_code' de \"df_cerealesCodeFao\" en float pour une meilleure fusion\n",
    "df_cerealesCodeFao['Product_code'] = df_cerealesCodeFao['Product_code'].astype(float)"
   ]
  },
  {
   "cell_type": "code",
   "execution_count": 193,
   "metadata": {},
   "outputs": [
    {
     "data": {
      "text/plain": [
       "Product_code    float64\n",
       "Product          object\n",
       "is_cereal        object\n",
       "dtype: object"
      ]
     },
     "execution_count": 193,
     "metadata": {},
     "output_type": "execute_result"
    }
   ],
   "source": [
    "# Vérification du bon fonctionnement de la convertion\n",
    "df_cerealesCodeFao.dtypes"
   ]
  },
  {
   "cell_type": "code",
   "execution_count": 194,
   "metadata": {},
   "outputs": [],
   "source": [
    "#Fusion des dataframes 'df_vegetaux' et 'df_cerealesCodeFao'\n",
    "df_cereaVegAni = df_ani_veg.merge(df_cerealesCodeFao, how='left', on=['Product_code','Product' ])"
   ]
  },
  {
   "cell_type": "code",
   "execution_count": 195,
   "metadata": {},
   "outputs": [],
   "source": [
    "# Nouvel index du dataframe 'df_cereaVeg'\n",
    "df_cereaVegAni = df_cereaVegAni.reset_index(drop=True)"
   ]
  },
  {
   "cell_type": "code",
   "execution_count": 196,
   "metadata": {},
   "outputs": [
    {
     "data": {
      "text/plain": [
       "55985      NaN\n",
       "55986      NaN\n",
       "55987      NaN\n",
       "55988      NaN\n",
       "55989      NaN\n",
       "          ... \n",
       "1767621    NaN\n",
       "1767622    NaN\n",
       "1767623    NaN\n",
       "1767624    NaN\n",
       "1767625    NaN\n",
       "Name: is_cereal, Length: 1730, dtype: object"
      ]
     },
     "execution_count": 196,
     "metadata": {},
     "output_type": "execute_result"
    }
   ],
   "source": [
    "# Vérification de la donnée dans la colonne 'is_céréal' d'un végétal qui n'est pas une céréale => qui n'est pas True\n",
    "df_cereaVegAni.loc[df_cereaVegAni['Product_code'] == 2546, 'is_cereal']"
   ]
  },
  {
   "cell_type": "code",
   "execution_count": 197,
   "metadata": {},
   "outputs": [
    {
     "data": {
      "text/plain": [
       "count     1643121\n",
       "unique          1\n",
       "top          True\n",
       "freq      1643121\n",
       "Name: is_cereal, dtype: object"
      ]
     },
     "execution_count": 197,
     "metadata": {},
     "output_type": "execute_result"
    }
   ],
   "source": [
    "df_cereaVegAni['is_cereal'].describe()"
   ]
  },
  {
   "cell_type": "code",
   "execution_count": 198,
   "metadata": {},
   "outputs": [
    {
     "data": {
      "text/plain": [
       "Country_code    0.00000\n",
       "Country         0.00000\n",
       "Element_code    0.00000\n",
       "Element         0.00000\n",
       "Product_code    0.00000\n",
       "Product         0.00000\n",
       "Year            0.00000\n",
       "Unity           0.00000\n",
       "Value           0.00000\n",
       "Origine         0.00000\n",
       "is_cereal       0.07069\n",
       "dtype: float64"
      ]
     },
     "execution_count": 198,
     "metadata": {},
     "output_type": "execute_result"
    }
   ],
   "source": [
    "# Vérification de l'existence de valeurs NaN\n",
    "df_cereaVegAni.isna().mean()"
   ]
  },
  {
   "cell_type": "code",
   "execution_count": 199,
   "metadata": {},
   "outputs": [
    {
     "data": {
      "text/plain": [
       "(1768109, 11)"
      ]
     },
     "execution_count": 199,
     "metadata": {},
     "output_type": "execute_result"
    }
   ],
   "source": [
    "df_cereaVegAni.shape"
   ]
  },
  {
   "cell_type": "code",
   "execution_count": 200,
   "metadata": {},
   "outputs": [
    {
     "data": {
      "text/plain": [
       "(891, 3)"
      ]
     },
     "execution_count": 200,
     "metadata": {},
     "output_type": "execute_result"
    }
   ],
   "source": [
    "df_cerealesCodeFao.shape"
   ]
  },
  {
   "cell_type": "code",
   "execution_count": 201,
   "metadata": {},
   "outputs": [
    {
     "data": {
      "text/plain": [
       "(140919, 10)"
      ]
     },
     "execution_count": 201,
     "metadata": {},
     "output_type": "execute_result"
    }
   ],
   "source": [
    "df_ani_veg.shape"
   ]
  },
  {
   "cell_type": "code",
   "execution_count": 202,
   "metadata": {
    "scrolled": true
   },
   "outputs": [],
   "source": [
    "# Suppression des duplicates\n",
    "df_cereaVegAni.drop_duplicates(inplace=True)"
   ]
  },
  {
   "cell_type": "code",
   "execution_count": 203,
   "metadata": {},
   "outputs": [],
   "source": [
    "# Remplissage par' False' des NaN de la colonne 'is_cereal' (ne correspondant pas à une céréale selon la FAO)\n",
    "df_cereaVegAni['is_cereal'].fillna(False, inplace=True)"
   ]
  },
  {
   "cell_type": "code",
   "execution_count": 204,
   "metadata": {},
   "outputs": [
    {
     "data": {
      "text/plain": [
       "count     140919\n",
       "unique         2\n",
       "top        False\n",
       "freq      124988\n",
       "Name: is_cereal, dtype: object"
      ]
     },
     "execution_count": 204,
     "metadata": {},
     "output_type": "execute_result"
    }
   ],
   "source": [
    "df_cereaVegAni['is_cereal'].describe()"
   ]
  },
  {
   "cell_type": "code",
   "execution_count": 205,
   "metadata": {},
   "outputs": [
    {
     "data": {
      "text/plain": [
       "55985      False\n",
       "55986      False\n",
       "55987      False\n",
       "55988      False\n",
       "55989      False\n",
       "           ...  \n",
       "1767621    False\n",
       "1767622    False\n",
       "1767623    False\n",
       "1767624    False\n",
       "1767625    False\n",
       "Name: is_cereal, Length: 1730, dtype: object"
      ]
     },
     "execution_count": 205,
     "metadata": {},
     "output_type": "execute_result"
    }
   ],
   "source": [
    "# Vérification du bon fonctionnement de la colonne \"is_cereal\" par ex avec le haricot\n",
    "df_cereaVegAni.loc[df_cereaVegAni['Product_code'] == 2546, 'is_cereal']"
   ]
  },
  {
   "cell_type": "markdown",
   "metadata": {},
   "source": [
    "## Question 11 : En ne prenant en compte que les céréales destinées à l'alimentation (humaine et animale), quelle proportion (en termes de poids) est destinée à l'alimentation animale ? "
   ]
  },
  {
   "cell_type": "code",
   "execution_count": 206,
   "metadata": {},
   "outputs": [
    {
     "data": {
      "text/plain": [
       "array(['Production', 'Importations - Quantité',\n",
       "       'Disponibilité intérieure', 'Nourriture',\n",
       "       'Disponibilité alimentaire en quantité (kg/personne/an)',\n",
       "       'Disponibilité alimentaire (Kcal/personne/jour)',\n",
       "       'Disponibilité de protéines en quantité (g/personne/jour)',\n",
       "       'Disponibilité de matière grasse en quantité (g/personne/jour)',\n",
       "       'Semences', 'Pertes', 'Exportations - Quantité',\n",
       "       'Aliments pour animaux', 'Autres utilisations (non alimentaire)',\n",
       "       'Variation de stock', 'Traitement'], dtype=object)"
      ]
     },
     "execution_count": 206,
     "metadata": {},
     "output_type": "execute_result"
    }
   ],
   "source": [
    "df_cereaVegAni['Element'].unique()"
   ]
  },
  {
   "cell_type": "code",
   "execution_count": 207,
   "metadata": {},
   "outputs": [
    {
     "data": {
      "text/plain": [
       "Index(['Product_code', 'Product', 'is_cereal'], dtype='object')"
      ]
     },
     "execution_count": 207,
     "metadata": {},
     "output_type": "execute_result"
    }
   ],
   "source": [
    "df_cerealesCodeFao.columns"
   ]
  },
  {
   "cell_type": "code",
   "execution_count": 208,
   "metadata": {},
   "outputs": [],
   "source": [
    "# Filtre céréales destinées à l'alimentation (humaine et animale) => df_cereaVeg['is_cereal'] == 'True'\n",
    "df_cereaAlimAllFilt = df_cereaVegAni['is_cereal'] == 'True'\n",
    "df_cereaAlimAll = df_cereaVegAni[df_cereaAlimAllFilt]"
   ]
  },
  {
   "cell_type": "code",
   "execution_count": 209,
   "metadata": {},
   "outputs": [],
   "source": [
    "# Filtre sur 'Aliments pour animaux' et 'Nourriture' de 'df_cereaVeg'\n",
    "elements_to_keep = ['Aliments pour animaux', 'Nourriture']\n",
    "elements_filter = df_cereaAlimAll['Element'].isin(elements_to_keep)\n",
    "df_cereaAlimAll = df_cereaAlimAll[elements_filter]"
   ]
  },
  {
   "cell_type": "code",
   "execution_count": 210,
   "metadata": {},
   "outputs": [],
   "source": [
    "# Intégration du nombre d'habitants au dataframe 'df_cereaAlimAll'\n",
    "df_cereaAlimAll = pd.merge(df_cereaAlimAll,df_population)"
   ]
  },
  {
   "cell_type": "code",
   "execution_count": 211,
   "metadata": {},
   "outputs": [],
   "source": [
    "# Calcul du poids de chaque céréale pour l'alimentation animale \n",
    "df_cereaAlimAll['CereaAlimAniKg'] = df_cereaAlimAll[df_cereaAlimAll['Element']== 'Aliments pour animaux']['Value'] * 1000000"
   ]
  },
  {
   "cell_type": "code",
   "execution_count": 212,
   "metadata": {},
   "outputs": [
    {
     "name": "stdout",
     "output_type": "stream",
     "text": [
      "Poids total des céréales pour l'alimentation animale 873535000000.0\n"
     ]
    }
   ],
   "source": [
    "# Calcul du poids total des céréales pour l'alimentation animale \n",
    "totalCereaAlimAniKg = df_cereaAlimAll['CereaAlimAniKg'].sum()\n",
    "print(\"Poids total des céréales pour l'alimentation animale\", totalCereaAlimAniKg)"
   ]
  },
  {
   "cell_type": "code",
   "execution_count": 213,
   "metadata": {},
   "outputs": [],
   "source": [
    "# Calcul du poids des céréales pour l'alimentation humaine dans une colonne nommée 'CereaNourriHumKg'\n",
    "df_cereaAlimAll['CereaNourriHumKg'] = df_cereaAlimAll[df_cereaAlimAll['Element']== 'Nourriture']['Value'] * 1000000"
   ]
  },
  {
   "cell_type": "code",
   "execution_count": 214,
   "metadata": {},
   "outputs": [
    {
     "name": "stdout",
     "output_type": "stream",
     "text": [
      "Poids des céréales pour l'alimentation humaine 1029010000000.0\n"
     ]
    }
   ],
   "source": [
    "totalCereNourrHumKg = df_cereaAlimAll['CereaNourriHumKg'].sum()\n",
    "print(\"Poids des céréales pour l'alimentation humaine\",totalCereNourrHumKg)"
   ]
  },
  {
   "cell_type": "code",
   "execution_count": 215,
   "metadata": {},
   "outputs": [],
   "source": [
    "# Total du poids céréales destinées à l'alimentation (humaine et animale)\n",
    "totalCereaAlimAll = totalCereNourrHumKg  + totalCereaAlimAniKg"
   ]
  },
  {
   "cell_type": "code",
   "execution_count": 216,
   "metadata": {},
   "outputs": [
    {
     "name": "stdout",
     "output_type": "stream",
     "text": [
      "le total du poids céréales destinées à l'alimentation (humaine et animale) 1902545000000.0 Kg\n"
     ]
    }
   ],
   "source": [
    "print('le total du poids céréales destinées à l\\'alimentation (humaine et animale)', totalCereaAlimAll, 'Kg')"
   ]
  },
  {
   "cell_type": "code",
   "execution_count": 217,
   "metadata": {},
   "outputs": [
    {
     "name": "stdout",
     "output_type": "stream",
     "text": [
      "L' alimentation animale en céréales représente une proportion de  45.91 %\n"
     ]
    }
   ],
   "source": [
    "print('L\\' alimentation animale en céréales représente une proportion de ',round(totalCereaAlimAniKg / totalCereaAlimAll * 100, 2), '%')"
   ]
  },
  {
   "cell_type": "code",
   "execution_count": 218,
   "metadata": {},
   "outputs": [
    {
     "name": "stdout",
     "output_type": "stream",
     "text": [
      "L' alimentation humaine en céréales représente une proportion de  54.09 %\n"
     ]
    }
   ],
   "source": [
    "print('L\\' alimentation humaine en céréales représente une proportion de ',round(totalCereNourrHumKg / totalCereaAlimAll * 100, 2), '%')"
   ]
  },
  {
   "cell_type": "code",
   "execution_count": 219,
   "metadata": {},
   "outputs": [
    {
     "data": {
      "image/png": "[encoded data removed]",
      "text/plain": [
       "<Figure size 432x288 with 1 Axes>"
      ]
     },
     "metadata": {},
     "output_type": "display_data"
    }
   ],
   "source": [
    "# Pie chart\n",
    "labels = ['Alimentation Humaine', 'Alimentation Animale']\n",
    "sizes = [54.09, 45.91]\n",
    "#colors\n",
    "colors = ['#2994FE','#50D083']\n",
    "\n",
    "explode = (0.1, 0)\n",
    "fig1, ax1 = plt.subplots()\n",
    "patches, texts, autotexts = ax1.pie(sizes, explode=explode, colors = colors, labels=labels, autopct='%1.1f%%', shadow=True, startangle=90)\n",
    "for text in texts:\n",
    "    text.set_color('#2E911F')\n",
    "for autotext in autotexts:\n",
    "    autotext.set_color('green')\n",
    "# Equal aspect ratio ensures that pie is drawn as a circle\n",
    "ax1.axis('equal')  \n",
    "plt.tight_layout()\n",
    "plt.title('Part des céréales dans l\\'alimentation en 2013', color='blue', fontsize=20)\n",
    "plt.show()"
   ]
  },
  {
   "cell_type": "markdown",
   "metadata": {},
   "source": [
    "### 11.1 Sélectionnez, parmi les données des bilans alimentaires, les informations relatives aux pays dans lesquels la FAO recense des personnes en sous-nutrition."
   ]
  },
  {
   "cell_type": "code",
   "execution_count": 220,
   "metadata": {},
   "outputs": [],
   "source": [
    "# Création d'une colonne en_sousAlim\n",
    "# Récupérer les colonnes qui intéressent \n",
    "# fusion"
   ]
  },
  {
   "cell_type": "code",
   "execution_count": 221,
   "metadata": {},
   "outputs": [],
   "source": [
    "# Récupération des colonnes pertinentes du dataframe 'df_sousAlimFao'\n",
    "df_sousAlimFao = df_sousAlimFao.loc[:,['Country_code','Country', 'is_sousAlim']]\n"
   ]
  },
  {
   "cell_type": "code",
   "execution_count": 222,
   "metadata": {},
   "outputs": [],
   "source": [
    "# Fusion de 'df_sousAlimentation' et 'df_cereaVegAni'\n",
    "df_popVegAniSous = pd.merge(df_sousAlimFao, df_cereaVegAni, how='right')"
   ]
  },
  {
   "cell_type": "code",
   "execution_count": 223,
   "metadata": {},
   "outputs": [],
   "source": [
    "# Ré indexage\n",
    "df_popVegAniSous = df_popVegAniSous.reset_index(drop=True)"
   ]
  },
  {
   "cell_type": "code",
   "execution_count": 224,
   "metadata": {
    "scrolled": true
   },
   "outputs": [
    {
     "data": {
      "text/plain": [
       "(140919, 12)"
      ]
     },
     "execution_count": 224,
     "metadata": {},
     "output_type": "execute_result"
    }
   ],
   "source": [
    "df_popVegAniSous.shape"
   ]
  },
  {
   "cell_type": "code",
   "execution_count": 225,
   "metadata": {},
   "outputs": [],
   "source": [
    "# Suppression des duplicates\n",
    "df_popVegAniSous.drop_duplicates(inplace=True)"
   ]
  },
  {
   "cell_type": "code",
   "execution_count": 226,
   "metadata": {},
   "outputs": [],
   "source": [
    "# Remplissage des NaN  par 'False' de la colonne 'is_sousAlim' (ne correspondant pas à un pays sous alimenté)\n",
    "df_popVegAniSous['is_sousAlim'].fillna(False, inplace=True)"
   ]
  },
  {
   "cell_type": "code",
   "execution_count": 227,
   "metadata": {},
   "outputs": [
    {
     "data": {
      "text/plain": [
       "count     140919\n",
       "unique         2\n",
       "top         True\n",
       "freq       77055\n",
       "Name: is_sousAlim, dtype: object"
      ]
     },
     "execution_count": 227,
     "metadata": {},
     "output_type": "execute_result"
    }
   ],
   "source": [
    "df_popVegAniSous['is_sousAlim'].describe()"
   ]
  },
  {
   "cell_type": "code",
   "execution_count": 228,
   "metadata": {},
   "outputs": [
    {
     "data": {
      "text/plain": [
       "(96, 3)"
      ]
     },
     "execution_count": 228,
     "metadata": {},
     "output_type": "execute_result"
    }
   ],
   "source": [
    "df_sousAlimFao.shape"
   ]
  },
  {
   "cell_type": "code",
   "execution_count": 229,
   "metadata": {},
   "outputs": [
    {
     "data": {
      "text/plain": [
       "(140919, 11)"
      ]
     },
     "execution_count": 229,
     "metadata": {},
     "output_type": "execute_result"
    }
   ],
   "source": [
    "df_cereaVegAni.shape"
   ]
  },
  {
   "cell_type": "code",
   "execution_count": 230,
   "metadata": {},
   "outputs": [
    {
     "data": {
      "text/plain": [
       "49414    False\n",
       "49415    False\n",
       "49416    False\n",
       "49417    False\n",
       "49418    False\n",
       "         ...  \n",
       "50351    False\n",
       "50352    False\n",
       "50353    False\n",
       "50354    False\n",
       "50355    False\n",
       "Name: is_sousAlim, Length: 942, dtype: object"
      ]
     },
     "execution_count": 230,
     "metadata": {},
     "output_type": "execute_result"
    }
   ],
   "source": [
    "# Vérification du bon fonctionnement de la colonne \"is_sousAlim\" par ex avec la France\n",
    "df_popVegAniSous.loc[df_popVegAniSous['Country'] == 'France', 'is_sousAlim']"
   ]
  },
  {
   "cell_type": "markdown",
   "metadata": {},
   "source": [
    "### 11.2 Repérez les 15 produits les plus exportés par ce groupe de pays."
   ]
  },
  {
   "cell_type": "code",
   "execution_count": 231,
   "metadata": {},
   "outputs": [
    {
     "data": {
      "text/html": [
       "<div>\n",
       "<style scoped>\n",
       "    .dataframe tbody tr th:only-of-type {\n",
       "        vertical-align: middle;\n",
       "    }\n",
       "\n",
       "    .dataframe tbody tr th {\n",
       "        vertical-align: top;\n",
       "    }\n",
       "\n",
       "    .dataframe thead th {\n",
       "        text-align: right;\n",
       "    }\n",
       "</style>\n",
       "<table border=\"1\" class=\"dataframe\">\n",
       "  <thead>\n",
       "    <tr style=\"text-align: right;\">\n",
       "      <th></th>\n",
       "      <th>Country_code</th>\n",
       "      <th>Country</th>\n",
       "      <th>is_sousAlim</th>\n",
       "      <th>Element_code</th>\n",
       "      <th>Element</th>\n",
       "      <th>Product_code</th>\n",
       "      <th>Product</th>\n",
       "      <th>Year</th>\n",
       "      <th>Unity</th>\n",
       "      <th>Value</th>\n",
       "      <th>Origine</th>\n",
       "      <th>is_cereal</th>\n",
       "    </tr>\n",
       "  </thead>\n",
       "  <tbody>\n",
       "    <tr>\n",
       "      <th>0</th>\n",
       "      <td>2</td>\n",
       "      <td>Afghanistan</td>\n",
       "      <td>True</td>\n",
       "      <td>5511</td>\n",
       "      <td>Production</td>\n",
       "      <td>2731</td>\n",
       "      <td>Viande de Bovins</td>\n",
       "      <td>2013</td>\n",
       "      <td>Milliers de tonnes</td>\n",
       "      <td>134.0</td>\n",
       "      <td>Animal</td>\n",
       "      <td>False</td>\n",
       "    </tr>\n",
       "    <tr>\n",
       "      <th>1</th>\n",
       "      <td>2</td>\n",
       "      <td>Afghanistan</td>\n",
       "      <td>True</td>\n",
       "      <td>5611</td>\n",
       "      <td>Importations - Quantité</td>\n",
       "      <td>2731</td>\n",
       "      <td>Viande de Bovins</td>\n",
       "      <td>2013</td>\n",
       "      <td>Milliers de tonnes</td>\n",
       "      <td>6.0</td>\n",
       "      <td>Animal</td>\n",
       "      <td>False</td>\n",
       "    </tr>\n",
       "  </tbody>\n",
       "</table>\n",
       "</div>"
      ],
      "text/plain": [
       "   Country_code      Country is_sousAlim  Element_code  \\\n",
       "0             2  Afghanistan        True          5511   \n",
       "1             2  Afghanistan        True          5611   \n",
       "\n",
       "                   Element  Product_code           Product  Year  \\\n",
       "0               Production          2731  Viande de Bovins  2013   \n",
       "1  Importations - Quantité          2731  Viande de Bovins  2013   \n",
       "\n",
       "                Unity  Value Origine is_cereal  \n",
       "0  Milliers de tonnes  134.0  Animal     False  \n",
       "1  Milliers de tonnes    6.0  Animal     False  "
      ]
     },
     "execution_count": 231,
     "metadata": {},
     "output_type": "execute_result"
    }
   ],
   "source": [
    "# Dataframe de travail\n",
    "df_popVegAniSous.head(2)"
   ]
  },
  {
   "cell_type": "code",
   "execution_count": 232,
   "metadata": {
    "scrolled": true
   },
   "outputs": [
    {
     "data": {
      "text/plain": [
       "array(['Production', 'Importations - Quantité',\n",
       "       'Disponibilité intérieure', 'Nourriture',\n",
       "       'Disponibilité alimentaire en quantité (kg/personne/an)',\n",
       "       'Disponibilité alimentaire (Kcal/personne/jour)',\n",
       "       'Disponibilité de protéines en quantité (g/personne/jour)',\n",
       "       'Disponibilité de matière grasse en quantité (g/personne/jour)',\n",
       "       'Semences', 'Pertes', 'Exportations - Quantité',\n",
       "       'Aliments pour animaux', 'Autres utilisations (non alimentaire)',\n",
       "       'Variation de stock', 'Traitement'], dtype=object)"
      ]
     },
     "execution_count": 232,
     "metadata": {},
     "output_type": "execute_result"
    }
   ],
   "source": [
    "# Affichage des intitulés dans la colonne 'Element'\n",
    "df_popVegAniSous['Element'].unique()"
   ]
  },
  {
   "cell_type": "code",
   "execution_count": 233,
   "metadata": {
    "scrolled": true
   },
   "outputs": [],
   "source": [
    "# Filtre sur les pays en sous alimentation : 'is_sousAlim' == 'True' et sur les exportations\n",
    "df_SousExport = df_popVegAniSous[df_popVegAniSous['is_sousAlim'] == 'True']\n",
    "df_SousExport = df_SousExport[df_SousExport['Element'] == 'Exportations - Quantité']"
   ]
  },
  {
   "cell_type": "code",
   "execution_count": 234,
   "metadata": {},
   "outputs": [],
   "source": [
    "#Re indexage\n",
    "df_SousExport = df_SousExport.reset_index(drop=True)"
   ]
  },
  {
   "cell_type": "code",
   "execution_count": 235,
   "metadata": {},
   "outputs": [
    {
     "data": {
      "text/plain": [
       "(6624, 12)"
      ]
     },
     "execution_count": 235,
     "metadata": {},
     "output_type": "execute_result"
    }
   ],
   "source": [
    "df_SousExport.shape"
   ]
  },
  {
   "cell_type": "code",
   "execution_count": 236,
   "metadata": {},
   "outputs": [],
   "source": [
    "# Suppression des \"Value\" égales à 0\n",
    "df_SousExport = df_SousExport.drop(df_SousExport[df_SousExport['Value'] == 0].index, axis=0)"
   ]
  },
  {
   "cell_type": "code",
   "execution_count": 237,
   "metadata": {},
   "outputs": [
    {
     "data": {
      "text/plain": [
       "(2824, 12)"
      ]
     },
     "execution_count": 237,
     "metadata": {},
     "output_type": "execute_result"
    }
   ],
   "source": [
    "df_SousExport.shape"
   ]
  },
  {
   "cell_type": "code",
   "execution_count": 238,
   "metadata": {},
   "outputs": [],
   "source": [
    "df_SousExport = df_SousExport.reset_index(drop=True)"
   ]
  },
  {
   "cell_type": "code",
   "execution_count": 239,
   "metadata": {
    "scrolled": true
   },
   "outputs": [
    {
     "data": {
      "text/html": [
       "<div>\n",
       "<style scoped>\n",
       "    .dataframe tbody tr th:only-of-type {\n",
       "        vertical-align: middle;\n",
       "    }\n",
       "\n",
       "    .dataframe tbody tr th {\n",
       "        vertical-align: top;\n",
       "    }\n",
       "\n",
       "    .dataframe thead th {\n",
       "        text-align: right;\n",
       "    }\n",
       "</style>\n",
       "<table border=\"1\" class=\"dataframe\">\n",
       "  <thead>\n",
       "    <tr style=\"text-align: right;\">\n",
       "      <th></th>\n",
       "      <th>Value</th>\n",
       "    </tr>\n",
       "    <tr>\n",
       "      <th>Product</th>\n",
       "      <th></th>\n",
       "    </tr>\n",
       "  </thead>\n",
       "  <tbody>\n",
       "    <tr>\n",
       "      <th>Abats Comestible</th>\n",
       "      <td>295.0</td>\n",
       "    </tr>\n",
       "    <tr>\n",
       "      <th>Agrumes, Autres</th>\n",
       "      <td>522.0</td>\n",
       "    </tr>\n",
       "    <tr>\n",
       "      <th>Alcool, non Comestible</th>\n",
       "      <td>2118.0</td>\n",
       "    </tr>\n",
       "    <tr>\n",
       "      <th>Aliments pour enfants</th>\n",
       "      <td>182.0</td>\n",
       "    </tr>\n",
       "    <tr>\n",
       "      <th>Ananas</th>\n",
       "      <td>6407.0</td>\n",
       "    </tr>\n",
       "  </tbody>\n",
       "</table>\n",
       "</div>"
      ],
      "text/plain": [
       "                         Value\n",
       "Product                       \n",
       "Abats Comestible         295.0\n",
       "Agrumes, Autres          522.0\n",
       "Alcool, non Comestible  2118.0\n",
       "Aliments pour enfants    182.0\n",
       "Ananas                  6407.0"
      ]
     },
     "execution_count": 239,
     "metadata": {},
     "output_type": "execute_result"
    }
   ],
   "source": [
    "# Somme des exportations des pays sous alimentés\n",
    "df_SousTop15Export = df_SousExport.groupby('Product')[['Value']].sum()\n",
    "df_SousTop15Export.head(5)\n"
   ]
  },
  {
   "cell_type": "code",
   "execution_count": 240,
   "metadata": {
    "scrolled": false
   },
   "outputs": [
    {
     "data": {
      "text/html": [
       "<div>\n",
       "<style scoped>\n",
       "    .dataframe tbody tr th:only-of-type {\n",
       "        vertical-align: middle;\n",
       "    }\n",
       "\n",
       "    .dataframe tbody tr th {\n",
       "        vertical-align: top;\n",
       "    }\n",
       "\n",
       "    .dataframe thead th {\n",
       "        text-align: right;\n",
       "    }\n",
       "</style>\n",
       "<table border=\"1\" class=\"dataframe\">\n",
       "  <thead>\n",
       "    <tr style=\"text-align: right;\">\n",
       "      <th></th>\n",
       "      <th>Value</th>\n",
       "    </tr>\n",
       "    <tr>\n",
       "      <th>Product</th>\n",
       "      <th></th>\n",
       "    </tr>\n",
       "  </thead>\n",
       "  <tbody>\n",
       "    <tr>\n",
       "      <th>Huile de Palme</th>\n",
       "      <td>46285.0</td>\n",
       "    </tr>\n",
       "    <tr>\n",
       "      <th>Maïs</th>\n",
       "      <td>37888.0</td>\n",
       "    </tr>\n",
       "    <tr>\n",
       "      <th>Manioc</th>\n",
       "      <td>35843.0</td>\n",
       "    </tr>\n",
       "    <tr>\n",
       "      <th>Riz (Eq Blanchi)</th>\n",
       "      <td>32787.0</td>\n",
       "    </tr>\n",
       "    <tr>\n",
       "      <th>Sucre Eq Brut</th>\n",
       "      <td>25237.0</td>\n",
       "    </tr>\n",
       "    <tr>\n",
       "      <th>Blé</th>\n",
       "      <td>24841.0</td>\n",
       "    </tr>\n",
       "    <tr>\n",
       "      <th>Légumes, Autres</th>\n",
       "      <td>19948.0</td>\n",
       "    </tr>\n",
       "    <tr>\n",
       "      <th>Bananes</th>\n",
       "      <td>17805.0</td>\n",
       "    </tr>\n",
       "    <tr>\n",
       "      <th>Fruits, Autres</th>\n",
       "      <td>14590.0</td>\n",
       "    </tr>\n",
       "    <tr>\n",
       "      <th>Lait - Excl Beurre</th>\n",
       "      <td>14486.0</td>\n",
       "    </tr>\n",
       "    <tr>\n",
       "      <th>Soja</th>\n",
       "      <td>14389.0</td>\n",
       "    </tr>\n",
       "    <tr>\n",
       "      <th>Poissons Pelagiques</th>\n",
       "      <td>13680.0</td>\n",
       "    </tr>\n",
       "    <tr>\n",
       "      <th>Tomates</th>\n",
       "      <td>8901.0</td>\n",
       "    </tr>\n",
       "    <tr>\n",
       "      <th>Pommes</th>\n",
       "      <td>7786.0</td>\n",
       "    </tr>\n",
       "    <tr>\n",
       "      <th>Oranges, Mandarines</th>\n",
       "      <td>6838.0</td>\n",
       "    </tr>\n",
       "  </tbody>\n",
       "</table>\n",
       "</div>"
      ],
      "text/plain": [
       "                       Value\n",
       "Product                     \n",
       "Huile de Palme       46285.0\n",
       "Maïs                 37888.0\n",
       "Manioc               35843.0\n",
       "Riz (Eq Blanchi)     32787.0\n",
       "Sucre Eq Brut        25237.0\n",
       "Blé                  24841.0\n",
       "Légumes, Autres      19948.0\n",
       "Bananes              17805.0\n",
       "Fruits, Autres       14590.0\n",
       "Lait - Excl Beurre   14486.0\n",
       "Soja                 14389.0\n",
       "Poissons Pelagiques  13680.0\n",
       "Tomates               8901.0\n",
       "Pommes                7786.0\n",
       "Oranges, Mandarines   6838.0"
      ]
     },
     "execution_count": 240,
     "metadata": {},
     "output_type": "execute_result"
    }
   ],
   "source": [
    "# Les 15 exportations les plus importantes sont :\n",
    "# Classement des valeurs par ordre croissant\n",
    "df_SousTop15Export = df_SousTop15Export.sort_values('Value', axis = 0, ascending=False).head(20)\n",
    "\n",
    "# Récupération des 15 premières valeurs\n",
    "df_SousTop15Export = df_SousTop15Export.iloc[:15, :]\n",
    "df_SousTop15Export.head(15)"
   ]
  },
  {
   "cell_type": "code",
   "execution_count": 241,
   "metadata": {},
   "outputs": [
    {
     "data": {
      "text/plain": [
       "Index(['Huile de Palme', 'Maïs', 'Manioc', 'Riz (Eq Blanchi)', 'Sucre Eq Brut',\n",
       "       'Blé', 'Légumes, Autres', 'Bananes', 'Fruits, Autres',\n",
       "       'Lait - Excl Beurre', 'Soja', 'Poissons Pelagiques', 'Tomates',\n",
       "       'Pommes', 'Oranges, Mandarines'],\n",
       "      dtype='object', name='Product')"
      ]
     },
     "execution_count": 241,
     "metadata": {},
     "output_type": "execute_result"
    }
   ],
   "source": [
    "df_SousTop15Export.index"
   ]
  },
  {
   "cell_type": "markdown",
   "metadata": {},
   "source": [
    "### 11.3 Parmi les données des bilans alimentaires au niveau mondial, sélectionnez les 200 plus grandes importations de ces produits (1 importation = une quantité d'un produit donné importée par un pays donné)"
   ]
  },
  {
   "cell_type": "code",
   "execution_count": 242,
   "metadata": {},
   "outputs": [],
   "source": [
    "# df_SousTopExport : dataframe des 15 plus grandes exportations\n",
    "# on veut les + gdes importations de CES produits au niveau mondial\n",
    "# df_popVegAniSous pour le dataframe mondial"
   ]
  },
  {
   "cell_type": "code",
   "execution_count": 243,
   "metadata": {
    "scrolled": false
   },
   "outputs": [
    {
     "data": {
      "text/html": [
       "<div>\n",
       "<style scoped>\n",
       "    .dataframe tbody tr th:only-of-type {\n",
       "        vertical-align: middle;\n",
       "    }\n",
       "\n",
       "    .dataframe tbody tr th {\n",
       "        vertical-align: top;\n",
       "    }\n",
       "\n",
       "    .dataframe thead th {\n",
       "        text-align: right;\n",
       "    }\n",
       "</style>\n",
       "<table border=\"1\" class=\"dataframe\">\n",
       "  <thead>\n",
       "    <tr style=\"text-align: right;\">\n",
       "      <th></th>\n",
       "      <th>Country_code</th>\n",
       "      <th>Country</th>\n",
       "      <th>is_sousAlim</th>\n",
       "      <th>Element_code</th>\n",
       "      <th>Element</th>\n",
       "      <th>Product_code</th>\n",
       "      <th>Product</th>\n",
       "      <th>Year</th>\n",
       "      <th>Unity</th>\n",
       "      <th>Value</th>\n",
       "      <th>Origine</th>\n",
       "      <th>is_cereal</th>\n",
       "    </tr>\n",
       "  </thead>\n",
       "  <tbody>\n",
       "    <tr>\n",
       "      <th>0</th>\n",
       "      <td>2</td>\n",
       "      <td>Afghanistan</td>\n",
       "      <td>True</td>\n",
       "      <td>5511</td>\n",
       "      <td>Production</td>\n",
       "      <td>2731</td>\n",
       "      <td>Viande de Bovins</td>\n",
       "      <td>2013</td>\n",
       "      <td>Milliers de tonnes</td>\n",
       "      <td>134.0</td>\n",
       "      <td>Animal</td>\n",
       "      <td>False</td>\n",
       "    </tr>\n",
       "    <tr>\n",
       "      <th>1</th>\n",
       "      <td>2</td>\n",
       "      <td>Afghanistan</td>\n",
       "      <td>True</td>\n",
       "      <td>5611</td>\n",
       "      <td>Importations - Quantité</td>\n",
       "      <td>2731</td>\n",
       "      <td>Viande de Bovins</td>\n",
       "      <td>2013</td>\n",
       "      <td>Milliers de tonnes</td>\n",
       "      <td>6.0</td>\n",
       "      <td>Animal</td>\n",
       "      <td>False</td>\n",
       "    </tr>\n",
       "  </tbody>\n",
       "</table>\n",
       "</div>"
      ],
      "text/plain": [
       "   Country_code      Country is_sousAlim  Element_code  \\\n",
       "0             2  Afghanistan        True          5511   \n",
       "1             2  Afghanistan        True          5611   \n",
       "\n",
       "                   Element  Product_code           Product  Year  \\\n",
       "0               Production          2731  Viande de Bovins  2013   \n",
       "1  Importations - Quantité          2731  Viande de Bovins  2013   \n",
       "\n",
       "                Unity  Value Origine is_cereal  \n",
       "0  Milliers de tonnes  134.0  Animal     False  \n",
       "1  Milliers de tonnes    6.0  Animal     False  "
      ]
     },
     "execution_count": 243,
     "metadata": {},
     "output_type": "execute_result"
    }
   ],
   "source": [
    "df_popVegAniSous.head(2)"
   ]
  },
  {
   "cell_type": "code",
   "execution_count": 244,
   "metadata": {},
   "outputs": [
    {
     "data": {
      "text/plain": [
       "Index(['Huile de Palme', 'Maïs', 'Manioc', 'Riz (Eq Blanchi)', 'Sucre Eq Brut',\n",
       "       'Blé', 'Légumes, Autres', 'Bananes', 'Fruits, Autres',\n",
       "       'Lait - Excl Beurre', 'Soja', 'Poissons Pelagiques', 'Tomates',\n",
       "       'Pommes', 'Oranges, Mandarines'],\n",
       "      dtype='object', name='Product')"
      ]
     },
     "execution_count": 244,
     "metadata": {},
     "output_type": "execute_result"
    }
   ],
   "source": [
    "df_SousTop15Export.index"
   ]
  },
  {
   "cell_type": "code",
   "execution_count": 245,
   "metadata": {},
   "outputs": [],
   "source": [
    "# Filtre sur les 15 produits dans le dataframe principal 'df_popVegAniSous'\n",
    "df_popVegAniSous15Export = df_popVegAniSous[df_popVegAniSous['Product'].isin(df_SousTop15Export.index.map(str))]"
   ]
  },
  {
   "cell_type": "code",
   "execution_count": 246,
   "metadata": {},
   "outputs": [
    {
     "data": {
      "text/html": [
       "<div>\n",
       "<style scoped>\n",
       "    .dataframe tbody tr th:only-of-type {\n",
       "        vertical-align: middle;\n",
       "    }\n",
       "\n",
       "    .dataframe tbody tr th {\n",
       "        vertical-align: top;\n",
       "    }\n",
       "\n",
       "    .dataframe thead th {\n",
       "        text-align: right;\n",
       "    }\n",
       "</style>\n",
       "<table border=\"1\" class=\"dataframe\">\n",
       "  <thead>\n",
       "    <tr style=\"text-align: right;\">\n",
       "      <th></th>\n",
       "      <th>Country_code</th>\n",
       "      <th>Country</th>\n",
       "      <th>is_sousAlim</th>\n",
       "      <th>Element_code</th>\n",
       "      <th>Element</th>\n",
       "      <th>Product_code</th>\n",
       "      <th>Product</th>\n",
       "      <th>Year</th>\n",
       "      <th>Unity</th>\n",
       "      <th>Value</th>\n",
       "      <th>Origine</th>\n",
       "      <th>is_cereal</th>\n",
       "    </tr>\n",
       "  </thead>\n",
       "  <tbody>\n",
       "    <tr>\n",
       "      <th>71</th>\n",
       "      <td>2</td>\n",
       "      <td>Afghanistan</td>\n",
       "      <td>True</td>\n",
       "      <td>5511</td>\n",
       "      <td>Production</td>\n",
       "      <td>2848</td>\n",
       "      <td>Lait - Excl Beurre</td>\n",
       "      <td>2013</td>\n",
       "      <td>Milliers de tonnes</td>\n",
       "      <td>1835.0</td>\n",
       "      <td>Animal</td>\n",
       "      <td>False</td>\n",
       "    </tr>\n",
       "    <tr>\n",
       "      <th>72</th>\n",
       "      <td>2</td>\n",
       "      <td>Afghanistan</td>\n",
       "      <td>True</td>\n",
       "      <td>5611</td>\n",
       "      <td>Importations - Quantité</td>\n",
       "      <td>2848</td>\n",
       "      <td>Lait - Excl Beurre</td>\n",
       "      <td>2013</td>\n",
       "      <td>Milliers de tonnes</td>\n",
       "      <td>248.0</td>\n",
       "      <td>Animal</td>\n",
       "      <td>False</td>\n",
       "    </tr>\n",
       "  </tbody>\n",
       "</table>\n",
       "</div>"
      ],
      "text/plain": [
       "    Country_code      Country is_sousAlim  Element_code  \\\n",
       "71             2  Afghanistan        True          5511   \n",
       "72             2  Afghanistan        True          5611   \n",
       "\n",
       "                    Element  Product_code             Product  Year  \\\n",
       "71               Production          2848  Lait - Excl Beurre  2013   \n",
       "72  Importations - Quantité          2848  Lait - Excl Beurre  2013   \n",
       "\n",
       "                 Unity   Value Origine is_cereal  \n",
       "71  Milliers de tonnes  1835.0  Animal     False  \n",
       "72  Milliers de tonnes   248.0  Animal     False  "
      ]
     },
     "execution_count": 246,
     "metadata": {},
     "output_type": "execute_result"
    }
   ],
   "source": [
    "df_popVegAniSous15Export.head(2)"
   ]
  },
  {
   "cell_type": "code",
   "execution_count": 247,
   "metadata": {},
   "outputs": [
    {
     "data": {
      "text/plain": [
       "(27612, 12)"
      ]
     },
     "execution_count": 247,
     "metadata": {},
     "output_type": "execute_result"
    }
   ],
   "source": [
    "df_popVegAniSous15Export.shape"
   ]
  },
  {
   "cell_type": "code",
   "execution_count": 248,
   "metadata": {},
   "outputs": [],
   "source": [
    "df_popVegAniSous15Export = df_popVegAniSous15Export.reset_index(drop=True)"
   ]
  },
  {
   "cell_type": "code",
   "execution_count": 249,
   "metadata": {
    "scrolled": false
   },
   "outputs": [
    {
     "data": {
      "text/plain": [
       "array(['Lait - Excl Beurre', 'Blé', 'Riz (Eq Blanchi)', 'Maïs',\n",
       "       'Sucre Eq Brut', 'Huile de Palme', 'Tomates', 'Légumes, Autres',\n",
       "       'Oranges, Mandarines', 'Bananes', 'Pommes', 'Fruits, Autres',\n",
       "       'Poissons Pelagiques', 'Manioc', 'Soja'], dtype=object)"
      ]
     },
     "execution_count": 249,
     "metadata": {},
     "output_type": "execute_result"
    }
   ],
   "source": [
    "df_popVegAniSous15Export['Product'].unique()"
   ]
  },
  {
   "cell_type": "code",
   "execution_count": 250,
   "metadata": {
    "scrolled": true
   },
   "outputs": [
    {
     "data": {
      "text/plain": [
       "Index(['Country_code', 'Country', 'is_sousAlim', 'Element_code', 'Element',\n",
       "       'Product_code', 'Product', 'Year', 'Unity', 'Value', 'Origine',\n",
       "       'is_cereal'],\n",
       "      dtype='object')"
      ]
     },
     "execution_count": 250,
     "metadata": {},
     "output_type": "execute_result"
    }
   ],
   "source": [
    "df_popVegAniSous15Export.columns"
   ]
  },
  {
   "cell_type": "code",
   "execution_count": 251,
   "metadata": {},
   "outputs": [],
   "source": [
    "# Pour résoudre la question 11, on applique un 'pivot-table' sur 'df_popVegAniSous15Export': Element devient colonne\n",
    "df_popVegAniSous15EPiv = pd.pivot_table(df_popVegAniSous15Export, values='Value', index=['Country_code', 'Country','Year', 'Product_code', 'Product', 'Origine', 'is_cereal', 'is_sousAlim'], columns='Element', aggfunc='sum')"
   ]
  },
  {
   "cell_type": "code",
   "execution_count": 252,
   "metadata": {},
   "outputs": [],
   "source": [
    "# Pour une meilleure lisibilité, renommage des colonnes:\n",
    "df_popVegAniSous15EPiv = df_popVegAniSous15EPiv.rename({'Aliments pour animaux':'Aliments pour animaux (milliers de tonnes)',\n",
    "                'Autres utilisations (non alimentaire)':'Autres utilisations (non alimentaire)(milliers de tonnes)',\n",
    "                'Disponibilité alimentaire (Kcal/personne/jour)':'Disponibilité alimentaire (Kcal/personne/jour)',\n",
    "                'Disponibilité alimentaire en quantité (kg/personne/an)' : 'Disponibilité alimentaire en quantité (kg/personne/an)',\n",
    "                'Disponibilité de matière grasse en quantité (g/personne/jour':'Disponibilité de matière grasse en quantité (g/personne/jour',\n",
    "                'Disponibilité de protéines en quantité (g/personne/jour':'Disponibilité de protéines en quantité (g/personne/jour',\n",
    "                'Disponibilité intérieure' : 'Disponibilité intérieure (milliers de tonnes)',\n",
    "                'Exportations - Quantité' : 'Exportations - Quantité (milliers de tonnes)',\n",
    "                'Importations - Quantité' : 'Importations - Quantité (milliers de tonnes)',\n",
    "                'Nourriture' : 'Nourriture (milliers de tonnes)',\n",
    "                'Pertes': 'Pertes   (milliers de tonnes)',\n",
    "                'Production' : 'Production  (milliers de tonnes)',\n",
    "                'Semences' :'Semences   (milliers de tonnes)',\n",
    "                'Traitement' : 'Traitement   (milliers de tonnes)',\n",
    "                'Variation de stock' : 'Variation de stock   (milliers de tonnes)'},axis=1)               \n",
    "                \n",
    "                \n",
    "                             \n",
    "                                                    \n",
    "                                  \n",
    "                                  \n",
    "                              "
   ]
  },
  {
   "cell_type": "code",
   "execution_count": 253,
   "metadata": {
    "scrolled": true
   },
   "outputs": [
    {
     "data": {
      "text/html": [
       "<div>\n",
       "<style scoped>\n",
       "    .dataframe tbody tr th:only-of-type {\n",
       "        vertical-align: middle;\n",
       "    }\n",
       "\n",
       "    .dataframe tbody tr th {\n",
       "        vertical-align: top;\n",
       "    }\n",
       "\n",
       "    .dataframe thead th {\n",
       "        text-align: right;\n",
       "    }\n",
       "</style>\n",
       "<table border=\"1\" class=\"dataframe\">\n",
       "  <thead>\n",
       "    <tr style=\"text-align: right;\">\n",
       "      <th></th>\n",
       "      <th></th>\n",
       "      <th></th>\n",
       "      <th></th>\n",
       "      <th></th>\n",
       "      <th></th>\n",
       "      <th></th>\n",
       "      <th>Element</th>\n",
       "      <th>Aliments pour animaux (milliers de tonnes)</th>\n",
       "      <th>Autres utilisations (non alimentaire)(milliers de tonnes)</th>\n",
       "      <th>Disponibilité alimentaire (Kcal/personne/jour)</th>\n",
       "      <th>Disponibilité alimentaire en quantité (kg/personne/an)</th>\n",
       "      <th>Disponibilité de matière grasse en quantité (g/personne/jour)</th>\n",
       "      <th>Disponibilité de protéines en quantité (g/personne/jour)</th>\n",
       "      <th>Disponibilité intérieure (milliers de tonnes)</th>\n",
       "      <th>Exportations - Quantité (milliers de tonnes)</th>\n",
       "      <th>Importations - Quantité (milliers de tonnes)</th>\n",
       "      <th>Nourriture (milliers de tonnes)</th>\n",
       "      <th>Pertes   (milliers de tonnes)</th>\n",
       "      <th>Production  (milliers de tonnes)</th>\n",
       "      <th>Semences   (milliers de tonnes)</th>\n",
       "      <th>Traitement   (milliers de tonnes)</th>\n",
       "      <th>Variation de stock   (milliers de tonnes)</th>\n",
       "    </tr>\n",
       "    <tr>\n",
       "      <th>Country_code</th>\n",
       "      <th>Country</th>\n",
       "      <th>Year</th>\n",
       "      <th>Product_code</th>\n",
       "      <th>Product</th>\n",
       "      <th>Origine</th>\n",
       "      <th>is_cereal</th>\n",
       "      <th>is_sousAlim</th>\n",
       "      <th></th>\n",
       "      <th></th>\n",
       "      <th></th>\n",
       "      <th></th>\n",
       "      <th></th>\n",
       "      <th></th>\n",
       "      <th></th>\n",
       "      <th></th>\n",
       "      <th></th>\n",
       "      <th></th>\n",
       "      <th></th>\n",
       "      <th></th>\n",
       "      <th></th>\n",
       "      <th></th>\n",
       "      <th></th>\n",
       "    </tr>\n",
       "  </thead>\n",
       "  <tbody>\n",
       "    <tr>\n",
       "      <th rowspan=\"2\" valign=\"top\">1</th>\n",
       "      <th rowspan=\"2\" valign=\"top\">Arménie</th>\n",
       "      <th rowspan=\"2\" valign=\"top\">2013</th>\n",
       "      <th>2511</th>\n",
       "      <th>Blé</th>\n",
       "      <th>Végétal</th>\n",
       "      <th>True</th>\n",
       "      <th>True</th>\n",
       "      <td>93.0</td>\n",
       "      <td>0.0</td>\n",
       "      <td>1024.0</td>\n",
       "      <td>130.60</td>\n",
       "      <td>3.6</td>\n",
       "      <td>30.52</td>\n",
       "      <td>554.0</td>\n",
       "      <td>1.0</td>\n",
       "      <td>361.0</td>\n",
       "      <td>389.0</td>\n",
       "      <td>32.0</td>\n",
       "      <td>312.0</td>\n",
       "      <td>30.0</td>\n",
       "      <td>10.0</td>\n",
       "      <td>-118.0</td>\n",
       "    </tr>\n",
       "    <tr>\n",
       "      <th>2514</th>\n",
       "      <th>Maïs</th>\n",
       "      <th>Végétal</th>\n",
       "      <th>True</th>\n",
       "      <th>True</th>\n",
       "      <td>96.0</td>\n",
       "      <td>NaN</td>\n",
       "      <td>0.0</td>\n",
       "      <td>0.03</td>\n",
       "      <td>NaN</td>\n",
       "      <td>0.01</td>\n",
       "      <td>102.0</td>\n",
       "      <td>NaN</td>\n",
       "      <td>82.0</td>\n",
       "      <td>0.0</td>\n",
       "      <td>7.0</td>\n",
       "      <td>21.0</td>\n",
       "      <td>0.0</td>\n",
       "      <td>NaN</td>\n",
       "      <td>NaN</td>\n",
       "    </tr>\n",
       "  </tbody>\n",
       "</table>\n",
       "</div>"
      ],
      "text/plain": [
       "Element                                                                       Aliments pour animaux (milliers de tonnes)  \\\n",
       "Country_code Country Year Product_code Product Origine is_cereal is_sousAlim                                               \n",
       "1            Arménie 2013 2511         Blé     Végétal True      True                                               93.0   \n",
       "                          2514         Maïs    Végétal True      True                                               96.0   \n",
       "\n",
       "Element                                                                       Autres utilisations (non alimentaire)(milliers de tonnes)  \\\n",
       "Country_code Country Year Product_code Product Origine is_cereal is_sousAlim                                                              \n",
       "1            Arménie 2013 2511         Blé     Végétal True      True                                                       0.0           \n",
       "                          2514         Maïs    Végétal True      True                                                       NaN           \n",
       "\n",
       "Element                                                                       Disponibilité alimentaire (Kcal/personne/jour)  \\\n",
       "Country_code Country Year Product_code Product Origine is_cereal is_sousAlim                                                   \n",
       "1            Arménie 2013 2511         Blé     Végétal True      True                                                 1024.0   \n",
       "                          2514         Maïs    Végétal True      True                                                    0.0   \n",
       "\n",
       "Element                                                                       Disponibilité alimentaire en quantité (kg/personne/an)  \\\n",
       "Country_code Country Year Product_code Product Origine is_cereal is_sousAlim                                                           \n",
       "1            Arménie 2013 2511         Blé     Végétal True      True                                                    130.60        \n",
       "                          2514         Maïs    Végétal True      True                                                      0.03        \n",
       "\n",
       "Element                                                                       Disponibilité de matière grasse en quantité (g/personne/jour)  \\\n",
       "Country_code Country Year Product_code Product Origine is_cereal is_sousAlim                                                                  \n",
       "1            Arménie 2013 2511         Blé     Végétal True      True                                                       3.6               \n",
       "                          2514         Maïs    Végétal True      True                                                       NaN               \n",
       "\n",
       "Element                                                                       Disponibilité de protéines en quantité (g/personne/jour)  \\\n",
       "Country_code Country Year Product_code Product Origine is_cereal is_sousAlim                                                             \n",
       "1            Arménie 2013 2511         Blé     Végétal True      True                                                     30.52          \n",
       "                          2514         Maïs    Végétal True      True                                                      0.01          \n",
       "\n",
       "Element                                                                       Disponibilité intérieure (milliers de tonnes)  \\\n",
       "Country_code Country Year Product_code Product Origine is_cereal is_sousAlim                                                  \n",
       "1            Arménie 2013 2511         Blé     Végétal True      True                                                 554.0   \n",
       "                          2514         Maïs    Végétal True      True                                                 102.0   \n",
       "\n",
       "Element                                                                       Exportations - Quantité (milliers de tonnes)  \\\n",
       "Country_code Country Year Product_code Product Origine is_cereal is_sousAlim                                                 \n",
       "1            Arménie 2013 2511         Blé     Végétal True      True                                                  1.0   \n",
       "                          2514         Maïs    Végétal True      True                                                  NaN   \n",
       "\n",
       "Element                                                                       Importations - Quantité (milliers de tonnes)  \\\n",
       "Country_code Country Year Product_code Product Origine is_cereal is_sousAlim                                                 \n",
       "1            Arménie 2013 2511         Blé     Végétal True      True                                                361.0   \n",
       "                          2514         Maïs    Végétal True      True                                                 82.0   \n",
       "\n",
       "Element                                                                       Nourriture (milliers de tonnes)  \\\n",
       "Country_code Country Year Product_code Product Origine is_cereal is_sousAlim                                    \n",
       "1            Arménie 2013 2511         Blé     Végétal True      True                                   389.0   \n",
       "                          2514         Maïs    Végétal True      True                                     0.0   \n",
       "\n",
       "Element                                                                       Pertes   (milliers de tonnes)  \\\n",
       "Country_code Country Year Product_code Product Origine is_cereal is_sousAlim                                  \n",
       "1            Arménie 2013 2511         Blé     Végétal True      True                                  32.0   \n",
       "                          2514         Maïs    Végétal True      True                                   7.0   \n",
       "\n",
       "Element                                                                       Production  (milliers de tonnes)  \\\n",
       "Country_code Country Year Product_code Product Origine is_cereal is_sousAlim                                     \n",
       "1            Arménie 2013 2511         Blé     Végétal True      True                                    312.0   \n",
       "                          2514         Maïs    Végétal True      True                                     21.0   \n",
       "\n",
       "Element                                                                       Semences   (milliers de tonnes)  \\\n",
       "Country_code Country Year Product_code Product Origine is_cereal is_sousAlim                                    \n",
       "1            Arménie 2013 2511         Blé     Végétal True      True                                    30.0   \n",
       "                          2514         Maïs    Végétal True      True                                     0.0   \n",
       "\n",
       "Element                                                                       Traitement   (milliers de tonnes)  \\\n",
       "Country_code Country Year Product_code Product Origine is_cereal is_sousAlim                                      \n",
       "1            Arménie 2013 2511         Blé     Végétal True      True                                      10.0   \n",
       "                          2514         Maïs    Végétal True      True                                       NaN   \n",
       "\n",
       "Element                                                                       Variation de stock   (milliers de tonnes)  \n",
       "Country_code Country Year Product_code Product Origine is_cereal is_sousAlim                                             \n",
       "1            Arménie 2013 2511         Blé     Végétal True      True                                            -118.0  \n",
       "                          2514         Maïs    Végétal True      True                                               NaN  "
      ]
     },
     "execution_count": 253,
     "metadata": {},
     "output_type": "execute_result"
    }
   ],
   "source": [
    "df_popVegAniSous15EPiv.head(2)"
   ]
  },
  {
   "cell_type": "code",
   "execution_count": 254,
   "metadata": {},
   "outputs": [
    {
     "data": {
      "text/plain": [
       "Index(['Aliments pour animaux (milliers de tonnes)',\n",
       "       'Autres utilisations (non alimentaire)(milliers de tonnes)',\n",
       "       'Disponibilité alimentaire (Kcal/personne/jour)',\n",
       "       'Disponibilité alimentaire en quantité (kg/personne/an)',\n",
       "       'Disponibilité de matière grasse en quantité (g/personne/jour)',\n",
       "       'Disponibilité de protéines en quantité (g/personne/jour)',\n",
       "       'Disponibilité intérieure (milliers de tonnes)',\n",
       "       'Exportations - Quantité (milliers de tonnes)',\n",
       "       'Importations - Quantité (milliers de tonnes)',\n",
       "       'Nourriture (milliers de tonnes)', 'Pertes   (milliers de tonnes)',\n",
       "       'Production  (milliers de tonnes)', 'Semences   (milliers de tonnes)',\n",
       "       'Traitement   (milliers de tonnes)',\n",
       "       'Variation de stock   (milliers de tonnes)'],\n",
       "      dtype='object', name='Element')"
      ]
     },
     "execution_count": 254,
     "metadata": {},
     "output_type": "execute_result"
    }
   ],
   "source": [
    "df_popVegAniSous15EPiv.columns"
   ]
  },
  {
   "cell_type": "code",
   "execution_count": 255,
   "metadata": {},
   "outputs": [
    {
     "data": {
      "text/plain": [
       "(2582, 15)"
      ]
     },
     "execution_count": 255,
     "metadata": {},
     "output_type": "execute_result"
    }
   ],
   "source": [
    "df_popVegAniSous15EPiv.shape"
   ]
  },
  {
   "cell_type": "code",
   "execution_count": 256,
   "metadata": {},
   "outputs": [],
   "source": [
    "#Suppression des valeurs des importations égales à 0\n",
    "df_popVegAniSous15EPiv = df_popVegAniSous15EPiv.drop(df_popVegAniSous15EPiv[df_popVegAniSous15EPiv['Importations - Quantité (milliers de tonnes)'] == 0].index, axis=0)"
   ]
  },
  {
   "cell_type": "code",
   "execution_count": 257,
   "metadata": {},
   "outputs": [
    {
     "data": {
      "text/plain": [
       "(2284, 15)"
      ]
     },
     "execution_count": 257,
     "metadata": {},
     "output_type": "execute_result"
    }
   ],
   "source": [
    "df_popVegAniSous15EPiv.shape"
   ]
  },
  {
   "cell_type": "code",
   "execution_count": 258,
   "metadata": {},
   "outputs": [],
   "source": [
    "# Classement des valeurs importations par ordre décroissant\n",
    "df_popVegAniSous15IPiv = df_popVegAniSous15EPiv.sort_values('Importations - Quantité (milliers de tonnes)', axis = 0, ascending=False)"
   ]
  },
  {
   "cell_type": "code",
   "execution_count": 259,
   "metadata": {
    "scrolled": true
   },
   "outputs": [
    {
     "data": {
      "text/html": [
       "<div>\n",
       "<style scoped>\n",
       "    .dataframe tbody tr th:only-of-type {\n",
       "        vertical-align: middle;\n",
       "    }\n",
       "\n",
       "    .dataframe tbody tr th {\n",
       "        vertical-align: top;\n",
       "    }\n",
       "\n",
       "    .dataframe thead th {\n",
       "        text-align: right;\n",
       "    }\n",
       "</style>\n",
       "<table border=\"1\" class=\"dataframe\">\n",
       "  <thead>\n",
       "    <tr style=\"text-align: right;\">\n",
       "      <th></th>\n",
       "      <th></th>\n",
       "      <th></th>\n",
       "      <th></th>\n",
       "      <th></th>\n",
       "      <th></th>\n",
       "      <th></th>\n",
       "      <th>Element</th>\n",
       "      <th>Aliments pour animaux (milliers de tonnes)</th>\n",
       "      <th>Autres utilisations (non alimentaire)(milliers de tonnes)</th>\n",
       "      <th>Disponibilité alimentaire (Kcal/personne/jour)</th>\n",
       "      <th>Disponibilité alimentaire en quantité (kg/personne/an)</th>\n",
       "      <th>Disponibilité de matière grasse en quantité (g/personne/jour)</th>\n",
       "      <th>Disponibilité de protéines en quantité (g/personne/jour)</th>\n",
       "      <th>Disponibilité intérieure (milliers de tonnes)</th>\n",
       "      <th>Exportations - Quantité (milliers de tonnes)</th>\n",
       "      <th>Importations - Quantité (milliers de tonnes)</th>\n",
       "      <th>Nourriture (milliers de tonnes)</th>\n",
       "      <th>Pertes   (milliers de tonnes)</th>\n",
       "      <th>Production  (milliers de tonnes)</th>\n",
       "      <th>Semences   (milliers de tonnes)</th>\n",
       "      <th>Traitement   (milliers de tonnes)</th>\n",
       "      <th>Variation de stock   (milliers de tonnes)</th>\n",
       "    </tr>\n",
       "    <tr>\n",
       "      <th>Country_code</th>\n",
       "      <th>Country</th>\n",
       "      <th>Year</th>\n",
       "      <th>Product_code</th>\n",
       "      <th>Product</th>\n",
       "      <th>Origine</th>\n",
       "      <th>is_cereal</th>\n",
       "      <th>is_sousAlim</th>\n",
       "      <th></th>\n",
       "      <th></th>\n",
       "      <th></th>\n",
       "      <th></th>\n",
       "      <th></th>\n",
       "      <th></th>\n",
       "      <th></th>\n",
       "      <th></th>\n",
       "      <th></th>\n",
       "      <th></th>\n",
       "      <th></th>\n",
       "      <th></th>\n",
       "      <th></th>\n",
       "      <th></th>\n",
       "      <th></th>\n",
       "    </tr>\n",
       "  </thead>\n",
       "  <tbody>\n",
       "    <tr>\n",
       "      <th rowspan=\"2\" valign=\"top\">41</th>\n",
       "      <th rowspan=\"2\" valign=\"top\">Chine, continentale</th>\n",
       "      <th rowspan=\"2\" valign=\"top\">2013</th>\n",
       "      <th>2555</th>\n",
       "      <th>Soja</th>\n",
       "      <th>Végétal</th>\n",
       "      <th>False</th>\n",
       "      <th>True</th>\n",
       "      <td>9530.0</td>\n",
       "      <td>NaN</td>\n",
       "      <td>35.0</td>\n",
       "      <td>3.66</td>\n",
       "      <td>1.18</td>\n",
       "      <td>3.29</td>\n",
       "      <td>75081.0</td>\n",
       "      <td>250.0</td>\n",
       "      <td>63381.0</td>\n",
       "      <td>5072.0</td>\n",
       "      <td>604.0</td>\n",
       "      <td>11951.0</td>\n",
       "      <td>713.0</td>\n",
       "      <td>59162.0</td>\n",
       "      <td>0.0</td>\n",
       "    </tr>\n",
       "    <tr>\n",
       "      <th>2532</th>\n",
       "      <th>Manioc</th>\n",
       "      <th>Végétal</th>\n",
       "      <th>False</th>\n",
       "      <th>True</th>\n",
       "      <td>22868.0</td>\n",
       "      <td>7940.0</td>\n",
       "      <td>6.0</td>\n",
       "      <td>1.91</td>\n",
       "      <td>0.01</td>\n",
       "      <td>0.05</td>\n",
       "      <td>33590.0</td>\n",
       "      <td>41.0</td>\n",
       "      <td>29046.0</td>\n",
       "      <td>2645.0</td>\n",
       "      <td>138.0</td>\n",
       "      <td>4585.0</td>\n",
       "      <td>NaN</td>\n",
       "      <td>NaN</td>\n",
       "      <td>NaN</td>\n",
       "    </tr>\n",
       "  </tbody>\n",
       "</table>\n",
       "</div>"
      ],
      "text/plain": [
       "Element                                                                                   Aliments pour animaux (milliers de tonnes)  \\\n",
       "Country_code Country             Year Product_code Product Origine is_cereal is_sousAlim                                               \n",
       "41           Chine, continentale 2013 2555         Soja    Végétal False     True                                             9530.0   \n",
       "                                      2532         Manioc  Végétal False     True                                            22868.0   \n",
       "\n",
       "Element                                                                                   Autres utilisations (non alimentaire)(milliers de tonnes)  \\\n",
       "Country_code Country             Year Product_code Product Origine is_cereal is_sousAlim                                                              \n",
       "41           Chine, continentale 2013 2555         Soja    Végétal False     True                                                       NaN           \n",
       "                                      2532         Manioc  Végétal False     True                                                    7940.0           \n",
       "\n",
       "Element                                                                                   Disponibilité alimentaire (Kcal/personne/jour)  \\\n",
       "Country_code Country             Year Product_code Product Origine is_cereal is_sousAlim                                                   \n",
       "41           Chine, continentale 2013 2555         Soja    Végétal False     True                                                   35.0   \n",
       "                                      2532         Manioc  Végétal False     True                                                    6.0   \n",
       "\n",
       "Element                                                                                   Disponibilité alimentaire en quantité (kg/personne/an)  \\\n",
       "Country_code Country             Year Product_code Product Origine is_cereal is_sousAlim                                                           \n",
       "41           Chine, continentale 2013 2555         Soja    Végétal False     True                                                      3.66        \n",
       "                                      2532         Manioc  Végétal False     True                                                      1.91        \n",
       "\n",
       "Element                                                                                   Disponibilité de matière grasse en quantité (g/personne/jour)  \\\n",
       "Country_code Country             Year Product_code Product Origine is_cereal is_sousAlim                                                                  \n",
       "41           Chine, continentale 2013 2555         Soja    Végétal False     True                                                      1.18               \n",
       "                                      2532         Manioc  Végétal False     True                                                      0.01               \n",
       "\n",
       "Element                                                                                   Disponibilité de protéines en quantité (g/personne/jour)  \\\n",
       "Country_code Country             Year Product_code Product Origine is_cereal is_sousAlim                                                             \n",
       "41           Chine, continentale 2013 2555         Soja    Végétal False     True                                                      3.29          \n",
       "                                      2532         Manioc  Végétal False     True                                                      0.05          \n",
       "\n",
       "Element                                                                                   Disponibilité intérieure (milliers de tonnes)  \\\n",
       "Country_code Country             Year Product_code Product Origine is_cereal is_sousAlim                                                  \n",
       "41           Chine, continentale 2013 2555         Soja    Végétal False     True                                               75081.0   \n",
       "                                      2532         Manioc  Végétal False     True                                               33590.0   \n",
       "\n",
       "Element                                                                                   Exportations - Quantité (milliers de tonnes)  \\\n",
       "Country_code Country             Year Product_code Product Origine is_cereal is_sousAlim                                                 \n",
       "41           Chine, continentale 2013 2555         Soja    Végétal False     True                                                250.0   \n",
       "                                      2532         Manioc  Végétal False     True                                                 41.0   \n",
       "\n",
       "Element                                                                                   Importations - Quantité (milliers de tonnes)  \\\n",
       "Country_code Country             Year Product_code Product Origine is_cereal is_sousAlim                                                 \n",
       "41           Chine, continentale 2013 2555         Soja    Végétal False     True                                              63381.0   \n",
       "                                      2532         Manioc  Végétal False     True                                              29046.0   \n",
       "\n",
       "Element                                                                                   Nourriture (milliers de tonnes)  \\\n",
       "Country_code Country             Year Product_code Product Origine is_cereal is_sousAlim                                    \n",
       "41           Chine, continentale 2013 2555         Soja    Végétal False     True                                  5072.0   \n",
       "                                      2532         Manioc  Végétal False     True                                  2645.0   \n",
       "\n",
       "Element                                                                                   Pertes   (milliers de tonnes)  \\\n",
       "Country_code Country             Year Product_code Product Origine is_cereal is_sousAlim                                  \n",
       "41           Chine, continentale 2013 2555         Soja    Végétal False     True                                 604.0   \n",
       "                                      2532         Manioc  Végétal False     True                                 138.0   \n",
       "\n",
       "Element                                                                                   Production  (milliers de tonnes)  \\\n",
       "Country_code Country             Year Product_code Product Origine is_cereal is_sousAlim                                     \n",
       "41           Chine, continentale 2013 2555         Soja    Végétal False     True                                  11951.0   \n",
       "                                      2532         Manioc  Végétal False     True                                   4585.0   \n",
       "\n",
       "Element                                                                                   Semences   (milliers de tonnes)  \\\n",
       "Country_code Country             Year Product_code Product Origine is_cereal is_sousAlim                                    \n",
       "41           Chine, continentale 2013 2555         Soja    Végétal False     True                                   713.0   \n",
       "                                      2532         Manioc  Végétal False     True                                     NaN   \n",
       "\n",
       "Element                                                                                   Traitement   (milliers de tonnes)  \\\n",
       "Country_code Country             Year Product_code Product Origine is_cereal is_sousAlim                                      \n",
       "41           Chine, continentale 2013 2555         Soja    Végétal False     True                                   59162.0   \n",
       "                                      2532         Manioc  Végétal False     True                                       NaN   \n",
       "\n",
       "Element                                                                                   Variation de stock   (milliers de tonnes)  \n",
       "Country_code Country             Year Product_code Product Origine is_cereal is_sousAlim                                             \n",
       "41           Chine, continentale 2013 2555         Soja    Végétal False     True                                               0.0  \n",
       "                                      2532         Manioc  Végétal False     True                                               NaN  "
      ]
     },
     "execution_count": 259,
     "metadata": {},
     "output_type": "execute_result"
    }
   ],
   "source": [
    "df_popVegAniSous15IPiv.head(2)"
   ]
  },
  {
   "cell_type": "markdown",
   "metadata": {},
   "source": [
    "#### Les 200 plus grandes importations des produits exportés par les pays sous alimentés sont :"
   ]
  },
  {
   "cell_type": "code",
   "execution_count": 260,
   "metadata": {},
   "outputs": [],
   "source": [
    "df_popVegAniSous200IPiv = df_popVegAniSous15IPiv.iloc[:200, :]"
   ]
  },
  {
   "cell_type": "code",
   "execution_count": 261,
   "metadata": {
    "scrolled": true
   },
   "outputs": [
    {
     "data": {
      "text/html": [
       "<div>\n",
       "<style scoped>\n",
       "    .dataframe tbody tr th:only-of-type {\n",
       "        vertical-align: middle;\n",
       "    }\n",
       "\n",
       "    .dataframe tbody tr th {\n",
       "        vertical-align: top;\n",
       "    }\n",
       "\n",
       "    .dataframe thead th {\n",
       "        text-align: right;\n",
       "    }\n",
       "</style>\n",
       "<table border=\"1\" class=\"dataframe\">\n",
       "  <thead>\n",
       "    <tr style=\"text-align: right;\">\n",
       "      <th></th>\n",
       "      <th></th>\n",
       "      <th></th>\n",
       "      <th></th>\n",
       "      <th></th>\n",
       "      <th></th>\n",
       "      <th></th>\n",
       "      <th>Element</th>\n",
       "      <th>Aliments pour animaux (milliers de tonnes)</th>\n",
       "      <th>Autres utilisations (non alimentaire)(milliers de tonnes)</th>\n",
       "      <th>Disponibilité alimentaire (Kcal/personne/jour)</th>\n",
       "      <th>Disponibilité alimentaire en quantité (kg/personne/an)</th>\n",
       "      <th>Disponibilité de matière grasse en quantité (g/personne/jour)</th>\n",
       "      <th>Disponibilité de protéines en quantité (g/personne/jour)</th>\n",
       "      <th>Disponibilité intérieure (milliers de tonnes)</th>\n",
       "      <th>Exportations - Quantité (milliers de tonnes)</th>\n",
       "      <th>Importations - Quantité (milliers de tonnes)</th>\n",
       "      <th>Nourriture (milliers de tonnes)</th>\n",
       "      <th>Pertes   (milliers de tonnes)</th>\n",
       "      <th>Production  (milliers de tonnes)</th>\n",
       "      <th>Semences   (milliers de tonnes)</th>\n",
       "      <th>Traitement   (milliers de tonnes)</th>\n",
       "      <th>Variation de stock   (milliers de tonnes)</th>\n",
       "    </tr>\n",
       "    <tr>\n",
       "      <th>Country_code</th>\n",
       "      <th>Country</th>\n",
       "      <th>Year</th>\n",
       "      <th>Product_code</th>\n",
       "      <th>Product</th>\n",
       "      <th>Origine</th>\n",
       "      <th>is_cereal</th>\n",
       "      <th>is_sousAlim</th>\n",
       "      <th></th>\n",
       "      <th></th>\n",
       "      <th></th>\n",
       "      <th></th>\n",
       "      <th></th>\n",
       "      <th></th>\n",
       "      <th></th>\n",
       "      <th></th>\n",
       "      <th></th>\n",
       "      <th></th>\n",
       "      <th></th>\n",
       "      <th></th>\n",
       "      <th></th>\n",
       "      <th></th>\n",
       "      <th></th>\n",
       "    </tr>\n",
       "  </thead>\n",
       "  <tbody>\n",
       "    <tr>\n",
       "      <th rowspan=\"2\" valign=\"top\">41</th>\n",
       "      <th rowspan=\"2\" valign=\"top\">Chine, continentale</th>\n",
       "      <th rowspan=\"2\" valign=\"top\">2013</th>\n",
       "      <th>2555</th>\n",
       "      <th>Soja</th>\n",
       "      <th>Végétal</th>\n",
       "      <th>False</th>\n",
       "      <th>True</th>\n",
       "      <td>9530.0</td>\n",
       "      <td>NaN</td>\n",
       "      <td>35.0</td>\n",
       "      <td>3.66</td>\n",
       "      <td>1.18</td>\n",
       "      <td>3.29</td>\n",
       "      <td>75081.0</td>\n",
       "      <td>250.0</td>\n",
       "      <td>63381.0</td>\n",
       "      <td>5072.0</td>\n",
       "      <td>604.0</td>\n",
       "      <td>11951.0</td>\n",
       "      <td>713.0</td>\n",
       "      <td>59162.0</td>\n",
       "      <td>0.0</td>\n",
       "    </tr>\n",
       "    <tr>\n",
       "      <th>2532</th>\n",
       "      <th>Manioc</th>\n",
       "      <th>Végétal</th>\n",
       "      <th>False</th>\n",
       "      <th>True</th>\n",
       "      <td>22868.0</td>\n",
       "      <td>7940.0</td>\n",
       "      <td>6.0</td>\n",
       "      <td>1.91</td>\n",
       "      <td>0.01</td>\n",
       "      <td>0.05</td>\n",
       "      <td>33590.0</td>\n",
       "      <td>41.0</td>\n",
       "      <td>29046.0</td>\n",
       "      <td>2645.0</td>\n",
       "      <td>138.0</td>\n",
       "      <td>4585.0</td>\n",
       "      <td>NaN</td>\n",
       "      <td>NaN</td>\n",
       "      <td>NaN</td>\n",
       "    </tr>\n",
       "  </tbody>\n",
       "</table>\n",
       "</div>"
      ],
      "text/plain": [
       "Element                                                                                   Aliments pour animaux (milliers de tonnes)  \\\n",
       "Country_code Country             Year Product_code Product Origine is_cereal is_sousAlim                                               \n",
       "41           Chine, continentale 2013 2555         Soja    Végétal False     True                                             9530.0   \n",
       "                                      2532         Manioc  Végétal False     True                                            22868.0   \n",
       "\n",
       "Element                                                                                   Autres utilisations (non alimentaire)(milliers de tonnes)  \\\n",
       "Country_code Country             Year Product_code Product Origine is_cereal is_sousAlim                                                              \n",
       "41           Chine, continentale 2013 2555         Soja    Végétal False     True                                                       NaN           \n",
       "                                      2532         Manioc  Végétal False     True                                                    7940.0           \n",
       "\n",
       "Element                                                                                   Disponibilité alimentaire (Kcal/personne/jour)  \\\n",
       "Country_code Country             Year Product_code Product Origine is_cereal is_sousAlim                                                   \n",
       "41           Chine, continentale 2013 2555         Soja    Végétal False     True                                                   35.0   \n",
       "                                      2532         Manioc  Végétal False     True                                                    6.0   \n",
       "\n",
       "Element                                                                                   Disponibilité alimentaire en quantité (kg/personne/an)  \\\n",
       "Country_code Country             Year Product_code Product Origine is_cereal is_sousAlim                                                           \n",
       "41           Chine, continentale 2013 2555         Soja    Végétal False     True                                                      3.66        \n",
       "                                      2532         Manioc  Végétal False     True                                                      1.91        \n",
       "\n",
       "Element                                                                                   Disponibilité de matière grasse en quantité (g/personne/jour)  \\\n",
       "Country_code Country             Year Product_code Product Origine is_cereal is_sousAlim                                                                  \n",
       "41           Chine, continentale 2013 2555         Soja    Végétal False     True                                                      1.18               \n",
       "                                      2532         Manioc  Végétal False     True                                                      0.01               \n",
       "\n",
       "Element                                                                                   Disponibilité de protéines en quantité (g/personne/jour)  \\\n",
       "Country_code Country             Year Product_code Product Origine is_cereal is_sousAlim                                                             \n",
       "41           Chine, continentale 2013 2555         Soja    Végétal False     True                                                      3.29          \n",
       "                                      2532         Manioc  Végétal False     True                                                      0.05          \n",
       "\n",
       "Element                                                                                   Disponibilité intérieure (milliers de tonnes)  \\\n",
       "Country_code Country             Year Product_code Product Origine is_cereal is_sousAlim                                                  \n",
       "41           Chine, continentale 2013 2555         Soja    Végétal False     True                                               75081.0   \n",
       "                                      2532         Manioc  Végétal False     True                                               33590.0   \n",
       "\n",
       "Element                                                                                   Exportations - Quantité (milliers de tonnes)  \\\n",
       "Country_code Country             Year Product_code Product Origine is_cereal is_sousAlim                                                 \n",
       "41           Chine, continentale 2013 2555         Soja    Végétal False     True                                                250.0   \n",
       "                                      2532         Manioc  Végétal False     True                                                 41.0   \n",
       "\n",
       "Element                                                                                   Importations - Quantité (milliers de tonnes)  \\\n",
       "Country_code Country             Year Product_code Product Origine is_cereal is_sousAlim                                                 \n",
       "41           Chine, continentale 2013 2555         Soja    Végétal False     True                                              63381.0   \n",
       "                                      2532         Manioc  Végétal False     True                                              29046.0   \n",
       "\n",
       "Element                                                                                   Nourriture (milliers de tonnes)  \\\n",
       "Country_code Country             Year Product_code Product Origine is_cereal is_sousAlim                                    \n",
       "41           Chine, continentale 2013 2555         Soja    Végétal False     True                                  5072.0   \n",
       "                                      2532         Manioc  Végétal False     True                                  2645.0   \n",
       "\n",
       "Element                                                                                   Pertes   (milliers de tonnes)  \\\n",
       "Country_code Country             Year Product_code Product Origine is_cereal is_sousAlim                                  \n",
       "41           Chine, continentale 2013 2555         Soja    Végétal False     True                                 604.0   \n",
       "                                      2532         Manioc  Végétal False     True                                 138.0   \n",
       "\n",
       "Element                                                                                   Production  (milliers de tonnes)  \\\n",
       "Country_code Country             Year Product_code Product Origine is_cereal is_sousAlim                                     \n",
       "41           Chine, continentale 2013 2555         Soja    Végétal False     True                                  11951.0   \n",
       "                                      2532         Manioc  Végétal False     True                                   4585.0   \n",
       "\n",
       "Element                                                                                   Semences   (milliers de tonnes)  \\\n",
       "Country_code Country             Year Product_code Product Origine is_cereal is_sousAlim                                    \n",
       "41           Chine, continentale 2013 2555         Soja    Végétal False     True                                   713.0   \n",
       "                                      2532         Manioc  Végétal False     True                                     NaN   \n",
       "\n",
       "Element                                                                                   Traitement   (milliers de tonnes)  \\\n",
       "Country_code Country             Year Product_code Product Origine is_cereal is_sousAlim                                      \n",
       "41           Chine, continentale 2013 2555         Soja    Végétal False     True                                   59162.0   \n",
       "                                      2532         Manioc  Végétal False     True                                       NaN   \n",
       "\n",
       "Element                                                                                   Variation de stock   (milliers de tonnes)  \n",
       "Country_code Country             Year Product_code Product Origine is_cereal is_sousAlim                                             \n",
       "41           Chine, continentale 2013 2555         Soja    Végétal False     True                                               0.0  \n",
       "                                      2532         Manioc  Végétal False     True                                               NaN  "
      ]
     },
     "execution_count": 261,
     "metadata": {},
     "output_type": "execute_result"
    }
   ],
   "source": [
    "df_popVegAniSous200IPiv.head(2)"
   ]
  },
  {
   "cell_type": "markdown",
   "metadata": {},
   "source": [
    "### 11.4 Groupez ces importations par produit, afin d'avoir une table contenant 1 ligne pour chacun des 15 produits. Ensuite, calculez pour chaque produit les 2 quantités suivantes :"
   ]
  },
  {
   "cell_type": "code",
   "execution_count": 262,
   "metadata": {},
   "outputs": [],
   "source": [
    "df_popVegAniSous200PPiv = df_popVegAniSous200IPiv.groupby(by=['Product_code','Product']).sum()"
   ]
  },
  {
   "cell_type": "code",
   "execution_count": 263,
   "metadata": {},
   "outputs": [
    {
     "data": {
      "text/html": [
       "<div>\n",
       "<style scoped>\n",
       "    .dataframe tbody tr th:only-of-type {\n",
       "        vertical-align: middle;\n",
       "    }\n",
       "\n",
       "    .dataframe tbody tr th {\n",
       "        vertical-align: top;\n",
       "    }\n",
       "\n",
       "    .dataframe thead th {\n",
       "        text-align: right;\n",
       "    }\n",
       "</style>\n",
       "<table border=\"1\" class=\"dataframe\">\n",
       "  <thead>\n",
       "    <tr style=\"text-align: right;\">\n",
       "      <th></th>\n",
       "      <th>Element</th>\n",
       "      <th>Aliments pour animaux (milliers de tonnes)</th>\n",
       "      <th>Autres utilisations (non alimentaire)(milliers de tonnes)</th>\n",
       "      <th>Disponibilité alimentaire (Kcal/personne/jour)</th>\n",
       "      <th>Disponibilité alimentaire en quantité (kg/personne/an)</th>\n",
       "      <th>Disponibilité de matière grasse en quantité (g/personne/jour)</th>\n",
       "      <th>Disponibilité de protéines en quantité (g/personne/jour)</th>\n",
       "      <th>Disponibilité intérieure (milliers de tonnes)</th>\n",
       "      <th>Exportations - Quantité (milliers de tonnes)</th>\n",
       "      <th>Importations - Quantité (milliers de tonnes)</th>\n",
       "      <th>Nourriture (milliers de tonnes)</th>\n",
       "      <th>Pertes   (milliers de tonnes)</th>\n",
       "      <th>Production  (milliers de tonnes)</th>\n",
       "      <th>Semences   (milliers de tonnes)</th>\n",
       "      <th>Traitement   (milliers de tonnes)</th>\n",
       "      <th>Variation de stock   (milliers de tonnes)</th>\n",
       "    </tr>\n",
       "    <tr>\n",
       "      <th>Product_code</th>\n",
       "      <th>Product</th>\n",
       "      <th></th>\n",
       "      <th></th>\n",
       "      <th></th>\n",
       "      <th></th>\n",
       "      <th></th>\n",
       "      <th></th>\n",
       "      <th></th>\n",
       "      <th></th>\n",
       "      <th></th>\n",
       "      <th></th>\n",
       "      <th></th>\n",
       "      <th></th>\n",
       "      <th></th>\n",
       "      <th></th>\n",
       "      <th></th>\n",
       "    </tr>\n",
       "  </thead>\n",
       "  <tbody>\n",
       "    <tr>\n",
       "      <th>2511</th>\n",
       "      <th>Blé</th>\n",
       "      <td>98103.0</td>\n",
       "      <td>15047.0</td>\n",
       "      <td>30702.0</td>\n",
       "      <td>3948.18</td>\n",
       "      <td>134.51</td>\n",
       "      <td>932.04</td>\n",
       "      <td>456475.0</td>\n",
       "      <td>105355.0</td>\n",
       "      <td>147576.0</td>\n",
       "      <td>300771.0</td>\n",
       "      <td>16062.0</td>\n",
       "      <td>420350.0</td>\n",
       "      <td>20576.0</td>\n",
       "      <td>5964.0</td>\n",
       "      <td>-6101.0</td>\n",
       "    </tr>\n",
       "    <tr>\n",
       "      <th>2514</th>\n",
       "      <th>Maïs</th>\n",
       "      <td>402885.0</td>\n",
       "      <td>182117.0</td>\n",
       "      <td>4718.0</td>\n",
       "      <td>591.29</td>\n",
       "      <td>40.41</td>\n",
       "      <td>111.70</td>\n",
       "      <td>701068.0</td>\n",
       "      <td>31260.0</td>\n",
       "      <td>102451.0</td>\n",
       "      <td>55918.0</td>\n",
       "      <td>18268.0</td>\n",
       "      <td>675213.0</td>\n",
       "      <td>3148.0</td>\n",
       "      <td>38735.0</td>\n",
       "      <td>-45339.0</td>\n",
       "    </tr>\n",
       "    <tr>\n",
       "      <th>2532</th>\n",
       "      <th>Manioc</th>\n",
       "      <td>25149.0</td>\n",
       "      <td>20355.0</td>\n",
       "      <td>178.0</td>\n",
       "      <td>62.04</td>\n",
       "      <td>0.36</td>\n",
       "      <td>0.89</td>\n",
       "      <td>67326.0</td>\n",
       "      <td>26157.0</td>\n",
       "      <td>34655.0</td>\n",
       "      <td>15257.0</td>\n",
       "      <td>4759.0</td>\n",
       "      <td>58765.0</td>\n",
       "      <td>0.0</td>\n",
       "      <td>1804.0</td>\n",
       "      <td>63.0</td>\n",
       "    </tr>\n",
       "    <tr>\n",
       "      <th>2542</th>\n",
       "      <th>Sucre Eq Brut</th>\n",
       "      <td>0.0</td>\n",
       "      <td>2996.0</td>\n",
       "      <td>3882.0</td>\n",
       "      <td>397.65</td>\n",
       "      <td>0.00</td>\n",
       "      <td>0.00</td>\n",
       "      <td>78453.0</td>\n",
       "      <td>6807.0</td>\n",
       "      <td>34208.0</td>\n",
       "      <td>64971.0</td>\n",
       "      <td>64.0</td>\n",
       "      <td>55692.0</td>\n",
       "      <td>0.0</td>\n",
       "      <td>10421.0</td>\n",
       "      <td>-4641.0</td>\n",
       "    </tr>\n",
       "    <tr>\n",
       "      <th>2555</th>\n",
       "      <th>Soja</th>\n",
       "      <td>13710.0</td>\n",
       "      <td>524.0</td>\n",
       "      <td>337.0</td>\n",
       "      <td>43.04</td>\n",
       "      <td>14.88</td>\n",
       "      <td>33.02</td>\n",
       "      <td>159570.0</td>\n",
       "      <td>41267.0</td>\n",
       "      <td>93455.0</td>\n",
       "      <td>7510.0</td>\n",
       "      <td>1777.0</td>\n",
       "      <td>107388.0</td>\n",
       "      <td>3596.0</td>\n",
       "      <td>132454.0</td>\n",
       "      <td>-4.0</td>\n",
       "    </tr>\n",
       "    <tr>\n",
       "      <th>2577</th>\n",
       "      <th>Huile de Palme</th>\n",
       "      <td>0.0</td>\n",
       "      <td>18568.0</td>\n",
       "      <td>755.0</td>\n",
       "      <td>32.06</td>\n",
       "      <td>85.37</td>\n",
       "      <td>0.23</td>\n",
       "      <td>25618.0</td>\n",
       "      <td>22878.0</td>\n",
       "      <td>29747.0</td>\n",
       "      <td>6833.0</td>\n",
       "      <td>224.0</td>\n",
       "      <td>19446.0</td>\n",
       "      <td>0.0</td>\n",
       "      <td>3.0</td>\n",
       "      <td>-698.0</td>\n",
       "    </tr>\n",
       "    <tr>\n",
       "      <th>2601</th>\n",
       "      <th>Tomates</th>\n",
       "      <td>0.0</td>\n",
       "      <td>0.0</td>\n",
       "      <td>65.0</td>\n",
       "      <td>126.30</td>\n",
       "      <td>0.73</td>\n",
       "      <td>3.04</td>\n",
       "      <td>21277.0</td>\n",
       "      <td>2372.0</td>\n",
       "      <td>7143.0</td>\n",
       "      <td>20252.0</td>\n",
       "      <td>1026.0</td>\n",
       "      <td>16053.0</td>\n",
       "      <td>0.0</td>\n",
       "      <td>0.0</td>\n",
       "      <td>452.0</td>\n",
       "    </tr>\n",
       "    <tr>\n",
       "      <th>2605</th>\n",
       "      <th>Légumes, Autres</th>\n",
       "      <td>3980.0</td>\n",
       "      <td>0.0</td>\n",
       "      <td>734.0</td>\n",
       "      <td>939.21</td>\n",
       "      <td>5.91</td>\n",
       "      <td>34.23</td>\n",
       "      <td>87101.0</td>\n",
       "      <td>13895.0</td>\n",
       "      <td>28177.0</td>\n",
       "      <td>75711.0</td>\n",
       "      <td>7272.0</td>\n",
       "      <td>72802.0</td>\n",
       "      <td>30.0</td>\n",
       "      <td>160.0</td>\n",
       "      <td>17.0</td>\n",
       "    </tr>\n",
       "    <tr>\n",
       "      <th>2611</th>\n",
       "      <th>Oranges, Mandarines</th>\n",
       "      <td>0.0</td>\n",
       "      <td>1.0</td>\n",
       "      <td>175.0</td>\n",
       "      <td>275.78</td>\n",
       "      <td>0.52</td>\n",
       "      <td>2.92</td>\n",
       "      <td>19534.0</td>\n",
       "      <td>9990.0</td>\n",
       "      <td>22945.0</td>\n",
       "      <td>19192.0</td>\n",
       "      <td>341.0</td>\n",
       "      <td>7534.0</td>\n",
       "      <td>0.0</td>\n",
       "      <td>0.0</td>\n",
       "      <td>-957.0</td>\n",
       "    </tr>\n",
       "    <tr>\n",
       "      <th>2615</th>\n",
       "      <th>Bananes</th>\n",
       "      <td>0.0</td>\n",
       "      <td>0.0</td>\n",
       "      <td>89.0</td>\n",
       "      <td>53.45</td>\n",
       "      <td>0.29</td>\n",
       "      <td>1.10</td>\n",
       "      <td>7466.0</td>\n",
       "      <td>2204.0</td>\n",
       "      <td>9663.0</td>\n",
       "      <td>7123.0</td>\n",
       "      <td>344.0</td>\n",
       "      <td>7.0</td>\n",
       "      <td>0.0</td>\n",
       "      <td>0.0</td>\n",
       "      <td>0.0</td>\n",
       "    </tr>\n",
       "    <tr>\n",
       "      <th>2617</th>\n",
       "      <th>Pommes</th>\n",
       "      <td>0.0</td>\n",
       "      <td>0.0</td>\n",
       "      <td>105.0</td>\n",
       "      <td>103.62</td>\n",
       "      <td>0.64</td>\n",
       "      <td>0.45</td>\n",
       "      <td>15592.0</td>\n",
       "      <td>1685.0</td>\n",
       "      <td>8518.0</td>\n",
       "      <td>14557.0</td>\n",
       "      <td>608.0</td>\n",
       "      <td>8551.0</td>\n",
       "      <td>0.0</td>\n",
       "      <td>426.0</td>\n",
       "      <td>209.0</td>\n",
       "    </tr>\n",
       "    <tr>\n",
       "      <th>2625</th>\n",
       "      <th>Fruits, Autres</th>\n",
       "      <td>0.0</td>\n",
       "      <td>0.0</td>\n",
       "      <td>236.0</td>\n",
       "      <td>195.30</td>\n",
       "      <td>3.47</td>\n",
       "      <td>3.12</td>\n",
       "      <td>72851.0</td>\n",
       "      <td>5818.0</td>\n",
       "      <td>15714.0</td>\n",
       "      <td>66962.0</td>\n",
       "      <td>4293.0</td>\n",
       "      <td>62879.0</td>\n",
       "      <td>0.0</td>\n",
       "      <td>1640.0</td>\n",
       "      <td>78.0</td>\n",
       "    </tr>\n",
       "    <tr>\n",
       "      <th>2763</th>\n",
       "      <th>Poissons Pelagiques</th>\n",
       "      <td>12156.0</td>\n",
       "      <td>0.0</td>\n",
       "      <td>115.0</td>\n",
       "      <td>36.08</td>\n",
       "      <td>5.01</td>\n",
       "      <td>15.67</td>\n",
       "      <td>16094.0</td>\n",
       "      <td>4602.0</td>\n",
       "      <td>13445.0</td>\n",
       "      <td>3937.0</td>\n",
       "      <td>0.0</td>\n",
       "      <td>7081.0</td>\n",
       "      <td>0.0</td>\n",
       "      <td>0.0</td>\n",
       "      <td>172.0</td>\n",
       "    </tr>\n",
       "    <tr>\n",
       "      <th>2805</th>\n",
       "      <th>Riz (Eq Blanchi)</th>\n",
       "      <td>12644.0</td>\n",
       "      <td>2804.0</td>\n",
       "      <td>4371.0</td>\n",
       "      <td>440.12</td>\n",
       "      <td>9.55</td>\n",
       "      <td>82.39</td>\n",
       "      <td>150234.0</td>\n",
       "      <td>1126.0</td>\n",
       "      <td>13990.0</td>\n",
       "      <td>122832.0</td>\n",
       "      <td>7118.0</td>\n",
       "      <td>142910.0</td>\n",
       "      <td>4837.0</td>\n",
       "      <td>1.0</td>\n",
       "      <td>-5539.0</td>\n",
       "    </tr>\n",
       "    <tr>\n",
       "      <th>2848</th>\n",
       "      <th>Lait - Excl Beurre</th>\n",
       "      <td>27211.0</td>\n",
       "      <td>12337.0</td>\n",
       "      <td>5972.0</td>\n",
       "      <td>4344.28</td>\n",
       "      <td>346.39</td>\n",
       "      <td>380.35</td>\n",
       "      <td>342633.0</td>\n",
       "      <td>74615.0</td>\n",
       "      <td>88418.0</td>\n",
       "      <td>300343.0</td>\n",
       "      <td>3469.0</td>\n",
       "      <td>327207.0</td>\n",
       "      <td>0.0</td>\n",
       "      <td>155.0</td>\n",
       "      <td>1629.0</td>\n",
       "    </tr>\n",
       "  </tbody>\n",
       "</table>\n",
       "</div>"
      ],
      "text/plain": [
       "Element                           Aliments pour animaux (milliers de tonnes)  \\\n",
       "Product_code Product                                                           \n",
       "2511         Blé                                                     98103.0   \n",
       "2514         Maïs                                                   402885.0   \n",
       "2532         Manioc                                                  25149.0   \n",
       "2542         Sucre Eq Brut                                               0.0   \n",
       "2555         Soja                                                    13710.0   \n",
       "2577         Huile de Palme                                              0.0   \n",
       "2601         Tomates                                                     0.0   \n",
       "2605         Légumes, Autres                                          3980.0   \n",
       "2611         Oranges, Mandarines                                         0.0   \n",
       "2615         Bananes                                                     0.0   \n",
       "2617         Pommes                                                      0.0   \n",
       "2625         Fruits, Autres                                              0.0   \n",
       "2763         Poissons Pelagiques                                     12156.0   \n",
       "2805         Riz (Eq Blanchi)                                        12644.0   \n",
       "2848         Lait - Excl Beurre                                      27211.0   \n",
       "\n",
       "Element                           Autres utilisations (non alimentaire)(milliers de tonnes)  \\\n",
       "Product_code Product                                                                          \n",
       "2511         Blé                                                            15047.0           \n",
       "2514         Maïs                                                          182117.0           \n",
       "2532         Manioc                                                         20355.0           \n",
       "2542         Sucre Eq Brut                                                   2996.0           \n",
       "2555         Soja                                                             524.0           \n",
       "2577         Huile de Palme                                                 18568.0           \n",
       "2601         Tomates                                                            0.0           \n",
       "2605         Légumes, Autres                                                    0.0           \n",
       "2611         Oranges, Mandarines                                                1.0           \n",
       "2615         Bananes                                                            0.0           \n",
       "2617         Pommes                                                             0.0           \n",
       "2625         Fruits, Autres                                                     0.0           \n",
       "2763         Poissons Pelagiques                                                0.0           \n",
       "2805         Riz (Eq Blanchi)                                                2804.0           \n",
       "2848         Lait - Excl Beurre                                             12337.0           \n",
       "\n",
       "Element                           Disponibilité alimentaire (Kcal/personne/jour)  \\\n",
       "Product_code Product                                                               \n",
       "2511         Blé                                                         30702.0   \n",
       "2514         Maïs                                                         4718.0   \n",
       "2532         Manioc                                                        178.0   \n",
       "2542         Sucre Eq Brut                                                3882.0   \n",
       "2555         Soja                                                          337.0   \n",
       "2577         Huile de Palme                                                755.0   \n",
       "2601         Tomates                                                        65.0   \n",
       "2605         Légumes, Autres                                               734.0   \n",
       "2611         Oranges, Mandarines                                           175.0   \n",
       "2615         Bananes                                                        89.0   \n",
       "2617         Pommes                                                        105.0   \n",
       "2625         Fruits, Autres                                                236.0   \n",
       "2763         Poissons Pelagiques                                           115.0   \n",
       "2805         Riz (Eq Blanchi)                                             4371.0   \n",
       "2848         Lait - Excl Beurre                                           5972.0   \n",
       "\n",
       "Element                           Disponibilité alimentaire en quantité (kg/personne/an)  \\\n",
       "Product_code Product                                                                       \n",
       "2511         Blé                                                            3948.18        \n",
       "2514         Maïs                                                            591.29        \n",
       "2532         Manioc                                                           62.04        \n",
       "2542         Sucre Eq Brut                                                   397.65        \n",
       "2555         Soja                                                             43.04        \n",
       "2577         Huile de Palme                                                   32.06        \n",
       "2601         Tomates                                                         126.30        \n",
       "2605         Légumes, Autres                                                 939.21        \n",
       "2611         Oranges, Mandarines                                             275.78        \n",
       "2615         Bananes                                                          53.45        \n",
       "2617         Pommes                                                          103.62        \n",
       "2625         Fruits, Autres                                                  195.30        \n",
       "2763         Poissons Pelagiques                                              36.08        \n",
       "2805         Riz (Eq Blanchi)                                                440.12        \n",
       "2848         Lait - Excl Beurre                                             4344.28        \n",
       "\n",
       "Element                           Disponibilité de matière grasse en quantité (g/personne/jour)  \\\n",
       "Product_code Product                                                                              \n",
       "2511         Blé                                                             134.51               \n",
       "2514         Maïs                                                             40.41               \n",
       "2532         Manioc                                                            0.36               \n",
       "2542         Sucre Eq Brut                                                     0.00               \n",
       "2555         Soja                                                             14.88               \n",
       "2577         Huile de Palme                                                   85.37               \n",
       "2601         Tomates                                                           0.73               \n",
       "2605         Légumes, Autres                                                   5.91               \n",
       "2611         Oranges, Mandarines                                               0.52               \n",
       "2615         Bananes                                                           0.29               \n",
       "2617         Pommes                                                            0.64               \n",
       "2625         Fruits, Autres                                                    3.47               \n",
       "2763         Poissons Pelagiques                                               5.01               \n",
       "2805         Riz (Eq Blanchi)                                                  9.55               \n",
       "2848         Lait - Excl Beurre                                              346.39               \n",
       "\n",
       "Element                           Disponibilité de protéines en quantité (g/personne/jour)  \\\n",
       "Product_code Product                                                                         \n",
       "2511         Blé                                                             932.04          \n",
       "2514         Maïs                                                            111.70          \n",
       "2532         Manioc                                                            0.89          \n",
       "2542         Sucre Eq Brut                                                     0.00          \n",
       "2555         Soja                                                             33.02          \n",
       "2577         Huile de Palme                                                    0.23          \n",
       "2601         Tomates                                                           3.04          \n",
       "2605         Légumes, Autres                                                  34.23          \n",
       "2611         Oranges, Mandarines                                               2.92          \n",
       "2615         Bananes                                                           1.10          \n",
       "2617         Pommes                                                            0.45          \n",
       "2625         Fruits, Autres                                                    3.12          \n",
       "2763         Poissons Pelagiques                                              15.67          \n",
       "2805         Riz (Eq Blanchi)                                                 82.39          \n",
       "2848         Lait - Excl Beurre                                              380.35          \n",
       "\n",
       "Element                           Disponibilité intérieure (milliers de tonnes)  \\\n",
       "Product_code Product                                                              \n",
       "2511         Blé                                                       456475.0   \n",
       "2514         Maïs                                                      701068.0   \n",
       "2532         Manioc                                                     67326.0   \n",
       "2542         Sucre Eq Brut                                              78453.0   \n",
       "2555         Soja                                                      159570.0   \n",
       "2577         Huile de Palme                                             25618.0   \n",
       "2601         Tomates                                                    21277.0   \n",
       "2605         Légumes, Autres                                            87101.0   \n",
       "2611         Oranges, Mandarines                                        19534.0   \n",
       "2615         Bananes                                                     7466.0   \n",
       "2617         Pommes                                                     15592.0   \n",
       "2625         Fruits, Autres                                             72851.0   \n",
       "2763         Poissons Pelagiques                                        16094.0   \n",
       "2805         Riz (Eq Blanchi)                                          150234.0   \n",
       "2848         Lait - Excl Beurre                                        342633.0   \n",
       "\n",
       "Element                           Exportations - Quantité (milliers de tonnes)  \\\n",
       "Product_code Product                                                             \n",
       "2511         Blé                                                      105355.0   \n",
       "2514         Maïs                                                      31260.0   \n",
       "2532         Manioc                                                    26157.0   \n",
       "2542         Sucre Eq Brut                                              6807.0   \n",
       "2555         Soja                                                      41267.0   \n",
       "2577         Huile de Palme                                            22878.0   \n",
       "2601         Tomates                                                    2372.0   \n",
       "2605         Légumes, Autres                                           13895.0   \n",
       "2611         Oranges, Mandarines                                        9990.0   \n",
       "2615         Bananes                                                    2204.0   \n",
       "2617         Pommes                                                     1685.0   \n",
       "2625         Fruits, Autres                                             5818.0   \n",
       "2763         Poissons Pelagiques                                        4602.0   \n",
       "2805         Riz (Eq Blanchi)                                           1126.0   \n",
       "2848         Lait - Excl Beurre                                        74615.0   \n",
       "\n",
       "Element                           Importations - Quantité (milliers de tonnes)  \\\n",
       "Product_code Product                                                             \n",
       "2511         Blé                                                      147576.0   \n",
       "2514         Maïs                                                     102451.0   \n",
       "2532         Manioc                                                    34655.0   \n",
       "2542         Sucre Eq Brut                                             34208.0   \n",
       "2555         Soja                                                      93455.0   \n",
       "2577         Huile de Palme                                            29747.0   \n",
       "2601         Tomates                                                    7143.0   \n",
       "2605         Légumes, Autres                                           28177.0   \n",
       "2611         Oranges, Mandarines                                       22945.0   \n",
       "2615         Bananes                                                    9663.0   \n",
       "2617         Pommes                                                     8518.0   \n",
       "2625         Fruits, Autres                                            15714.0   \n",
       "2763         Poissons Pelagiques                                       13445.0   \n",
       "2805         Riz (Eq Blanchi)                                          13990.0   \n",
       "2848         Lait - Excl Beurre                                        88418.0   \n",
       "\n",
       "Element                           Nourriture (milliers de tonnes)  \\\n",
       "Product_code Product                                                \n",
       "2511         Blé                                         300771.0   \n",
       "2514         Maïs                                         55918.0   \n",
       "2532         Manioc                                       15257.0   \n",
       "2542         Sucre Eq Brut                                64971.0   \n",
       "2555         Soja                                          7510.0   \n",
       "2577         Huile de Palme                                6833.0   \n",
       "2601         Tomates                                      20252.0   \n",
       "2605         Légumes, Autres                              75711.0   \n",
       "2611         Oranges, Mandarines                          19192.0   \n",
       "2615         Bananes                                       7123.0   \n",
       "2617         Pommes                                       14557.0   \n",
       "2625         Fruits, Autres                               66962.0   \n",
       "2763         Poissons Pelagiques                           3937.0   \n",
       "2805         Riz (Eq Blanchi)                            122832.0   \n",
       "2848         Lait - Excl Beurre                          300343.0   \n",
       "\n",
       "Element                           Pertes   (milliers de tonnes)  \\\n",
       "Product_code Product                                              \n",
       "2511         Blé                                        16062.0   \n",
       "2514         Maïs                                       18268.0   \n",
       "2532         Manioc                                      4759.0   \n",
       "2542         Sucre Eq Brut                                 64.0   \n",
       "2555         Soja                                        1777.0   \n",
       "2577         Huile de Palme                               224.0   \n",
       "2601         Tomates                                     1026.0   \n",
       "2605         Légumes, Autres                             7272.0   \n",
       "2611         Oranges, Mandarines                          341.0   \n",
       "2615         Bananes                                      344.0   \n",
       "2617         Pommes                                       608.0   \n",
       "2625         Fruits, Autres                              4293.0   \n",
       "2763         Poissons Pelagiques                            0.0   \n",
       "2805         Riz (Eq Blanchi)                            7118.0   \n",
       "2848         Lait - Excl Beurre                          3469.0   \n",
       "\n",
       "Element                           Production  (milliers de tonnes)  \\\n",
       "Product_code Product                                                 \n",
       "2511         Blé                                          420350.0   \n",
       "2514         Maïs                                         675213.0   \n",
       "2532         Manioc                                        58765.0   \n",
       "2542         Sucre Eq Brut                                 55692.0   \n",
       "2555         Soja                                         107388.0   \n",
       "2577         Huile de Palme                                19446.0   \n",
       "2601         Tomates                                       16053.0   \n",
       "2605         Légumes, Autres                               72802.0   \n",
       "2611         Oranges, Mandarines                            7534.0   \n",
       "2615         Bananes                                           7.0   \n",
       "2617         Pommes                                         8551.0   \n",
       "2625         Fruits, Autres                                62879.0   \n",
       "2763         Poissons Pelagiques                            7081.0   \n",
       "2805         Riz (Eq Blanchi)                             142910.0   \n",
       "2848         Lait - Excl Beurre                           327207.0   \n",
       "\n",
       "Element                           Semences   (milliers de tonnes)  \\\n",
       "Product_code Product                                                \n",
       "2511         Blé                                          20576.0   \n",
       "2514         Maïs                                          3148.0   \n",
       "2532         Manioc                                           0.0   \n",
       "2542         Sucre Eq Brut                                    0.0   \n",
       "2555         Soja                                          3596.0   \n",
       "2577         Huile de Palme                                   0.0   \n",
       "2601         Tomates                                          0.0   \n",
       "2605         Légumes, Autres                                 30.0   \n",
       "2611         Oranges, Mandarines                              0.0   \n",
       "2615         Bananes                                          0.0   \n",
       "2617         Pommes                                           0.0   \n",
       "2625         Fruits, Autres                                   0.0   \n",
       "2763         Poissons Pelagiques                              0.0   \n",
       "2805         Riz (Eq Blanchi)                              4837.0   \n",
       "2848         Lait - Excl Beurre                               0.0   \n",
       "\n",
       "Element                           Traitement   (milliers de tonnes)  \\\n",
       "Product_code Product                                                  \n",
       "2511         Blé                                             5964.0   \n",
       "2514         Maïs                                           38735.0   \n",
       "2532         Manioc                                          1804.0   \n",
       "2542         Sucre Eq Brut                                  10421.0   \n",
       "2555         Soja                                          132454.0   \n",
       "2577         Huile de Palme                                     3.0   \n",
       "2601         Tomates                                            0.0   \n",
       "2605         Légumes, Autres                                  160.0   \n",
       "2611         Oranges, Mandarines                                0.0   \n",
       "2615         Bananes                                            0.0   \n",
       "2617         Pommes                                           426.0   \n",
       "2625         Fruits, Autres                                  1640.0   \n",
       "2763         Poissons Pelagiques                                0.0   \n",
       "2805         Riz (Eq Blanchi)                                   1.0   \n",
       "2848         Lait - Excl Beurre                               155.0   \n",
       "\n",
       "Element                           Variation de stock   (milliers de tonnes)  \n",
       "Product_code Product                                                         \n",
       "2511         Blé                                                    -6101.0  \n",
       "2514         Maïs                                                  -45339.0  \n",
       "2532         Manioc                                                    63.0  \n",
       "2542         Sucre Eq Brut                                          -4641.0  \n",
       "2555         Soja                                                      -4.0  \n",
       "2577         Huile de Palme                                          -698.0  \n",
       "2601         Tomates                                                  452.0  \n",
       "2605         Légumes, Autres                                           17.0  \n",
       "2611         Oranges, Mandarines                                     -957.0  \n",
       "2615         Bananes                                                    0.0  \n",
       "2617         Pommes                                                   209.0  \n",
       "2625         Fruits, Autres                                            78.0  \n",
       "2763         Poissons Pelagiques                                      172.0  \n",
       "2805         Riz (Eq Blanchi)                                       -5539.0  \n",
       "2848         Lait - Excl Beurre                                      1629.0  "
      ]
     },
     "execution_count": 263,
     "metadata": {},
     "output_type": "execute_result"
    }
   ],
   "source": [
    "df_popVegAniSous200PPiv.head(15)"
   ]
  },
  {
   "cell_type": "code",
   "execution_count": 264,
   "metadata": {},
   "outputs": [
    {
     "data": {
      "text/plain": [
       "(15, 15)"
      ]
     },
     "execution_count": 264,
     "metadata": {},
     "output_type": "execute_result"
    }
   ],
   "source": [
    "df_popVegAniSous200PPiv.shape"
   ]
  },
  {
   "cell_type": "markdown",
   "metadata": {},
   "source": [
    "### 11.5 Ratio entre la quantité destinés aux \"Autres utilisations\" (Other uses) et la disponibilité intérieure."
   ]
  },
  {
   "cell_type": "code",
   "execution_count": 265,
   "metadata": {},
   "outputs": [],
   "source": [
    "# Création d'une nouvelle colonne 'RatioAutUtilDispoInter' dans le dataframe p3 \n",
    "df_popVegAniSous200PPiv['RatioAutresUtil/DispoInterieure'] = df_popVegAniSous200PPiv['Autres utilisations (non alimentaire)(milliers de tonnes)']/df_popVegAniSous200PPiv['Disponibilité intérieure (milliers de tonnes)']"
   ]
  },
  {
   "cell_type": "code",
   "execution_count": 266,
   "metadata": {},
   "outputs": [
    {
     "data": {
      "text/html": [
       "<div>\n",
       "<style scoped>\n",
       "    .dataframe tbody tr th:only-of-type {\n",
       "        vertical-align: middle;\n",
       "    }\n",
       "\n",
       "    .dataframe tbody tr th {\n",
       "        vertical-align: top;\n",
       "    }\n",
       "\n",
       "    .dataframe thead th {\n",
       "        text-align: right;\n",
       "    }\n",
       "</style>\n",
       "<table border=\"1\" class=\"dataframe\">\n",
       "  <thead>\n",
       "    <tr style=\"text-align: right;\">\n",
       "      <th></th>\n",
       "      <th>Element</th>\n",
       "      <th>Aliments pour animaux (milliers de tonnes)</th>\n",
       "      <th>Autres utilisations (non alimentaire)(milliers de tonnes)</th>\n",
       "      <th>Disponibilité alimentaire (Kcal/personne/jour)</th>\n",
       "      <th>Disponibilité alimentaire en quantité (kg/personne/an)</th>\n",
       "      <th>Disponibilité de matière grasse en quantité (g/personne/jour)</th>\n",
       "      <th>Disponibilité de protéines en quantité (g/personne/jour)</th>\n",
       "      <th>Disponibilité intérieure (milliers de tonnes)</th>\n",
       "      <th>Exportations - Quantité (milliers de tonnes)</th>\n",
       "      <th>Importations - Quantité (milliers de tonnes)</th>\n",
       "      <th>Nourriture (milliers de tonnes)</th>\n",
       "      <th>Pertes   (milliers de tonnes)</th>\n",
       "      <th>Production  (milliers de tonnes)</th>\n",
       "      <th>Semences   (milliers de tonnes)</th>\n",
       "      <th>Traitement   (milliers de tonnes)</th>\n",
       "      <th>Variation de stock   (milliers de tonnes)</th>\n",
       "      <th>RatioAutresUtil/DispoInterieure</th>\n",
       "    </tr>\n",
       "    <tr>\n",
       "      <th>Product_code</th>\n",
       "      <th>Product</th>\n",
       "      <th></th>\n",
       "      <th></th>\n",
       "      <th></th>\n",
       "      <th></th>\n",
       "      <th></th>\n",
       "      <th></th>\n",
       "      <th></th>\n",
       "      <th></th>\n",
       "      <th></th>\n",
       "      <th></th>\n",
       "      <th></th>\n",
       "      <th></th>\n",
       "      <th></th>\n",
       "      <th></th>\n",
       "      <th></th>\n",
       "      <th></th>\n",
       "    </tr>\n",
       "  </thead>\n",
       "  <tbody>\n",
       "    <tr>\n",
       "      <th>2511</th>\n",
       "      <th>Blé</th>\n",
       "      <td>98103.0</td>\n",
       "      <td>15047.0</td>\n",
       "      <td>30702.0</td>\n",
       "      <td>3948.18</td>\n",
       "      <td>134.51</td>\n",
       "      <td>932.04</td>\n",
       "      <td>456475.0</td>\n",
       "      <td>105355.0</td>\n",
       "      <td>147576.0</td>\n",
       "      <td>300771.0</td>\n",
       "      <td>16062.0</td>\n",
       "      <td>420350.0</td>\n",
       "      <td>20576.0</td>\n",
       "      <td>5964.0</td>\n",
       "      <td>-6101.0</td>\n",
       "      <td>0.032963</td>\n",
       "    </tr>\n",
       "  </tbody>\n",
       "</table>\n",
       "</div>"
      ],
      "text/plain": [
       "Element               Aliments pour animaux (milliers de tonnes)  \\\n",
       "Product_code Product                                               \n",
       "2511         Blé                                         98103.0   \n",
       "\n",
       "Element               Autres utilisations (non alimentaire)(milliers de tonnes)  \\\n",
       "Product_code Product                                                              \n",
       "2511         Blé                                                15047.0           \n",
       "\n",
       "Element               Disponibilité alimentaire (Kcal/personne/jour)  \\\n",
       "Product_code Product                                                   \n",
       "2511         Blé                                             30702.0   \n",
       "\n",
       "Element               Disponibilité alimentaire en quantité (kg/personne/an)  \\\n",
       "Product_code Product                                                           \n",
       "2511         Blé                                                3948.18        \n",
       "\n",
       "Element               Disponibilité de matière grasse en quantité (g/personne/jour)  \\\n",
       "Product_code Product                                                                  \n",
       "2511         Blé                                                 134.51               \n",
       "\n",
       "Element               Disponibilité de protéines en quantité (g/personne/jour)  \\\n",
       "Product_code Product                                                             \n",
       "2511         Blé                                                 932.04          \n",
       "\n",
       "Element               Disponibilité intérieure (milliers de tonnes)  \\\n",
       "Product_code Product                                                  \n",
       "2511         Blé                                           456475.0   \n",
       "\n",
       "Element               Exportations - Quantité (milliers de tonnes)  \\\n",
       "Product_code Product                                                 \n",
       "2511         Blé                                          105355.0   \n",
       "\n",
       "Element               Importations - Quantité (milliers de tonnes)  \\\n",
       "Product_code Product                                                 \n",
       "2511         Blé                                          147576.0   \n",
       "\n",
       "Element               Nourriture (milliers de tonnes)  \\\n",
       "Product_code Product                                    \n",
       "2511         Blé                             300771.0   \n",
       "\n",
       "Element               Pertes   (milliers de tonnes)  \\\n",
       "Product_code Product                                  \n",
       "2511         Blé                            16062.0   \n",
       "\n",
       "Element               Production  (milliers de tonnes)  \\\n",
       "Product_code Product                                     \n",
       "2511         Blé                              420350.0   \n",
       "\n",
       "Element               Semences   (milliers de tonnes)  \\\n",
       "Product_code Product                                    \n",
       "2511         Blé                              20576.0   \n",
       "\n",
       "Element               Traitement   (milliers de tonnes)  \\\n",
       "Product_code Product                                      \n",
       "2511         Blé                                 5964.0   \n",
       "\n",
       "Element               Variation de stock   (milliers de tonnes)  \\\n",
       "Product_code Product                                              \n",
       "2511         Blé                                        -6101.0   \n",
       "\n",
       "Element               RatioAutresUtil/DispoInterieure  \n",
       "Product_code Product                                   \n",
       "2511         Blé                             0.032963  "
      ]
     },
     "execution_count": 266,
     "metadata": {},
     "output_type": "execute_result"
    }
   ],
   "source": [
    "# vérification de la création de la nouvelle colonne\n",
    "df_popVegAniSous200PPiv.head(1)"
   ]
  },
  {
   "cell_type": "code",
   "execution_count": 267,
   "metadata": {},
   "outputs": [
    {
     "data": {
      "text/plain": [
       "dtype('float64')"
      ]
     },
     "execution_count": 267,
     "metadata": {},
     "output_type": "execute_result"
    }
   ],
   "source": [
    "df_popVegAniSous200PPiv['Aliments pour animaux (milliers de tonnes)' ].dtypes"
   ]
  },
  {
   "cell_type": "markdown",
   "metadata": {},
   "source": [
    "### 11.6 Ratio entre la quantité destinée à la nourriture animale et la quantité destinée à la nourriture (animale + humaine)"
   ]
  },
  {
   "cell_type": "code",
   "execution_count": 268,
   "metadata": {},
   "outputs": [],
   "source": [
    "# Création d'une nouvelle colonne 'RatioNourriAnim/nourriture(Ani+Humaine)' dans le dataframe p3 \n",
    "df_popVegAniSous200PPiv['RatioNourriAnim/nourriture(Ani+Humaine)'] = df_popVegAniSous200PPiv['Aliments pour animaux (milliers de tonnes)']/(df_popVegAniSous200PPiv['Nourriture (milliers de tonnes)'] + df_popVegAniSous200PPiv['Aliments pour animaux (milliers de tonnes)'])"
   ]
  },
  {
   "cell_type": "code",
   "execution_count": 269,
   "metadata": {
    "scrolled": true
   },
   "outputs": [
    {
     "data": {
      "text/html": [
       "<div>\n",
       "<style scoped>\n",
       "    .dataframe tbody tr th:only-of-type {\n",
       "        vertical-align: middle;\n",
       "    }\n",
       "\n",
       "    .dataframe tbody tr th {\n",
       "        vertical-align: top;\n",
       "    }\n",
       "\n",
       "    .dataframe thead th {\n",
       "        text-align: right;\n",
       "    }\n",
       "</style>\n",
       "<table border=\"1\" class=\"dataframe\">\n",
       "  <thead>\n",
       "    <tr style=\"text-align: right;\">\n",
       "      <th></th>\n",
       "      <th>Element</th>\n",
       "      <th>Aliments pour animaux (milliers de tonnes)</th>\n",
       "      <th>Autres utilisations (non alimentaire)(milliers de tonnes)</th>\n",
       "      <th>Disponibilité alimentaire (Kcal/personne/jour)</th>\n",
       "      <th>Disponibilité alimentaire en quantité (kg/personne/an)</th>\n",
       "      <th>Disponibilité de matière grasse en quantité (g/personne/jour)</th>\n",
       "      <th>Disponibilité de protéines en quantité (g/personne/jour)</th>\n",
       "      <th>Disponibilité intérieure (milliers de tonnes)</th>\n",
       "      <th>Exportations - Quantité (milliers de tonnes)</th>\n",
       "      <th>Importations - Quantité (milliers de tonnes)</th>\n",
       "      <th>Nourriture (milliers de tonnes)</th>\n",
       "      <th>Pertes   (milliers de tonnes)</th>\n",
       "      <th>Production  (milliers de tonnes)</th>\n",
       "      <th>Semences   (milliers de tonnes)</th>\n",
       "      <th>Traitement   (milliers de tonnes)</th>\n",
       "      <th>Variation de stock   (milliers de tonnes)</th>\n",
       "      <th>RatioAutresUtil/DispoInterieure</th>\n",
       "      <th>RatioNourriAnim/nourriture(Ani+Humaine)</th>\n",
       "    </tr>\n",
       "    <tr>\n",
       "      <th>Product_code</th>\n",
       "      <th>Product</th>\n",
       "      <th></th>\n",
       "      <th></th>\n",
       "      <th></th>\n",
       "      <th></th>\n",
       "      <th></th>\n",
       "      <th></th>\n",
       "      <th></th>\n",
       "      <th></th>\n",
       "      <th></th>\n",
       "      <th></th>\n",
       "      <th></th>\n",
       "      <th></th>\n",
       "      <th></th>\n",
       "      <th></th>\n",
       "      <th></th>\n",
       "      <th></th>\n",
       "      <th></th>\n",
       "    </tr>\n",
       "  </thead>\n",
       "  <tbody>\n",
       "    <tr>\n",
       "      <th>2511</th>\n",
       "      <th>Blé</th>\n",
       "      <td>98103.0</td>\n",
       "      <td>15047.0</td>\n",
       "      <td>30702.0</td>\n",
       "      <td>3948.18</td>\n",
       "      <td>134.51</td>\n",
       "      <td>932.04</td>\n",
       "      <td>456475.0</td>\n",
       "      <td>105355.0</td>\n",
       "      <td>147576.0</td>\n",
       "      <td>300771.0</td>\n",
       "      <td>16062.0</td>\n",
       "      <td>420350.0</td>\n",
       "      <td>20576.0</td>\n",
       "      <td>5964.0</td>\n",
       "      <td>-6101.0</td>\n",
       "      <td>0.032963</td>\n",
       "      <td>0.24595</td>\n",
       "    </tr>\n",
       "  </tbody>\n",
       "</table>\n",
       "</div>"
      ],
      "text/plain": [
       "Element               Aliments pour animaux (milliers de tonnes)  \\\n",
       "Product_code Product                                               \n",
       "2511         Blé                                         98103.0   \n",
       "\n",
       "Element               Autres utilisations (non alimentaire)(milliers de tonnes)  \\\n",
       "Product_code Product                                                              \n",
       "2511         Blé                                                15047.0           \n",
       "\n",
       "Element               Disponibilité alimentaire (Kcal/personne/jour)  \\\n",
       "Product_code Product                                                   \n",
       "2511         Blé                                             30702.0   \n",
       "\n",
       "Element               Disponibilité alimentaire en quantité (kg/personne/an)  \\\n",
       "Product_code Product                                                           \n",
       "2511         Blé                                                3948.18        \n",
       "\n",
       "Element               Disponibilité de matière grasse en quantité (g/personne/jour)  \\\n",
       "Product_code Product                                                                  \n",
       "2511         Blé                                                 134.51               \n",
       "\n",
       "Element               Disponibilité de protéines en quantité (g/personne/jour)  \\\n",
       "Product_code Product                                                             \n",
       "2511         Blé                                                 932.04          \n",
       "\n",
       "Element               Disponibilité intérieure (milliers de tonnes)  \\\n",
       "Product_code Product                                                  \n",
       "2511         Blé                                           456475.0   \n",
       "\n",
       "Element               Exportations - Quantité (milliers de tonnes)  \\\n",
       "Product_code Product                                                 \n",
       "2511         Blé                                          105355.0   \n",
       "\n",
       "Element               Importations - Quantité (milliers de tonnes)  \\\n",
       "Product_code Product                                                 \n",
       "2511         Blé                                          147576.0   \n",
       "\n",
       "Element               Nourriture (milliers de tonnes)  \\\n",
       "Product_code Product                                    \n",
       "2511         Blé                             300771.0   \n",
       "\n",
       "Element               Pertes   (milliers de tonnes)  \\\n",
       "Product_code Product                                  \n",
       "2511         Blé                            16062.0   \n",
       "\n",
       "Element               Production  (milliers de tonnes)  \\\n",
       "Product_code Product                                     \n",
       "2511         Blé                              420350.0   \n",
       "\n",
       "Element               Semences   (milliers de tonnes)  \\\n",
       "Product_code Product                                    \n",
       "2511         Blé                              20576.0   \n",
       "\n",
       "Element               Traitement   (milliers de tonnes)  \\\n",
       "Product_code Product                                      \n",
       "2511         Blé                                 5964.0   \n",
       "\n",
       "Element               Variation de stock   (milliers de tonnes)  \\\n",
       "Product_code Product                                              \n",
       "2511         Blé                                        -6101.0   \n",
       "\n",
       "Element               RatioAutresUtil/DispoInterieure  \\\n",
       "Product_code Product                                    \n",
       "2511         Blé                             0.032963   \n",
       "\n",
       "Element               RatioNourriAnim/nourriture(Ani+Humaine)  \n",
       "Product_code Product                                           \n",
       "2511         Blé                                      0.24595  "
      ]
     },
     "execution_count": 269,
     "metadata": {},
     "output_type": "execute_result"
    }
   ],
   "source": [
    "# Vérification de la création de la nouvelle colonne\n",
    "df_popVegAniSous200PPiv.head(1)"
   ]
  },
  {
   "cell_type": "markdown",
   "metadata": {},
   "source": [
    "## Question 12 : Donnez les 3 produits qui ont la plus grande valeur pour chacun des 2 ratios (vous aurez donc 6 produits à citer) :"
   ]
  },
  {
   "cell_type": "markdown",
   "metadata": {},
   "source": [
    "### 12.1 Pour le ratio entre la quantité destinés aux \"Autres utilisations\" (Other uses) et la disponibilité intérieure, les produits sont :"
   ]
  },
  {
   "cell_type": "code",
   "execution_count": 270,
   "metadata": {},
   "outputs": [],
   "source": [
    "# Tri par ordre décroissant de la colonne 'RatioAutresUtil/DispoInterieure' et récupération des 3 premiers ratios\n",
    "df_popVegAniSous200PPivT = df_popVegAniSous200PPiv.sort_values('RatioAutresUtil/DispoInterieure', axis = 0, ascending=False)#.iloc[0:3, :]"
   ]
  },
  {
   "cell_type": "code",
   "execution_count": 271,
   "metadata": {},
   "outputs": [
    {
     "data": {
      "text/html": [
       "<div>\n",
       "<style scoped>\n",
       "    .dataframe tbody tr th:only-of-type {\n",
       "        vertical-align: middle;\n",
       "    }\n",
       "\n",
       "    .dataframe tbody tr th {\n",
       "        vertical-align: top;\n",
       "    }\n",
       "\n",
       "    .dataframe thead th {\n",
       "        text-align: right;\n",
       "    }\n",
       "</style>\n",
       "<table border=\"1\" class=\"dataframe\">\n",
       "  <thead>\n",
       "    <tr style=\"text-align: right;\">\n",
       "      <th></th>\n",
       "      <th>Element</th>\n",
       "      <th>RatioAutresUtil/DispoInterieure</th>\n",
       "    </tr>\n",
       "    <tr>\n",
       "      <th>Product_code</th>\n",
       "      <th>Product</th>\n",
       "      <th></th>\n",
       "    </tr>\n",
       "  </thead>\n",
       "  <tbody>\n",
       "    <tr>\n",
       "      <th>2577</th>\n",
       "      <th>Huile de Palme</th>\n",
       "      <td>0.724803</td>\n",
       "    </tr>\n",
       "    <tr>\n",
       "      <th>2532</th>\n",
       "      <th>Manioc</th>\n",
       "      <td>0.302335</td>\n",
       "    </tr>\n",
       "    <tr>\n",
       "      <th>2514</th>\n",
       "      <th>Maïs</th>\n",
       "      <td>0.259771</td>\n",
       "    </tr>\n",
       "  </tbody>\n",
       "</table>\n",
       "</div>"
      ],
      "text/plain": [
       "Element                      RatioAutresUtil/DispoInterieure\n",
       "Product_code Product                                        \n",
       "2577         Huile de Palme                         0.724803\n",
       "2532         Manioc                                 0.302335\n",
       "2514         Maïs                                   0.259771"
      ]
     },
     "execution_count": 271,
     "metadata": {},
     "output_type": "execute_result"
    }
   ],
   "source": [
    "# Les 3 produits avec le plus fort ratio entre la quantité destinés aux \"Autres utilisations\" (Other uses) et la disponibilité intérieure sont :\n",
    "df_RatioTop3AutDispo200 = df_popVegAniSous200PPivT.loc[:, ['RatioAutresUtil/DispoInterieure']]\n",
    "df_RatioTop3AutDispo200.head(3)"
   ]
  },
  {
   "cell_type": "markdown",
   "metadata": {},
   "source": [
    "### 12.2 Pour le ratio entre la quantité destinée à la nourriture animale et la quantité destinée à la nourriture (animale + humaine), les produits sont :"
   ]
  },
  {
   "cell_type": "code",
   "execution_count": 272,
   "metadata": {},
   "outputs": [],
   "source": [
    "# Tri par ordre décroissant de la colonne 'RatioNourriAnim/nourriture(Ani+Humaine)' et récupération des 3 premiers ratios\n",
    "df_popVegAniSous200PPivT2 = df_popVegAniSous200PPiv.sort_values('RatioNourriAnim/nourriture(Ani+Humaine)', axis = 0, ascending=False).iloc[0:3, :]"
   ]
  },
  {
   "cell_type": "code",
   "execution_count": 273,
   "metadata": {},
   "outputs": [
    {
     "data": {
      "text/html": [
       "<div>\n",
       "<style scoped>\n",
       "    .dataframe tbody tr th:only-of-type {\n",
       "        vertical-align: middle;\n",
       "    }\n",
       "\n",
       "    .dataframe tbody tr th {\n",
       "        vertical-align: top;\n",
       "    }\n",
       "\n",
       "    .dataframe thead th {\n",
       "        text-align: right;\n",
       "    }\n",
       "</style>\n",
       "<table border=\"1\" class=\"dataframe\">\n",
       "  <thead>\n",
       "    <tr style=\"text-align: right;\">\n",
       "      <th></th>\n",
       "      <th>Element</th>\n",
       "      <th>Aliments pour animaux (milliers de tonnes)</th>\n",
       "      <th>Autres utilisations (non alimentaire)(milliers de tonnes)</th>\n",
       "      <th>Disponibilité alimentaire (Kcal/personne/jour)</th>\n",
       "      <th>Disponibilité alimentaire en quantité (kg/personne/an)</th>\n",
       "      <th>Disponibilité de matière grasse en quantité (g/personne/jour)</th>\n",
       "      <th>Disponibilité de protéines en quantité (g/personne/jour)</th>\n",
       "      <th>Disponibilité intérieure (milliers de tonnes)</th>\n",
       "      <th>Exportations - Quantité (milliers de tonnes)</th>\n",
       "      <th>Importations - Quantité (milliers de tonnes)</th>\n",
       "      <th>Nourriture (milliers de tonnes)</th>\n",
       "      <th>Pertes   (milliers de tonnes)</th>\n",
       "      <th>Production  (milliers de tonnes)</th>\n",
       "      <th>Semences   (milliers de tonnes)</th>\n",
       "      <th>Traitement   (milliers de tonnes)</th>\n",
       "      <th>Variation de stock   (milliers de tonnes)</th>\n",
       "      <th>RatioAutresUtil/DispoInterieure</th>\n",
       "      <th>RatioNourriAnim/nourriture(Ani+Humaine)</th>\n",
       "    </tr>\n",
       "    <tr>\n",
       "      <th>Product_code</th>\n",
       "      <th>Product</th>\n",
       "      <th></th>\n",
       "      <th></th>\n",
       "      <th></th>\n",
       "      <th></th>\n",
       "      <th></th>\n",
       "      <th></th>\n",
       "      <th></th>\n",
       "      <th></th>\n",
       "      <th></th>\n",
       "      <th></th>\n",
       "      <th></th>\n",
       "      <th></th>\n",
       "      <th></th>\n",
       "      <th></th>\n",
       "      <th></th>\n",
       "      <th></th>\n",
       "      <th></th>\n",
       "    </tr>\n",
       "  </thead>\n",
       "  <tbody>\n",
       "    <tr>\n",
       "      <th>2514</th>\n",
       "      <th>Maïs</th>\n",
       "      <td>402885.0</td>\n",
       "      <td>182117.0</td>\n",
       "      <td>4718.0</td>\n",
       "      <td>591.29</td>\n",
       "      <td>40.41</td>\n",
       "      <td>111.70</td>\n",
       "      <td>701068.0</td>\n",
       "      <td>31260.0</td>\n",
       "      <td>102451.0</td>\n",
       "      <td>55918.0</td>\n",
       "      <td>18268.0</td>\n",
       "      <td>675213.0</td>\n",
       "      <td>3148.0</td>\n",
       "      <td>38735.0</td>\n",
       "      <td>-45339.0</td>\n",
       "      <td>0.259771</td>\n",
       "      <td>0.878122</td>\n",
       "    </tr>\n",
       "    <tr>\n",
       "      <th>2763</th>\n",
       "      <th>Poissons Pelagiques</th>\n",
       "      <td>12156.0</td>\n",
       "      <td>0.0</td>\n",
       "      <td>115.0</td>\n",
       "      <td>36.08</td>\n",
       "      <td>5.01</td>\n",
       "      <td>15.67</td>\n",
       "      <td>16094.0</td>\n",
       "      <td>4602.0</td>\n",
       "      <td>13445.0</td>\n",
       "      <td>3937.0</td>\n",
       "      <td>0.0</td>\n",
       "      <td>7081.0</td>\n",
       "      <td>0.0</td>\n",
       "      <td>0.0</td>\n",
       "      <td>172.0</td>\n",
       "      <td>0.000000</td>\n",
       "      <td>0.755359</td>\n",
       "    </tr>\n",
       "    <tr>\n",
       "      <th>2555</th>\n",
       "      <th>Soja</th>\n",
       "      <td>13710.0</td>\n",
       "      <td>524.0</td>\n",
       "      <td>337.0</td>\n",
       "      <td>43.04</td>\n",
       "      <td>14.88</td>\n",
       "      <td>33.02</td>\n",
       "      <td>159570.0</td>\n",
       "      <td>41267.0</td>\n",
       "      <td>93455.0</td>\n",
       "      <td>7510.0</td>\n",
       "      <td>1777.0</td>\n",
       "      <td>107388.0</td>\n",
       "      <td>3596.0</td>\n",
       "      <td>132454.0</td>\n",
       "      <td>-4.0</td>\n",
       "      <td>0.003284</td>\n",
       "      <td>0.646089</td>\n",
       "    </tr>\n",
       "  </tbody>\n",
       "</table>\n",
       "</div>"
      ],
      "text/plain": [
       "Element                           Aliments pour animaux (milliers de tonnes)  \\\n",
       "Product_code Product                                                           \n",
       "2514         Maïs                                                   402885.0   \n",
       "2763         Poissons Pelagiques                                     12156.0   \n",
       "2555         Soja                                                    13710.0   \n",
       "\n",
       "Element                           Autres utilisations (non alimentaire)(milliers de tonnes)  \\\n",
       "Product_code Product                                                                          \n",
       "2514         Maïs                                                          182117.0           \n",
       "2763         Poissons Pelagiques                                                0.0           \n",
       "2555         Soja                                                             524.0           \n",
       "\n",
       "Element                           Disponibilité alimentaire (Kcal/personne/jour)  \\\n",
       "Product_code Product                                                               \n",
       "2514         Maïs                                                         4718.0   \n",
       "2763         Poissons Pelagiques                                           115.0   \n",
       "2555         Soja                                                          337.0   \n",
       "\n",
       "Element                           Disponibilité alimentaire en quantité (kg/personne/an)  \\\n",
       "Product_code Product                                                                       \n",
       "2514         Maïs                                                            591.29        \n",
       "2763         Poissons Pelagiques                                              36.08        \n",
       "2555         Soja                                                             43.04        \n",
       "\n",
       "Element                           Disponibilité de matière grasse en quantité (g/personne/jour)  \\\n",
       "Product_code Product                                                                              \n",
       "2514         Maïs                                                             40.41               \n",
       "2763         Poissons Pelagiques                                               5.01               \n",
       "2555         Soja                                                             14.88               \n",
       "\n",
       "Element                           Disponibilité de protéines en quantité (g/personne/jour)  \\\n",
       "Product_code Product                                                                         \n",
       "2514         Maïs                                                            111.70          \n",
       "2763         Poissons Pelagiques                                              15.67          \n",
       "2555         Soja                                                             33.02          \n",
       "\n",
       "Element                           Disponibilité intérieure (milliers de tonnes)  \\\n",
       "Product_code Product                                                              \n",
       "2514         Maïs                                                      701068.0   \n",
       "2763         Poissons Pelagiques                                        16094.0   \n",
       "2555         Soja                                                      159570.0   \n",
       "\n",
       "Element                           Exportations - Quantité (milliers de tonnes)  \\\n",
       "Product_code Product                                                             \n",
       "2514         Maïs                                                      31260.0   \n",
       "2763         Poissons Pelagiques                                        4602.0   \n",
       "2555         Soja                                                      41267.0   \n",
       "\n",
       "Element                           Importations - Quantité (milliers de tonnes)  \\\n",
       "Product_code Product                                                             \n",
       "2514         Maïs                                                     102451.0   \n",
       "2763         Poissons Pelagiques                                       13445.0   \n",
       "2555         Soja                                                      93455.0   \n",
       "\n",
       "Element                           Nourriture (milliers de tonnes)  \\\n",
       "Product_code Product                                                \n",
       "2514         Maïs                                         55918.0   \n",
       "2763         Poissons Pelagiques                           3937.0   \n",
       "2555         Soja                                          7510.0   \n",
       "\n",
       "Element                           Pertes   (milliers de tonnes)  \\\n",
       "Product_code Product                                              \n",
       "2514         Maïs                                       18268.0   \n",
       "2763         Poissons Pelagiques                            0.0   \n",
       "2555         Soja                                        1777.0   \n",
       "\n",
       "Element                           Production  (milliers de tonnes)  \\\n",
       "Product_code Product                                                 \n",
       "2514         Maïs                                         675213.0   \n",
       "2763         Poissons Pelagiques                            7081.0   \n",
       "2555         Soja                                         107388.0   \n",
       "\n",
       "Element                           Semences   (milliers de tonnes)  \\\n",
       "Product_code Product                                                \n",
       "2514         Maïs                                          3148.0   \n",
       "2763         Poissons Pelagiques                              0.0   \n",
       "2555         Soja                                          3596.0   \n",
       "\n",
       "Element                           Traitement   (milliers de tonnes)  \\\n",
       "Product_code Product                                                  \n",
       "2514         Maïs                                           38735.0   \n",
       "2763         Poissons Pelagiques                                0.0   \n",
       "2555         Soja                                          132454.0   \n",
       "\n",
       "Element                           Variation de stock   (milliers de tonnes)  \\\n",
       "Product_code Product                                                          \n",
       "2514         Maïs                                                  -45339.0   \n",
       "2763         Poissons Pelagiques                                      172.0   \n",
       "2555         Soja                                                      -4.0   \n",
       "\n",
       "Element                           RatioAutresUtil/DispoInterieure  \\\n",
       "Product_code Product                                                \n",
       "2514         Maïs                                        0.259771   \n",
       "2763         Poissons Pelagiques                         0.000000   \n",
       "2555         Soja                                        0.003284   \n",
       "\n",
       "Element                           RatioNourriAnim/nourriture(Ani+Humaine)  \n",
       "Product_code Product                                                       \n",
       "2514         Maïs                                                0.878122  \n",
       "2763         Poissons Pelagiques                                 0.755359  \n",
       "2555         Soja                                                0.646089  "
      ]
     },
     "execution_count": 273,
     "metadata": {},
     "output_type": "execute_result"
    }
   ],
   "source": [
    "df_popVegAniSous200PPivT2"
   ]
  },
  {
   "cell_type": "code",
   "execution_count": 274,
   "metadata": {
    "scrolled": true
   },
   "outputs": [
    {
     "data": {
      "text/html": [
       "<div>\n",
       "<style scoped>\n",
       "    .dataframe tbody tr th:only-of-type {\n",
       "        vertical-align: middle;\n",
       "    }\n",
       "\n",
       "    .dataframe tbody tr th {\n",
       "        vertical-align: top;\n",
       "    }\n",
       "\n",
       "    .dataframe thead th {\n",
       "        text-align: right;\n",
       "    }\n",
       "</style>\n",
       "<table border=\"1\" class=\"dataframe\">\n",
       "  <thead>\n",
       "    <tr style=\"text-align: right;\">\n",
       "      <th></th>\n",
       "      <th>Element</th>\n",
       "      <th>RatioNourriAnim/nourriture(Ani+Humaine)</th>\n",
       "    </tr>\n",
       "    <tr>\n",
       "      <th>Product_code</th>\n",
       "      <th>Product</th>\n",
       "      <th></th>\n",
       "    </tr>\n",
       "  </thead>\n",
       "  <tbody>\n",
       "    <tr>\n",
       "      <th>2514</th>\n",
       "      <th>Maïs</th>\n",
       "      <td>0.878122</td>\n",
       "    </tr>\n",
       "    <tr>\n",
       "      <th>2763</th>\n",
       "      <th>Poissons Pelagiques</th>\n",
       "      <td>0.755359</td>\n",
       "    </tr>\n",
       "    <tr>\n",
       "      <th>2555</th>\n",
       "      <th>Soja</th>\n",
       "      <td>0.646089</td>\n",
       "    </tr>\n",
       "  </tbody>\n",
       "</table>\n",
       "</div>"
      ],
      "text/plain": [
       "Element                           RatioNourriAnim/nourriture(Ani+Humaine)\n",
       "Product_code Product                                                     \n",
       "2514         Maïs                                                0.878122\n",
       "2763         Poissons Pelagiques                                 0.755359\n",
       "2555         Soja                                                0.646089"
      ]
     },
     "execution_count": 274,
     "metadata": {},
     "output_type": "execute_result"
    }
   ],
   "source": [
    "# Les 3 produits avec le plus fort ratio entre entre la quantité destinée à la nourriture animale et la quantité destinée à la nourriture (animale + humaine) sont :\n",
    "df_RatioTop3AliNourri200 = df_popVegAniSous200PPivT2.iloc[0:3, 16:17]\n",
    "# df_RatioTop3AliNourri200.head(3)\n",
    "df_RatioTop3AliNourri200"
   ]
  },
  {
   "cell_type": "code",
   "execution_count": 275,
   "metadata": {},
   "outputs": [
    {
     "data": {
      "image/png": "[encoded data removed]",
      "text/plain": [
       "<Figure size 432x288 with 1 Axes>"
      ]
     },
     "metadata": {
      "needs_background": "light"
     },
     "output_type": "display_data"
    }
   ],
   "source": [
    "df = pd.DataFrame({'Produit':['Maïs', 'Poissons Pelagiques', 'Soja'], 'ratio Nourriture Animale / Nourriture Animale+Nourriture Humaine':[0.878122, 0.755359, 0.646089]})\n",
    "ax = df.plot.bar(x='Produit', y='ratio Nourriture Animale / Nourriture Animale+Nourriture Humaine',color='#3EAE2D',rot=0)\n",
    "plt.title('Top 3 des produits à fort ratio', color='blue')\n",
    "plt.show()"
   ]
  },
  {
   "cell_type": "markdown",
   "metadata": {},
   "source": [
    "## Question 13 : Combien de tonnes de céréales pourraient être libérées si les USA diminuaient leur production de produits animaux de 10% ?"
   ]
  },
  {
   "cell_type": "code",
   "execution_count": 276,
   "metadata": {
    "scrolled": true
   },
   "outputs": [
    {
     "data": {
      "text/plain": [
       "array(['Production', 'Importations - Quantité',\n",
       "       'Disponibilité intérieure', 'Nourriture',\n",
       "       'Disponibilité alimentaire en quantité (kg/personne/an)',\n",
       "       'Disponibilité alimentaire (Kcal/personne/jour)',\n",
       "       'Disponibilité de protéines en quantité (g/personne/jour)',\n",
       "       'Disponibilité de matière grasse en quantité (g/personne/jour)',\n",
       "       'Semences', 'Pertes', 'Exportations - Quantité',\n",
       "       'Aliments pour animaux', 'Autres utilisations (non alimentaire)',\n",
       "       'Variation de stock', 'Traitement'], dtype=object)"
      ]
     },
     "execution_count": 276,
     "metadata": {},
     "output_type": "execute_result"
    }
   ],
   "source": [
    "df_popVegAniSous['Element'].unique()"
   ]
  },
  {
   "cell_type": "code",
   "execution_count": 277,
   "metadata": {},
   "outputs": [],
   "source": [
    "# Si les USA diminuent leur production animale de 10%, on peut supposer que l'alimentation animale végétale diminue d'autant\n",
    "# On calcule donc la quantité de céréales (norme FAO) représentée par cette diminution de l'alimentation animale\n",
    "# Récupération des données relatives aux USA :\n",
    "pays_filter = df_popVegAniSous['Country_code'] == 231\n",
    "elementFilter = df_popVegAniSous['Element'] == 'Aliments pour animaux'\n",
    "originFilter = df_popVegAniSous['is_cereal'] == 'True'\n",
    "df_aliAnicereUsa = df_popVegAniSous[pays_filter & elementFilter & originFilter]"
   ]
  },
  {
   "cell_type": "code",
   "execution_count": 278,
   "metadata": {},
   "outputs": [],
   "source": [
    "# Total alimentation céréales animaux des USA en milliers de tonnes: \n",
    "productAniUsa = df_aliAnicereUsa['Value'].sum()"
   ]
  },
  {
   "cell_type": "code",
   "execution_count": 279,
   "metadata": {},
   "outputs": [],
   "source": [
    "# 10% du total alimentation céréales animaux des USA en milliers de tonnes :\n",
    "usaProdReduite = productAniUsa *0.1"
   ]
  },
  {
   "cell_type": "code",
   "execution_count": 280,
   "metadata": {
    "scrolled": false
   },
   "outputs": [
    {
     "name": "stdout",
     "output_type": "stream",
     "text": [
      "La quantité de céréales pouvant être libérées si les USA diminuaient leur production de produits animaux de 10% est  de : 14009600.0 tonnes\n"
     ]
    }
   ],
   "source": [
    "print('La quantité de céréales pouvant être libérées si les USA diminuaient leur production de produits animaux de 10% est  de :', usaProdReduite * 1000,'tonnes')"
   ]
  },
  {
   "cell_type": "code",
   "execution_count": 281,
   "metadata": {},
   "outputs": [],
   "source": [
    "# Récupération des ratios pour les USA (dataframe 'df_ratio_EnergyPoids')\n",
    "pays_filter = df_ratio_EnergyPoids['Country_code'] == 231\n",
    "originFilter = df_ratio_EnergyPoids['Origine'] == 'Végétal'\n",
    "df_ratioCereUsa = df_ratio_EnergyPoids[pays_filter & originFilter]"
   ]
  },
  {
   "cell_type": "code",
   "execution_count": 282,
   "metadata": {
    "scrolled": true
   },
   "outputs": [
    {
     "data": {
      "text/plain": [
       "(55, 8)"
      ]
     },
     "execution_count": 282,
     "metadata": {},
     "output_type": "execute_result"
    }
   ],
   "source": [
    "df_ratioCereUsa.shape"
   ]
  },
  {
   "cell_type": "code",
   "execution_count": 283,
   "metadata": {},
   "outputs": [
    {
     "data": {
      "text/plain": [
       "Index(['Country_code', 'Country', 'Product_code', 'Product', 'Year', 'Origine',\n",
       "       'Disponibilite_pop_kcal', 'Ratio_Kcal_Kg'],\n",
       "      dtype='object')"
      ]
     },
     "execution_count": 283,
     "metadata": {},
     "output_type": "execute_result"
    }
   ],
   "source": [
    "df_ratioCereUsa.columns"
   ]
  },
  {
   "cell_type": "code",
   "execution_count": 284,
   "metadata": {},
   "outputs": [
    {
     "data": {
      "text/plain": [
       "(8, 12)"
      ]
     },
     "execution_count": 284,
     "metadata": {},
     "output_type": "execute_result"
    }
   ],
   "source": [
    "df_aliAnicereUsa.shape"
   ]
  },
  {
   "cell_type": "code",
   "execution_count": 285,
   "metadata": {},
   "outputs": [],
   "source": [
    "df_ratio10Usa = pd.merge(df_ratioCereUsa, df_aliAnicereUsa, how='right')"
   ]
  },
  {
   "cell_type": "code",
   "execution_count": 286,
   "metadata": {},
   "outputs": [
    {
     "data": {
      "text/plain": [
       "Country_code              0\n",
       "Country                   0\n",
       "Product_code              0\n",
       "Product                   0\n",
       "Year                      0\n",
       "Origine                   0\n",
       "Disponibilite_pop_kcal    1\n",
       "Ratio_Kcal_Kg             1\n",
       "is_sousAlim               0\n",
       "Element_code              0\n",
       "Element                   0\n",
       "Unity                     0\n",
       "Value                     0\n",
       "is_cereal                 0\n",
       "dtype: int64"
      ]
     },
     "execution_count": 286,
     "metadata": {},
     "output_type": "execute_result"
    }
   ],
   "source": [
    "df_ratio10Usa.isna().sum()"
   ]
  },
  {
   "cell_type": "code",
   "execution_count": 287,
   "metadata": {},
   "outputs": [],
   "source": [
    "# Suppression des duplicatas\n",
    "df_ratio10Usa.duplicated().sum()\n",
    "df_ratio10Usa = df_ratio10Usa.drop_duplicates()"
   ]
  },
  {
   "cell_type": "code",
   "execution_count": 288,
   "metadata": {},
   "outputs": [],
   "source": [
    "# Suppression des NaN:\n",
    "df_ratio10Usa = df_ratio10Usa.dropna(axis=0)"
   ]
  },
  {
   "cell_type": "code",
   "execution_count": 289,
   "metadata": {
    "scrolled": true
   },
   "outputs": [
    {
     "data": {
      "text/plain": [
       "(7, 14)"
      ]
     },
     "execution_count": 289,
     "metadata": {},
     "output_type": "execute_result"
    }
   ],
   "source": [
    "df_ratio10Usa.shape"
   ]
  },
  {
   "cell_type": "code",
   "execution_count": 290,
   "metadata": {},
   "outputs": [],
   "source": [
    "# Application du ratio pour avoir l'équivalent en kcal\n",
    "df_ratio10Usa['USA_KcalDispo10%'] = df_ratio10Usa['Ratio_Kcal_Kg'] * df_ratio10Usa['Value'] * 1000000 * 0.1 "
   ]
  },
  {
   "cell_type": "code",
   "execution_count": 291,
   "metadata": {},
   "outputs": [
    {
     "data": {
      "text/plain": [
       "(7, 15)"
      ]
     },
     "execution_count": 291,
     "metadata": {},
     "output_type": "execute_result"
    }
   ],
   "source": [
    "df_ratio10Usa.shape"
   ]
  },
  {
   "cell_type": "code",
   "execution_count": 292,
   "metadata": {},
   "outputs": [
    {
     "name": "stdout",
     "output_type": "stream",
     "text": [
      "La quantité totale de la part de l'alimentation animale (10%) est de 38474074325000.0 Kcal\n"
     ]
    }
   ],
   "source": [
    "# Quantité totale de la part de l'alimentation animale (10%) en Kcal\n",
    "usaProdReduit10 = df_ratio10Usa['USA_KcalDispo10%'].sum()\n",
    "print('La quantité totale de la part de l\\'alimentation animale (10%) est de',usaProdReduit10, 'Kcal')"
   ]
  },
  {
   "cell_type": "code",
   "execution_count": 293,
   "metadata": {},
   "outputs": [],
   "source": [
    "# Nb d'humains pouvant être nourris (kcal):\n",
    "Nb_HumNourr10Usa = round((usaProdReduit10 ) / (APPORT_JOUR_KCAL * NB_JOURS_ANNEE),2)"
   ]
  },
  {
   "cell_type": "code",
   "execution_count": 294,
   "metadata": {},
   "outputs": [
    {
     "name": "stdout",
     "output_type": "stream",
     "text": [
      "Le nombre d'humains pouvant être nourris est de 43920176.17 individus\n"
     ]
    }
   ],
   "source": [
    "print('Le nombre d\\'humains pouvant être nourris est de',Nb_HumNourr10Usa, 'individus') "
   ]
  },
  {
   "cell_type": "code",
   "execution_count": 295,
   "metadata": {},
   "outputs": [
    {
     "name": "stdout",
     "output_type": "stream",
     "text": [
      "Si les USA diminuaient leur production de produits animaux de 10%, 0.63 % de la population mondiale pourrait être    nourris\n"
     ]
    }
   ],
   "source": [
    "print( 'Si les USA diminuaient leur production de produits animaux de 10%,',round(Nb_HumNourr10Usa / POP_MONDIALE_FAO *100,2),'% de la population mondiale pourrait être    nourris')"
   ]
  },
  {
   "cell_type": "markdown",
   "metadata": {},
   "source": [
    "## Question 14 : En Thaïlande, quelle proportion de manioc est exportée ? Quelle est la proportion de personnes en sous-nutrition?"
   ]
  },
  {
   "cell_type": "markdown",
   "metadata": {},
   "source": [
    "### 14.1 Proportion de manioc exportée en Thaïlande : "
   ]
  },
  {
   "cell_type": "code",
   "execution_count": 296,
   "metadata": {},
   "outputs": [
    {
     "data": {
      "text/plain": [
       "array(['Production', 'Importations - Quantité',\n",
       "       'Disponibilité intérieure', 'Nourriture',\n",
       "       'Disponibilité alimentaire en quantité (kg/personne/an)',\n",
       "       'Disponibilité alimentaire (Kcal/personne/jour)',\n",
       "       'Disponibilité de protéines en quantité (g/personne/jour)',\n",
       "       'Disponibilité de matière grasse en quantité (g/personne/jour)',\n",
       "       'Semences', 'Pertes', 'Exportations - Quantité',\n",
       "       'Aliments pour animaux', 'Autres utilisations (non alimentaire)',\n",
       "       'Variation de stock', 'Traitement'], dtype=object)"
      ]
     },
     "execution_count": 296,
     "metadata": {},
     "output_type": "execute_result"
    }
   ],
   "source": [
    "df_popVegAniSous.Element.unique()"
   ]
  },
  {
   "cell_type": "code",
   "execution_count": 297,
   "metadata": {},
   "outputs": [],
   "source": [
    "# Récupération des données relatives à la Thaïlande:\n",
    "pays_filter = df_popVegAniSous['Country_code'] == 216\n",
    "elementFilter = df_popVegAniSous['Element'] == 'Exportations - Quantité'\n",
    "productFilter = df_popVegAniSous['Product_code'] == 2532\n",
    "df_thailandeexp = df_popVegAniSous[pays_filter & elementFilter  & productFilter]"
   ]
  },
  {
   "cell_type": "code",
   "execution_count": 298,
   "metadata": {},
   "outputs": [],
   "source": [
    "quantManiocExpoThai = df_thailandeexp.loc[129516, 'Value']"
   ]
  },
  {
   "cell_type": "code",
   "execution_count": 299,
   "metadata": {},
   "outputs": [
    {
     "data": {
      "text/plain": [
       "numpy.float64"
      ]
     },
     "execution_count": 299,
     "metadata": {},
     "output_type": "execute_result"
    }
   ],
   "source": [
    "type(quantManiocExpoThai)"
   ]
  },
  {
   "cell_type": "code",
   "execution_count": 300,
   "metadata": {},
   "outputs": [
    {
     "data": {
      "text/plain": [
       "array(['Production', 'Importations - Quantité',\n",
       "       'Disponibilité intérieure', 'Nourriture',\n",
       "       'Disponibilité alimentaire en quantité (kg/personne/an)',\n",
       "       'Disponibilité alimentaire (Kcal/personne/jour)',\n",
       "       'Disponibilité de protéines en quantité (g/personne/jour)',\n",
       "       'Disponibilité de matière grasse en quantité (g/personne/jour)',\n",
       "       'Semences', 'Pertes', 'Exportations - Quantité',\n",
       "       'Aliments pour animaux', 'Autres utilisations (non alimentaire)',\n",
       "       'Variation de stock', 'Traitement'], dtype=object)"
      ]
     },
     "execution_count": 300,
     "metadata": {},
     "output_type": "execute_result"
    }
   ],
   "source": [
    "df_popVegAniSous['Element'].unique()"
   ]
  },
  {
   "cell_type": "code",
   "execution_count": 301,
   "metadata": {},
   "outputs": [],
   "source": [
    "# Récupération des données relatives à la Thaïlande:\n",
    "pays_filter = df_popVegAniSous['Country_code'] == 216\n",
    "elementFilter = df_popVegAniSous['Element'] == 'Production'\n",
    "productFilter = df_popVegAniSous['Product_code'] == 2532\n",
    "df_ManiocTotal = df_popVegAniSous[pays_filter & elementFilter & productFilter]"
   ]
  },
  {
   "cell_type": "code",
   "execution_count": 302,
   "metadata": {
    "scrolled": true
   },
   "outputs": [
    {
     "data": {
      "text/html": [
       "<div>\n",
       "<style scoped>\n",
       "    .dataframe tbody tr th:only-of-type {\n",
       "        vertical-align: middle;\n",
       "    }\n",
       "\n",
       "    .dataframe tbody tr th {\n",
       "        vertical-align: top;\n",
       "    }\n",
       "\n",
       "    .dataframe thead th {\n",
       "        text-align: right;\n",
       "    }\n",
       "</style>\n",
       "<table border=\"1\" class=\"dataframe\">\n",
       "  <thead>\n",
       "    <tr style=\"text-align: right;\">\n",
       "      <th></th>\n",
       "      <th>Country_code</th>\n",
       "      <th>Country</th>\n",
       "      <th>is_sousAlim</th>\n",
       "      <th>Element_code</th>\n",
       "      <th>Element</th>\n",
       "      <th>Product_code</th>\n",
       "      <th>Product</th>\n",
       "      <th>Year</th>\n",
       "      <th>Unity</th>\n",
       "      <th>Value</th>\n",
       "      <th>Origine</th>\n",
       "      <th>is_cereal</th>\n",
       "    </tr>\n",
       "  </thead>\n",
       "  <tbody>\n",
       "    <tr>\n",
       "      <th>129513</th>\n",
       "      <td>216</td>\n",
       "      <td>Thaïlande</td>\n",
       "      <td>True</td>\n",
       "      <td>5511</td>\n",
       "      <td>Production</td>\n",
       "      <td>2532</td>\n",
       "      <td>Manioc</td>\n",
       "      <td>2013</td>\n",
       "      <td>Milliers de tonnes</td>\n",
       "      <td>30228.0</td>\n",
       "      <td>Végétal</td>\n",
       "      <td>False</td>\n",
       "    </tr>\n",
       "  </tbody>\n",
       "</table>\n",
       "</div>"
      ],
      "text/plain": [
       "        Country_code    Country is_sousAlim  Element_code     Element  \\\n",
       "129513           216  Thaïlande        True          5511  Production   \n",
       "\n",
       "        Product_code Product  Year               Unity    Value  Origine  \\\n",
       "129513          2532  Manioc  2013  Milliers de tonnes  30228.0  Végétal   \n",
       "\n",
       "       is_cereal  \n",
       "129513     False  "
      ]
     },
     "execution_count": 302,
     "metadata": {},
     "output_type": "execute_result"
    }
   ],
   "source": [
    "df_ManiocTotal.head()"
   ]
  },
  {
   "cell_type": "code",
   "execution_count": 303,
   "metadata": {},
   "outputs": [],
   "source": [
    "maniocTotal = df_ManiocTotal.loc[129513, 'Value']"
   ]
  },
  {
   "cell_type": "code",
   "execution_count": 304,
   "metadata": {},
   "outputs": [
    {
     "name": "stdout",
     "output_type": "stream",
     "text": [
      "La proportion de manioc exportée par la Thaïlande est de  83.0 %\n"
     ]
    }
   ],
   "source": [
    "print('La proportion de manioc exportée par la Thaïlande est de ', round((quantManiocExpoThai / maniocTotal),2) * 100,'%')"
   ]
  },
  {
   "cell_type": "markdown",
   "metadata": {},
   "source": [
    "### 14.2 Proportion de personnes en sous-nutrition en Thaïlande : "
   ]
  },
  {
   "cell_type": "code",
   "execution_count": 305,
   "metadata": {},
   "outputs": [],
   "source": [
    "# Création d'un filtre sur le dataframe 'df_sousAlimentation' pour n'avoir que les données de 2013\n",
    "df_sousAlimFiltYear = df_sousAlimentation['Year']== 2013\n",
    "df_sousAlimFao2013 = df_sousAlimentation[df_sousAlimFiltYear]"
   ]
  },
  {
   "cell_type": "code",
   "execution_count": 306,
   "metadata": {},
   "outputs": [],
   "source": [
    "# Récupération des valeurs de Thaïlande avec loc :\n",
    "df_thaïlandePopSou = df_sousAlimFao2013.loc[df_sousAlimFao2013.Country_code == 216, 'Value']"
   ]
  },
  {
   "cell_type": "code",
   "execution_count": 307,
   "metadata": {},
   "outputs": [],
   "source": [
    "# Fusion des dataframes 'df_population' et 'df_sousAlimFao2013' pour avoir la pop totale dans 'df_sousAlimFao2013'\n",
    "df_popTotalSou = pd.merge(df_population, df_sousAlimFao2013)"
   ]
  },
  {
   "cell_type": "code",
   "execution_count": 308,
   "metadata": {},
   "outputs": [
    {
     "data": {
      "text/plain": [
       "Index(['Country_code', 'Country', 'Population', 'Product_code', 'Product',\n",
       "       'Year', 'Unity', 'Value', 'is_sousAlim'],\n",
       "      dtype='object')"
      ]
     },
     "execution_count": 308,
     "metadata": {},
     "output_type": "execute_result"
    }
   ],
   "source": [
    "df_popTotalSou.columns"
   ]
  },
  {
   "cell_type": "code",
   "execution_count": 309,
   "metadata": {},
   "outputs": [],
   "source": [
    "# Récupération des données relatives à la Thaïlande avec le dataframe 'df_sousAlimFao2013':\n",
    "df_ThaïpopTotalSou = df_popTotalSou.loc[df_popTotalSou.Country == 'Thaïlande', :]"
   ]
  },
  {
   "cell_type": "code",
   "execution_count": 310,
   "metadata": {},
   "outputs": [
    {
     "data": {
      "text/html": [
       "<div>\n",
       "<style scoped>\n",
       "    .dataframe tbody tr th:only-of-type {\n",
       "        vertical-align: middle;\n",
       "    }\n",
       "\n",
       "    .dataframe tbody tr th {\n",
       "        vertical-align: top;\n",
       "    }\n",
       "\n",
       "    .dataframe thead th {\n",
       "        text-align: right;\n",
       "    }\n",
       "</style>\n",
       "<table border=\"1\" class=\"dataframe\">\n",
       "  <thead>\n",
       "    <tr style=\"text-align: right;\">\n",
       "      <th></th>\n",
       "      <th>Country_code</th>\n",
       "      <th>Country</th>\n",
       "      <th>Population</th>\n",
       "      <th>Product_code</th>\n",
       "      <th>Product</th>\n",
       "      <th>Year</th>\n",
       "      <th>Unity</th>\n",
       "      <th>Value</th>\n",
       "      <th>is_sousAlim</th>\n",
       "    </tr>\n",
       "  </thead>\n",
       "  <tbody>\n",
       "    <tr>\n",
       "      <th>86</th>\n",
       "      <td>216</td>\n",
       "      <td>Thaïlande</td>\n",
       "      <td>67011000</td>\n",
       "      <td>210011</td>\n",
       "      <td>Nombre de personnes sous-alimentées (millions)...</td>\n",
       "      <td>2013</td>\n",
       "      <td>millions</td>\n",
       "      <td>5.6</td>\n",
       "      <td>True</td>\n",
       "    </tr>\n",
       "  </tbody>\n",
       "</table>\n",
       "</div>"
      ],
      "text/plain": [
       "    Country_code    Country  Population  Product_code  \\\n",
       "86           216  Thaïlande    67011000        210011   \n",
       "\n",
       "                                              Product  Year     Unity  Value  \\\n",
       "86  Nombre de personnes sous-alimentées (millions)...  2013  millions    5.6   \n",
       "\n",
       "   is_sousAlim  \n",
       "86        True  "
      ]
     },
     "execution_count": 310,
     "metadata": {},
     "output_type": "execute_result"
    }
   ],
   "source": [
    "df_ThaïpopTotalSou"
   ]
  },
  {
   "cell_type": "code",
   "execution_count": 311,
   "metadata": {},
   "outputs": [],
   "source": [
    "thaïlandePopTot = df_ThaïpopTotalSou.loc[86, 'Population'] "
   ]
  },
  {
   "cell_type": "code",
   "execution_count": 312,
   "metadata": {},
   "outputs": [
    {
     "name": "stdout",
     "output_type": "stream",
     "text": [
      "La population totale en Thaïlande est de  67011000 individus\n"
     ]
    }
   ],
   "source": [
    "print(\"La population totale en Thaïlande est de \",thaïlandePopTot, \"individus\")"
   ]
  },
  {
   "cell_type": "code",
   "execution_count": 313,
   "metadata": {},
   "outputs": [],
   "source": [
    "thaïlandePopSou = df_ThaïpopTotalSou.loc[86, 'Value'] * 1000000"
   ]
  },
  {
   "cell_type": "code",
   "execution_count": 314,
   "metadata": {},
   "outputs": [
    {
     "name": "stdout",
     "output_type": "stream",
     "text": [
      " Le nombre d'habitants souffrant de sous-alimentation en Thaïlaande est de  5600000.0 personnes\n"
     ]
    }
   ],
   "source": [
    "print(\" Le nombre d'habitants souffrant de sous-alimentation en Thaïlaande est de \",thaïlandePopSou, \"personnes\")"
   ]
  },
  {
   "cell_type": "code",
   "execution_count": 315,
   "metadata": {},
   "outputs": [],
   "source": [
    "# Proportion en Thaïlande de personnes en sous nutrition:\n",
    "ThaipopSousproportion = round(thaïlandePopSou / thaïlandePopTot * 100,2)"
   ]
  },
  {
   "cell_type": "code",
   "execution_count": 316,
   "metadata": {},
   "outputs": [
    {
     "data": {
      "text/plain": [
       "numpy.float64"
      ]
     },
     "execution_count": 316,
     "metadata": {},
     "output_type": "execute_result"
    }
   ],
   "source": [
    "# 'ThaipopSousproportion' est de type Serie : chaque valeur est associée à un index\n",
    "type(ThaipopSousproportion)"
   ]
  },
  {
   "cell_type": "code",
   "execution_count": 317,
   "metadata": {},
   "outputs": [
    {
     "name": "stdout",
     "output_type": "stream",
     "text": [
      "En Thaïlande, la proportion de personnes en sous nutrition est de 8.36 %\n"
     ]
    }
   ],
   "source": [
    "print('En Thaïlande, la proportion de personnes en sous nutrition est de', ThaipopSousproportion, '%')"
   ]
  },
  {
   "cell_type": "code",
   "execution_count": null,
   "metadata": {},
   "outputs": [],
   "source": []
  },
  {
   "cell_type": "code",
   "execution_count": null,
   "metadata": {},
   "outputs": [],
   "source": []
  },
  {
   "cell_type": "code",
   "execution_count": null,
   "metadata": {},
   "outputs": [],
   "source": []
  },
  {
   "cell_type": "code",
   "execution_count": null,
   "metadata": {},
   "outputs": [],
   "source": []
  },
  {
   "cell_type": "code",
   "execution_count": null,
   "metadata": {},
   "outputs": [],
   "source": []
  }
 ],
 "metadata": {
  "kernelspec": {
   "display_name": "Python 3",
   "language": "python",
   "name": "python3"
  },
  "language_info": {
   "codemirror_mode": {
    "name": "ipython",
    "version": 3
   },
   "file_extension": ".py",
   "mimetype": "text/x-python",
   "name": "python",
   "nbconvert_exporter": "python",
   "pygments_lexer": "ipython3",
   "version": "3.8.5"
  }
 },
 "nbformat": 4,
 "nbformat_minor": 4
}
